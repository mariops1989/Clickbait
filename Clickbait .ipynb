{
  "nbformat": 4,
  "nbformat_minor": 0,
  "metadata": {
    "colab": {
      "name": "Clickbait.ipynb",
      "provenance": [],
      "collapsed_sections": []
    },
    "kernelspec": {
      "name": "python3",
      "display_name": "Python 3"
    },
    "language_info": {
      "name": "python"
    },
    "accelerator": "GPU",
    "widgets": {
      "application/vnd.jupyter.widget-state+json": {
        "52616c542be94c6e9c8bed4f33dc10c2": {
          "model_module": "@jupyter-widgets/controls",
          "model_name": "HBoxModel",
          "model_module_version": "1.5.0",
          "state": {
            "_dom_classes": [],
            "_model_module": "@jupyter-widgets/controls",
            "_model_module_version": "1.5.0",
            "_model_name": "HBoxModel",
            "_view_count": null,
            "_view_module": "@jupyter-widgets/controls",
            "_view_module_version": "1.5.0",
            "_view_name": "HBoxView",
            "box_style": "",
            "children": [
              "IPY_MODEL_402c2b27c2a64590a67c3d8efbd01490",
              "IPY_MODEL_6f1ef3b4c5674babbc810f52d111f96a",
              "IPY_MODEL_4e980e68b4784081a6ca71ef02dc01b8"
            ],
            "layout": "IPY_MODEL_dbeb729841644197a62c71fab606b016"
          }
        },
        "402c2b27c2a64590a67c3d8efbd01490": {
          "model_module": "@jupyter-widgets/controls",
          "model_name": "HTMLModel",
          "model_module_version": "1.5.0",
          "state": {
            "_dom_classes": [],
            "_model_module": "@jupyter-widgets/controls",
            "_model_module_version": "1.5.0",
            "_model_name": "HTMLModel",
            "_view_count": null,
            "_view_module": "@jupyter-widgets/controls",
            "_view_module_version": "1.5.0",
            "_view_name": "HTMLView",
            "description": "",
            "description_tooltip": null,
            "layout": "IPY_MODEL_8c768fb8a9a7452198e2ce5ab819bcd5",
            "placeholder": "​",
            "style": "IPY_MODEL_a18a7678758140d39db48d855ca1e616",
            "value": "Downloading: 100%"
          }
        },
        "6f1ef3b4c5674babbc810f52d111f96a": {
          "model_module": "@jupyter-widgets/controls",
          "model_name": "FloatProgressModel",
          "model_module_version": "1.5.0",
          "state": {
            "_dom_classes": [],
            "_model_module": "@jupyter-widgets/controls",
            "_model_module_version": "1.5.0",
            "_model_name": "FloatProgressModel",
            "_view_count": null,
            "_view_module": "@jupyter-widgets/controls",
            "_view_module_version": "1.5.0",
            "_view_name": "ProgressView",
            "bar_style": "success",
            "description": "",
            "description_tooltip": null,
            "layout": "IPY_MODEL_059d5f26965a4bddb9b863e66397fa6b",
            "max": 231508,
            "min": 0,
            "orientation": "horizontal",
            "style": "IPY_MODEL_d4948fabc91f4e638cd377b8a76d002c",
            "value": 231508
          }
        },
        "4e980e68b4784081a6ca71ef02dc01b8": {
          "model_module": "@jupyter-widgets/controls",
          "model_name": "HTMLModel",
          "model_module_version": "1.5.0",
          "state": {
            "_dom_classes": [],
            "_model_module": "@jupyter-widgets/controls",
            "_model_module_version": "1.5.0",
            "_model_name": "HTMLModel",
            "_view_count": null,
            "_view_module": "@jupyter-widgets/controls",
            "_view_module_version": "1.5.0",
            "_view_name": "HTMLView",
            "description": "",
            "description_tooltip": null,
            "layout": "IPY_MODEL_3ecbbd1219764e6e95a3fbbf109acf25",
            "placeholder": "​",
            "style": "IPY_MODEL_c1f9703383f643af8e2127a8403fabe2",
            "value": " 226k/226k [00:00&lt;00:00, 869kB/s]"
          }
        },
        "dbeb729841644197a62c71fab606b016": {
          "model_module": "@jupyter-widgets/base",
          "model_name": "LayoutModel",
          "model_module_version": "1.2.0",
          "state": {
            "_model_module": "@jupyter-widgets/base",
            "_model_module_version": "1.2.0",
            "_model_name": "LayoutModel",
            "_view_count": null,
            "_view_module": "@jupyter-widgets/base",
            "_view_module_version": "1.2.0",
            "_view_name": "LayoutView",
            "align_content": null,
            "align_items": null,
            "align_self": null,
            "border": null,
            "bottom": null,
            "display": null,
            "flex": null,
            "flex_flow": null,
            "grid_area": null,
            "grid_auto_columns": null,
            "grid_auto_flow": null,
            "grid_auto_rows": null,
            "grid_column": null,
            "grid_gap": null,
            "grid_row": null,
            "grid_template_areas": null,
            "grid_template_columns": null,
            "grid_template_rows": null,
            "height": null,
            "justify_content": null,
            "justify_items": null,
            "left": null,
            "margin": null,
            "max_height": null,
            "max_width": null,
            "min_height": null,
            "min_width": null,
            "object_fit": null,
            "object_position": null,
            "order": null,
            "overflow": null,
            "overflow_x": null,
            "overflow_y": null,
            "padding": null,
            "right": null,
            "top": null,
            "visibility": null,
            "width": null
          }
        },
        "8c768fb8a9a7452198e2ce5ab819bcd5": {
          "model_module": "@jupyter-widgets/base",
          "model_name": "LayoutModel",
          "model_module_version": "1.2.0",
          "state": {
            "_model_module": "@jupyter-widgets/base",
            "_model_module_version": "1.2.0",
            "_model_name": "LayoutModel",
            "_view_count": null,
            "_view_module": "@jupyter-widgets/base",
            "_view_module_version": "1.2.0",
            "_view_name": "LayoutView",
            "align_content": null,
            "align_items": null,
            "align_self": null,
            "border": null,
            "bottom": null,
            "display": null,
            "flex": null,
            "flex_flow": null,
            "grid_area": null,
            "grid_auto_columns": null,
            "grid_auto_flow": null,
            "grid_auto_rows": null,
            "grid_column": null,
            "grid_gap": null,
            "grid_row": null,
            "grid_template_areas": null,
            "grid_template_columns": null,
            "grid_template_rows": null,
            "height": null,
            "justify_content": null,
            "justify_items": null,
            "left": null,
            "margin": null,
            "max_height": null,
            "max_width": null,
            "min_height": null,
            "min_width": null,
            "object_fit": null,
            "object_position": null,
            "order": null,
            "overflow": null,
            "overflow_x": null,
            "overflow_y": null,
            "padding": null,
            "right": null,
            "top": null,
            "visibility": null,
            "width": null
          }
        },
        "a18a7678758140d39db48d855ca1e616": {
          "model_module": "@jupyter-widgets/controls",
          "model_name": "DescriptionStyleModel",
          "model_module_version": "1.5.0",
          "state": {
            "_model_module": "@jupyter-widgets/controls",
            "_model_module_version": "1.5.0",
            "_model_name": "DescriptionStyleModel",
            "_view_count": null,
            "_view_module": "@jupyter-widgets/base",
            "_view_module_version": "1.2.0",
            "_view_name": "StyleView",
            "description_width": ""
          }
        },
        "059d5f26965a4bddb9b863e66397fa6b": {
          "model_module": "@jupyter-widgets/base",
          "model_name": "LayoutModel",
          "model_module_version": "1.2.0",
          "state": {
            "_model_module": "@jupyter-widgets/base",
            "_model_module_version": "1.2.0",
            "_model_name": "LayoutModel",
            "_view_count": null,
            "_view_module": "@jupyter-widgets/base",
            "_view_module_version": "1.2.0",
            "_view_name": "LayoutView",
            "align_content": null,
            "align_items": null,
            "align_self": null,
            "border": null,
            "bottom": null,
            "display": null,
            "flex": null,
            "flex_flow": null,
            "grid_area": null,
            "grid_auto_columns": null,
            "grid_auto_flow": null,
            "grid_auto_rows": null,
            "grid_column": null,
            "grid_gap": null,
            "grid_row": null,
            "grid_template_areas": null,
            "grid_template_columns": null,
            "grid_template_rows": null,
            "height": null,
            "justify_content": null,
            "justify_items": null,
            "left": null,
            "margin": null,
            "max_height": null,
            "max_width": null,
            "min_height": null,
            "min_width": null,
            "object_fit": null,
            "object_position": null,
            "order": null,
            "overflow": null,
            "overflow_x": null,
            "overflow_y": null,
            "padding": null,
            "right": null,
            "top": null,
            "visibility": null,
            "width": null
          }
        },
        "d4948fabc91f4e638cd377b8a76d002c": {
          "model_module": "@jupyter-widgets/controls",
          "model_name": "ProgressStyleModel",
          "model_module_version": "1.5.0",
          "state": {
            "_model_module": "@jupyter-widgets/controls",
            "_model_module_version": "1.5.0",
            "_model_name": "ProgressStyleModel",
            "_view_count": null,
            "_view_module": "@jupyter-widgets/base",
            "_view_module_version": "1.2.0",
            "_view_name": "StyleView",
            "bar_color": null,
            "description_width": ""
          }
        },
        "3ecbbd1219764e6e95a3fbbf109acf25": {
          "model_module": "@jupyter-widgets/base",
          "model_name": "LayoutModel",
          "model_module_version": "1.2.0",
          "state": {
            "_model_module": "@jupyter-widgets/base",
            "_model_module_version": "1.2.0",
            "_model_name": "LayoutModel",
            "_view_count": null,
            "_view_module": "@jupyter-widgets/base",
            "_view_module_version": "1.2.0",
            "_view_name": "LayoutView",
            "align_content": null,
            "align_items": null,
            "align_self": null,
            "border": null,
            "bottom": null,
            "display": null,
            "flex": null,
            "flex_flow": null,
            "grid_area": null,
            "grid_auto_columns": null,
            "grid_auto_flow": null,
            "grid_auto_rows": null,
            "grid_column": null,
            "grid_gap": null,
            "grid_row": null,
            "grid_template_areas": null,
            "grid_template_columns": null,
            "grid_template_rows": null,
            "height": null,
            "justify_content": null,
            "justify_items": null,
            "left": null,
            "margin": null,
            "max_height": null,
            "max_width": null,
            "min_height": null,
            "min_width": null,
            "object_fit": null,
            "object_position": null,
            "order": null,
            "overflow": null,
            "overflow_x": null,
            "overflow_y": null,
            "padding": null,
            "right": null,
            "top": null,
            "visibility": null,
            "width": null
          }
        },
        "c1f9703383f643af8e2127a8403fabe2": {
          "model_module": "@jupyter-widgets/controls",
          "model_name": "DescriptionStyleModel",
          "model_module_version": "1.5.0",
          "state": {
            "_model_module": "@jupyter-widgets/controls",
            "_model_module_version": "1.5.0",
            "_model_name": "DescriptionStyleModel",
            "_view_count": null,
            "_view_module": "@jupyter-widgets/base",
            "_view_module_version": "1.2.0",
            "_view_name": "StyleView",
            "description_width": ""
          }
        },
        "767445c9445a4b37810d533b1af7d468": {
          "model_module": "@jupyter-widgets/controls",
          "model_name": "HBoxModel",
          "model_module_version": "1.5.0",
          "state": {
            "_dom_classes": [],
            "_model_module": "@jupyter-widgets/controls",
            "_model_module_version": "1.5.0",
            "_model_name": "HBoxModel",
            "_view_count": null,
            "_view_module": "@jupyter-widgets/controls",
            "_view_module_version": "1.5.0",
            "_view_name": "HBoxView",
            "box_style": "",
            "children": [
              "IPY_MODEL_6339e34188844b05bea8f0a2c7e59e10",
              "IPY_MODEL_450eacd7194f470bbb2d54ccbf19fdcb",
              "IPY_MODEL_06e1c537b13541129836eb195ce8fe71"
            ],
            "layout": "IPY_MODEL_a888d663d6a94d8794b6509f7393702f"
          }
        },
        "6339e34188844b05bea8f0a2c7e59e10": {
          "model_module": "@jupyter-widgets/controls",
          "model_name": "HTMLModel",
          "model_module_version": "1.5.0",
          "state": {
            "_dom_classes": [],
            "_model_module": "@jupyter-widgets/controls",
            "_model_module_version": "1.5.0",
            "_model_name": "HTMLModel",
            "_view_count": null,
            "_view_module": "@jupyter-widgets/controls",
            "_view_module_version": "1.5.0",
            "_view_name": "HTMLView",
            "description": "",
            "description_tooltip": null,
            "layout": "IPY_MODEL_a4ff6bc3ae494ccd947b0aa57c81e5e7",
            "placeholder": "​",
            "style": "IPY_MODEL_9aea6578899a4e8ea74301e7459954c3",
            "value": "Downloading: 100%"
          }
        },
        "450eacd7194f470bbb2d54ccbf19fdcb": {
          "model_module": "@jupyter-widgets/controls",
          "model_name": "FloatProgressModel",
          "model_module_version": "1.5.0",
          "state": {
            "_dom_classes": [],
            "_model_module": "@jupyter-widgets/controls",
            "_model_module_version": "1.5.0",
            "_model_name": "FloatProgressModel",
            "_view_count": null,
            "_view_module": "@jupyter-widgets/controls",
            "_view_module_version": "1.5.0",
            "_view_name": "ProgressView",
            "bar_style": "success",
            "description": "",
            "description_tooltip": null,
            "layout": "IPY_MODEL_3abb1c5a8730412da9bd2e9a1f410ace",
            "max": 28,
            "min": 0,
            "orientation": "horizontal",
            "style": "IPY_MODEL_60ff306520cd483f848106ca2537cd56",
            "value": 28
          }
        },
        "06e1c537b13541129836eb195ce8fe71": {
          "model_module": "@jupyter-widgets/controls",
          "model_name": "HTMLModel",
          "model_module_version": "1.5.0",
          "state": {
            "_dom_classes": [],
            "_model_module": "@jupyter-widgets/controls",
            "_model_module_version": "1.5.0",
            "_model_name": "HTMLModel",
            "_view_count": null,
            "_view_module": "@jupyter-widgets/controls",
            "_view_module_version": "1.5.0",
            "_view_name": "HTMLView",
            "description": "",
            "description_tooltip": null,
            "layout": "IPY_MODEL_b6be4bb8721c48a0be0240f784d150f6",
            "placeholder": "​",
            "style": "IPY_MODEL_f8158776f21c43158a58107029c1f8c6",
            "value": " 28.0/28.0 [00:00&lt;00:00, 797B/s]"
          }
        },
        "a888d663d6a94d8794b6509f7393702f": {
          "model_module": "@jupyter-widgets/base",
          "model_name": "LayoutModel",
          "model_module_version": "1.2.0",
          "state": {
            "_model_module": "@jupyter-widgets/base",
            "_model_module_version": "1.2.0",
            "_model_name": "LayoutModel",
            "_view_count": null,
            "_view_module": "@jupyter-widgets/base",
            "_view_module_version": "1.2.0",
            "_view_name": "LayoutView",
            "align_content": null,
            "align_items": null,
            "align_self": null,
            "border": null,
            "bottom": null,
            "display": null,
            "flex": null,
            "flex_flow": null,
            "grid_area": null,
            "grid_auto_columns": null,
            "grid_auto_flow": null,
            "grid_auto_rows": null,
            "grid_column": null,
            "grid_gap": null,
            "grid_row": null,
            "grid_template_areas": null,
            "grid_template_columns": null,
            "grid_template_rows": null,
            "height": null,
            "justify_content": null,
            "justify_items": null,
            "left": null,
            "margin": null,
            "max_height": null,
            "max_width": null,
            "min_height": null,
            "min_width": null,
            "object_fit": null,
            "object_position": null,
            "order": null,
            "overflow": null,
            "overflow_x": null,
            "overflow_y": null,
            "padding": null,
            "right": null,
            "top": null,
            "visibility": null,
            "width": null
          }
        },
        "a4ff6bc3ae494ccd947b0aa57c81e5e7": {
          "model_module": "@jupyter-widgets/base",
          "model_name": "LayoutModel",
          "model_module_version": "1.2.0",
          "state": {
            "_model_module": "@jupyter-widgets/base",
            "_model_module_version": "1.2.0",
            "_model_name": "LayoutModel",
            "_view_count": null,
            "_view_module": "@jupyter-widgets/base",
            "_view_module_version": "1.2.0",
            "_view_name": "LayoutView",
            "align_content": null,
            "align_items": null,
            "align_self": null,
            "border": null,
            "bottom": null,
            "display": null,
            "flex": null,
            "flex_flow": null,
            "grid_area": null,
            "grid_auto_columns": null,
            "grid_auto_flow": null,
            "grid_auto_rows": null,
            "grid_column": null,
            "grid_gap": null,
            "grid_row": null,
            "grid_template_areas": null,
            "grid_template_columns": null,
            "grid_template_rows": null,
            "height": null,
            "justify_content": null,
            "justify_items": null,
            "left": null,
            "margin": null,
            "max_height": null,
            "max_width": null,
            "min_height": null,
            "min_width": null,
            "object_fit": null,
            "object_position": null,
            "order": null,
            "overflow": null,
            "overflow_x": null,
            "overflow_y": null,
            "padding": null,
            "right": null,
            "top": null,
            "visibility": null,
            "width": null
          }
        },
        "9aea6578899a4e8ea74301e7459954c3": {
          "model_module": "@jupyter-widgets/controls",
          "model_name": "DescriptionStyleModel",
          "model_module_version": "1.5.0",
          "state": {
            "_model_module": "@jupyter-widgets/controls",
            "_model_module_version": "1.5.0",
            "_model_name": "DescriptionStyleModel",
            "_view_count": null,
            "_view_module": "@jupyter-widgets/base",
            "_view_module_version": "1.2.0",
            "_view_name": "StyleView",
            "description_width": ""
          }
        },
        "3abb1c5a8730412da9bd2e9a1f410ace": {
          "model_module": "@jupyter-widgets/base",
          "model_name": "LayoutModel",
          "model_module_version": "1.2.0",
          "state": {
            "_model_module": "@jupyter-widgets/base",
            "_model_module_version": "1.2.0",
            "_model_name": "LayoutModel",
            "_view_count": null,
            "_view_module": "@jupyter-widgets/base",
            "_view_module_version": "1.2.0",
            "_view_name": "LayoutView",
            "align_content": null,
            "align_items": null,
            "align_self": null,
            "border": null,
            "bottom": null,
            "display": null,
            "flex": null,
            "flex_flow": null,
            "grid_area": null,
            "grid_auto_columns": null,
            "grid_auto_flow": null,
            "grid_auto_rows": null,
            "grid_column": null,
            "grid_gap": null,
            "grid_row": null,
            "grid_template_areas": null,
            "grid_template_columns": null,
            "grid_template_rows": null,
            "height": null,
            "justify_content": null,
            "justify_items": null,
            "left": null,
            "margin": null,
            "max_height": null,
            "max_width": null,
            "min_height": null,
            "min_width": null,
            "object_fit": null,
            "object_position": null,
            "order": null,
            "overflow": null,
            "overflow_x": null,
            "overflow_y": null,
            "padding": null,
            "right": null,
            "top": null,
            "visibility": null,
            "width": null
          }
        },
        "60ff306520cd483f848106ca2537cd56": {
          "model_module": "@jupyter-widgets/controls",
          "model_name": "ProgressStyleModel",
          "model_module_version": "1.5.0",
          "state": {
            "_model_module": "@jupyter-widgets/controls",
            "_model_module_version": "1.5.0",
            "_model_name": "ProgressStyleModel",
            "_view_count": null,
            "_view_module": "@jupyter-widgets/base",
            "_view_module_version": "1.2.0",
            "_view_name": "StyleView",
            "bar_color": null,
            "description_width": ""
          }
        },
        "b6be4bb8721c48a0be0240f784d150f6": {
          "model_module": "@jupyter-widgets/base",
          "model_name": "LayoutModel",
          "model_module_version": "1.2.0",
          "state": {
            "_model_module": "@jupyter-widgets/base",
            "_model_module_version": "1.2.0",
            "_model_name": "LayoutModel",
            "_view_count": null,
            "_view_module": "@jupyter-widgets/base",
            "_view_module_version": "1.2.0",
            "_view_name": "LayoutView",
            "align_content": null,
            "align_items": null,
            "align_self": null,
            "border": null,
            "bottom": null,
            "display": null,
            "flex": null,
            "flex_flow": null,
            "grid_area": null,
            "grid_auto_columns": null,
            "grid_auto_flow": null,
            "grid_auto_rows": null,
            "grid_column": null,
            "grid_gap": null,
            "grid_row": null,
            "grid_template_areas": null,
            "grid_template_columns": null,
            "grid_template_rows": null,
            "height": null,
            "justify_content": null,
            "justify_items": null,
            "left": null,
            "margin": null,
            "max_height": null,
            "max_width": null,
            "min_height": null,
            "min_width": null,
            "object_fit": null,
            "object_position": null,
            "order": null,
            "overflow": null,
            "overflow_x": null,
            "overflow_y": null,
            "padding": null,
            "right": null,
            "top": null,
            "visibility": null,
            "width": null
          }
        },
        "f8158776f21c43158a58107029c1f8c6": {
          "model_module": "@jupyter-widgets/controls",
          "model_name": "DescriptionStyleModel",
          "model_module_version": "1.5.0",
          "state": {
            "_model_module": "@jupyter-widgets/controls",
            "_model_module_version": "1.5.0",
            "_model_name": "DescriptionStyleModel",
            "_view_count": null,
            "_view_module": "@jupyter-widgets/base",
            "_view_module_version": "1.2.0",
            "_view_name": "StyleView",
            "description_width": ""
          }
        },
        "0a0d4e7aad6646b1bda8fa48cb315cdc": {
          "model_module": "@jupyter-widgets/controls",
          "model_name": "HBoxModel",
          "model_module_version": "1.5.0",
          "state": {
            "_dom_classes": [],
            "_model_module": "@jupyter-widgets/controls",
            "_model_module_version": "1.5.0",
            "_model_name": "HBoxModel",
            "_view_count": null,
            "_view_module": "@jupyter-widgets/controls",
            "_view_module_version": "1.5.0",
            "_view_name": "HBoxView",
            "box_style": "",
            "children": [
              "IPY_MODEL_931d5b4dbd1c451e8968ff04ba6e6c25",
              "IPY_MODEL_fae8a052bc9d41a79b4d5217f9bd5496",
              "IPY_MODEL_970541c1a7d146d3a5e9daa365c6d9dd"
            ],
            "layout": "IPY_MODEL_dfb2f955b2ae48e48b06a3c9e532a6cb"
          }
        },
        "931d5b4dbd1c451e8968ff04ba6e6c25": {
          "model_module": "@jupyter-widgets/controls",
          "model_name": "HTMLModel",
          "model_module_version": "1.5.0",
          "state": {
            "_dom_classes": [],
            "_model_module": "@jupyter-widgets/controls",
            "_model_module_version": "1.5.0",
            "_model_name": "HTMLModel",
            "_view_count": null,
            "_view_module": "@jupyter-widgets/controls",
            "_view_module_version": "1.5.0",
            "_view_name": "HTMLView",
            "description": "",
            "description_tooltip": null,
            "layout": "IPY_MODEL_71829661d47c4af8a037de6eb8ccb8de",
            "placeholder": "​",
            "style": "IPY_MODEL_cadcb0b12cf64185afb4481a427d66db",
            "value": "Downloading: 100%"
          }
        },
        "fae8a052bc9d41a79b4d5217f9bd5496": {
          "model_module": "@jupyter-widgets/controls",
          "model_name": "FloatProgressModel",
          "model_module_version": "1.5.0",
          "state": {
            "_dom_classes": [],
            "_model_module": "@jupyter-widgets/controls",
            "_model_module_version": "1.5.0",
            "_model_name": "FloatProgressModel",
            "_view_count": null,
            "_view_module": "@jupyter-widgets/controls",
            "_view_module_version": "1.5.0",
            "_view_name": "ProgressView",
            "bar_style": "success",
            "description": "",
            "description_tooltip": null,
            "layout": "IPY_MODEL_947db59338b44a199f48b10903825d28",
            "max": 570,
            "min": 0,
            "orientation": "horizontal",
            "style": "IPY_MODEL_85f3d480ebd846a196fa4fcb2663694f",
            "value": 570
          }
        },
        "970541c1a7d146d3a5e9daa365c6d9dd": {
          "model_module": "@jupyter-widgets/controls",
          "model_name": "HTMLModel",
          "model_module_version": "1.5.0",
          "state": {
            "_dom_classes": [],
            "_model_module": "@jupyter-widgets/controls",
            "_model_module_version": "1.5.0",
            "_model_name": "HTMLModel",
            "_view_count": null,
            "_view_module": "@jupyter-widgets/controls",
            "_view_module_version": "1.5.0",
            "_view_name": "HTMLView",
            "description": "",
            "description_tooltip": null,
            "layout": "IPY_MODEL_cf8e3b12b9214c959e06eec9ce2f67b1",
            "placeholder": "​",
            "style": "IPY_MODEL_165d14e2dd1c4d94bb0deec0088d01d7",
            "value": " 570/570 [00:00&lt;00:00, 17.2kB/s]"
          }
        },
        "dfb2f955b2ae48e48b06a3c9e532a6cb": {
          "model_module": "@jupyter-widgets/base",
          "model_name": "LayoutModel",
          "model_module_version": "1.2.0",
          "state": {
            "_model_module": "@jupyter-widgets/base",
            "_model_module_version": "1.2.0",
            "_model_name": "LayoutModel",
            "_view_count": null,
            "_view_module": "@jupyter-widgets/base",
            "_view_module_version": "1.2.0",
            "_view_name": "LayoutView",
            "align_content": null,
            "align_items": null,
            "align_self": null,
            "border": null,
            "bottom": null,
            "display": null,
            "flex": null,
            "flex_flow": null,
            "grid_area": null,
            "grid_auto_columns": null,
            "grid_auto_flow": null,
            "grid_auto_rows": null,
            "grid_column": null,
            "grid_gap": null,
            "grid_row": null,
            "grid_template_areas": null,
            "grid_template_columns": null,
            "grid_template_rows": null,
            "height": null,
            "justify_content": null,
            "justify_items": null,
            "left": null,
            "margin": null,
            "max_height": null,
            "max_width": null,
            "min_height": null,
            "min_width": null,
            "object_fit": null,
            "object_position": null,
            "order": null,
            "overflow": null,
            "overflow_x": null,
            "overflow_y": null,
            "padding": null,
            "right": null,
            "top": null,
            "visibility": null,
            "width": null
          }
        },
        "71829661d47c4af8a037de6eb8ccb8de": {
          "model_module": "@jupyter-widgets/base",
          "model_name": "LayoutModel",
          "model_module_version": "1.2.0",
          "state": {
            "_model_module": "@jupyter-widgets/base",
            "_model_module_version": "1.2.0",
            "_model_name": "LayoutModel",
            "_view_count": null,
            "_view_module": "@jupyter-widgets/base",
            "_view_module_version": "1.2.0",
            "_view_name": "LayoutView",
            "align_content": null,
            "align_items": null,
            "align_self": null,
            "border": null,
            "bottom": null,
            "display": null,
            "flex": null,
            "flex_flow": null,
            "grid_area": null,
            "grid_auto_columns": null,
            "grid_auto_flow": null,
            "grid_auto_rows": null,
            "grid_column": null,
            "grid_gap": null,
            "grid_row": null,
            "grid_template_areas": null,
            "grid_template_columns": null,
            "grid_template_rows": null,
            "height": null,
            "justify_content": null,
            "justify_items": null,
            "left": null,
            "margin": null,
            "max_height": null,
            "max_width": null,
            "min_height": null,
            "min_width": null,
            "object_fit": null,
            "object_position": null,
            "order": null,
            "overflow": null,
            "overflow_x": null,
            "overflow_y": null,
            "padding": null,
            "right": null,
            "top": null,
            "visibility": null,
            "width": null
          }
        },
        "cadcb0b12cf64185afb4481a427d66db": {
          "model_module": "@jupyter-widgets/controls",
          "model_name": "DescriptionStyleModel",
          "model_module_version": "1.5.0",
          "state": {
            "_model_module": "@jupyter-widgets/controls",
            "_model_module_version": "1.5.0",
            "_model_name": "DescriptionStyleModel",
            "_view_count": null,
            "_view_module": "@jupyter-widgets/base",
            "_view_module_version": "1.2.0",
            "_view_name": "StyleView",
            "description_width": ""
          }
        },
        "947db59338b44a199f48b10903825d28": {
          "model_module": "@jupyter-widgets/base",
          "model_name": "LayoutModel",
          "model_module_version": "1.2.0",
          "state": {
            "_model_module": "@jupyter-widgets/base",
            "_model_module_version": "1.2.0",
            "_model_name": "LayoutModel",
            "_view_count": null,
            "_view_module": "@jupyter-widgets/base",
            "_view_module_version": "1.2.0",
            "_view_name": "LayoutView",
            "align_content": null,
            "align_items": null,
            "align_self": null,
            "border": null,
            "bottom": null,
            "display": null,
            "flex": null,
            "flex_flow": null,
            "grid_area": null,
            "grid_auto_columns": null,
            "grid_auto_flow": null,
            "grid_auto_rows": null,
            "grid_column": null,
            "grid_gap": null,
            "grid_row": null,
            "grid_template_areas": null,
            "grid_template_columns": null,
            "grid_template_rows": null,
            "height": null,
            "justify_content": null,
            "justify_items": null,
            "left": null,
            "margin": null,
            "max_height": null,
            "max_width": null,
            "min_height": null,
            "min_width": null,
            "object_fit": null,
            "object_position": null,
            "order": null,
            "overflow": null,
            "overflow_x": null,
            "overflow_y": null,
            "padding": null,
            "right": null,
            "top": null,
            "visibility": null,
            "width": null
          }
        },
        "85f3d480ebd846a196fa4fcb2663694f": {
          "model_module": "@jupyter-widgets/controls",
          "model_name": "ProgressStyleModel",
          "model_module_version": "1.5.0",
          "state": {
            "_model_module": "@jupyter-widgets/controls",
            "_model_module_version": "1.5.0",
            "_model_name": "ProgressStyleModel",
            "_view_count": null,
            "_view_module": "@jupyter-widgets/base",
            "_view_module_version": "1.2.0",
            "_view_name": "StyleView",
            "bar_color": null,
            "description_width": ""
          }
        },
        "cf8e3b12b9214c959e06eec9ce2f67b1": {
          "model_module": "@jupyter-widgets/base",
          "model_name": "LayoutModel",
          "model_module_version": "1.2.0",
          "state": {
            "_model_module": "@jupyter-widgets/base",
            "_model_module_version": "1.2.0",
            "_model_name": "LayoutModel",
            "_view_count": null,
            "_view_module": "@jupyter-widgets/base",
            "_view_module_version": "1.2.0",
            "_view_name": "LayoutView",
            "align_content": null,
            "align_items": null,
            "align_self": null,
            "border": null,
            "bottom": null,
            "display": null,
            "flex": null,
            "flex_flow": null,
            "grid_area": null,
            "grid_auto_columns": null,
            "grid_auto_flow": null,
            "grid_auto_rows": null,
            "grid_column": null,
            "grid_gap": null,
            "grid_row": null,
            "grid_template_areas": null,
            "grid_template_columns": null,
            "grid_template_rows": null,
            "height": null,
            "justify_content": null,
            "justify_items": null,
            "left": null,
            "margin": null,
            "max_height": null,
            "max_width": null,
            "min_height": null,
            "min_width": null,
            "object_fit": null,
            "object_position": null,
            "order": null,
            "overflow": null,
            "overflow_x": null,
            "overflow_y": null,
            "padding": null,
            "right": null,
            "top": null,
            "visibility": null,
            "width": null
          }
        },
        "165d14e2dd1c4d94bb0deec0088d01d7": {
          "model_module": "@jupyter-widgets/controls",
          "model_name": "DescriptionStyleModel",
          "model_module_version": "1.5.0",
          "state": {
            "_model_module": "@jupyter-widgets/controls",
            "_model_module_version": "1.5.0",
            "_model_name": "DescriptionStyleModel",
            "_view_count": null,
            "_view_module": "@jupyter-widgets/base",
            "_view_module_version": "1.2.0",
            "_view_name": "StyleView",
            "description_width": ""
          }
        },
        "835c94169a944b9a999bfdcb7c2c3ceb": {
          "model_module": "@jupyter-widgets/controls",
          "model_name": "HBoxModel",
          "model_module_version": "1.5.0",
          "state": {
            "_dom_classes": [],
            "_model_module": "@jupyter-widgets/controls",
            "_model_module_version": "1.5.0",
            "_model_name": "HBoxModel",
            "_view_count": null,
            "_view_module": "@jupyter-widgets/controls",
            "_view_module_version": "1.5.0",
            "_view_name": "HBoxView",
            "box_style": "",
            "children": [
              "IPY_MODEL_7760f7b2f0ad4ddc99bcdd05e2eae3fb",
              "IPY_MODEL_62a930e799de49fa9fac0c91ad3312f4",
              "IPY_MODEL_af902a63c79f40c9951edc6c4278ab30"
            ],
            "layout": "IPY_MODEL_847347e4e0df4999a11f912adf061c1c"
          }
        },
        "7760f7b2f0ad4ddc99bcdd05e2eae3fb": {
          "model_module": "@jupyter-widgets/controls",
          "model_name": "HTMLModel",
          "model_module_version": "1.5.0",
          "state": {
            "_dom_classes": [],
            "_model_module": "@jupyter-widgets/controls",
            "_model_module_version": "1.5.0",
            "_model_name": "HTMLModel",
            "_view_count": null,
            "_view_module": "@jupyter-widgets/controls",
            "_view_module_version": "1.5.0",
            "_view_name": "HTMLView",
            "description": "",
            "description_tooltip": null,
            "layout": "IPY_MODEL_be8d7dae0f21461a8312724ccbb424b0",
            "placeholder": "​",
            "style": "IPY_MODEL_5cc2d531e0a14aa598f278e6329e4b22",
            "value": "Downloading: 100%"
          }
        },
        "62a930e799de49fa9fac0c91ad3312f4": {
          "model_module": "@jupyter-widgets/controls",
          "model_name": "FloatProgressModel",
          "model_module_version": "1.5.0",
          "state": {
            "_dom_classes": [],
            "_model_module": "@jupyter-widgets/controls",
            "_model_module_version": "1.5.0",
            "_model_name": "FloatProgressModel",
            "_view_count": null,
            "_view_module": "@jupyter-widgets/controls",
            "_view_module_version": "1.5.0",
            "_view_name": "ProgressView",
            "bar_style": "success",
            "description": "",
            "description_tooltip": null,
            "layout": "IPY_MODEL_25dea363c6874c63b80a2f962f347f09",
            "max": 536063208,
            "min": 0,
            "orientation": "horizontal",
            "style": "IPY_MODEL_c7b880e5b0a245829e53f6fa5edf39e9",
            "value": 536063208
          }
        },
        "af902a63c79f40c9951edc6c4278ab30": {
          "model_module": "@jupyter-widgets/controls",
          "model_name": "HTMLModel",
          "model_module_version": "1.5.0",
          "state": {
            "_dom_classes": [],
            "_model_module": "@jupyter-widgets/controls",
            "_model_module_version": "1.5.0",
            "_model_name": "HTMLModel",
            "_view_count": null,
            "_view_module": "@jupyter-widgets/controls",
            "_view_module_version": "1.5.0",
            "_view_name": "HTMLView",
            "description": "",
            "description_tooltip": null,
            "layout": "IPY_MODEL_ee5f6b247a5d4ffaa8ea41d7ddab6a3b",
            "placeholder": "​",
            "style": "IPY_MODEL_36211b603fc54be79c3b119c2d0cb804",
            "value": " 511M/511M [00:24&lt;00:00, 21.5MB/s]"
          }
        },
        "847347e4e0df4999a11f912adf061c1c": {
          "model_module": "@jupyter-widgets/base",
          "model_name": "LayoutModel",
          "model_module_version": "1.2.0",
          "state": {
            "_model_module": "@jupyter-widgets/base",
            "_model_module_version": "1.2.0",
            "_model_name": "LayoutModel",
            "_view_count": null,
            "_view_module": "@jupyter-widgets/base",
            "_view_module_version": "1.2.0",
            "_view_name": "LayoutView",
            "align_content": null,
            "align_items": null,
            "align_self": null,
            "border": null,
            "bottom": null,
            "display": null,
            "flex": null,
            "flex_flow": null,
            "grid_area": null,
            "grid_auto_columns": null,
            "grid_auto_flow": null,
            "grid_auto_rows": null,
            "grid_column": null,
            "grid_gap": null,
            "grid_row": null,
            "grid_template_areas": null,
            "grid_template_columns": null,
            "grid_template_rows": null,
            "height": null,
            "justify_content": null,
            "justify_items": null,
            "left": null,
            "margin": null,
            "max_height": null,
            "max_width": null,
            "min_height": null,
            "min_width": null,
            "object_fit": null,
            "object_position": null,
            "order": null,
            "overflow": null,
            "overflow_x": null,
            "overflow_y": null,
            "padding": null,
            "right": null,
            "top": null,
            "visibility": null,
            "width": null
          }
        },
        "be8d7dae0f21461a8312724ccbb424b0": {
          "model_module": "@jupyter-widgets/base",
          "model_name": "LayoutModel",
          "model_module_version": "1.2.0",
          "state": {
            "_model_module": "@jupyter-widgets/base",
            "_model_module_version": "1.2.0",
            "_model_name": "LayoutModel",
            "_view_count": null,
            "_view_module": "@jupyter-widgets/base",
            "_view_module_version": "1.2.0",
            "_view_name": "LayoutView",
            "align_content": null,
            "align_items": null,
            "align_self": null,
            "border": null,
            "bottom": null,
            "display": null,
            "flex": null,
            "flex_flow": null,
            "grid_area": null,
            "grid_auto_columns": null,
            "grid_auto_flow": null,
            "grid_auto_rows": null,
            "grid_column": null,
            "grid_gap": null,
            "grid_row": null,
            "grid_template_areas": null,
            "grid_template_columns": null,
            "grid_template_rows": null,
            "height": null,
            "justify_content": null,
            "justify_items": null,
            "left": null,
            "margin": null,
            "max_height": null,
            "max_width": null,
            "min_height": null,
            "min_width": null,
            "object_fit": null,
            "object_position": null,
            "order": null,
            "overflow": null,
            "overflow_x": null,
            "overflow_y": null,
            "padding": null,
            "right": null,
            "top": null,
            "visibility": null,
            "width": null
          }
        },
        "5cc2d531e0a14aa598f278e6329e4b22": {
          "model_module": "@jupyter-widgets/controls",
          "model_name": "DescriptionStyleModel",
          "model_module_version": "1.5.0",
          "state": {
            "_model_module": "@jupyter-widgets/controls",
            "_model_module_version": "1.5.0",
            "_model_name": "DescriptionStyleModel",
            "_view_count": null,
            "_view_module": "@jupyter-widgets/base",
            "_view_module_version": "1.2.0",
            "_view_name": "StyleView",
            "description_width": ""
          }
        },
        "25dea363c6874c63b80a2f962f347f09": {
          "model_module": "@jupyter-widgets/base",
          "model_name": "LayoutModel",
          "model_module_version": "1.2.0",
          "state": {
            "_model_module": "@jupyter-widgets/base",
            "_model_module_version": "1.2.0",
            "_model_name": "LayoutModel",
            "_view_count": null,
            "_view_module": "@jupyter-widgets/base",
            "_view_module_version": "1.2.0",
            "_view_name": "LayoutView",
            "align_content": null,
            "align_items": null,
            "align_self": null,
            "border": null,
            "bottom": null,
            "display": null,
            "flex": null,
            "flex_flow": null,
            "grid_area": null,
            "grid_auto_columns": null,
            "grid_auto_flow": null,
            "grid_auto_rows": null,
            "grid_column": null,
            "grid_gap": null,
            "grid_row": null,
            "grid_template_areas": null,
            "grid_template_columns": null,
            "grid_template_rows": null,
            "height": null,
            "justify_content": null,
            "justify_items": null,
            "left": null,
            "margin": null,
            "max_height": null,
            "max_width": null,
            "min_height": null,
            "min_width": null,
            "object_fit": null,
            "object_position": null,
            "order": null,
            "overflow": null,
            "overflow_x": null,
            "overflow_y": null,
            "padding": null,
            "right": null,
            "top": null,
            "visibility": null,
            "width": null
          }
        },
        "c7b880e5b0a245829e53f6fa5edf39e9": {
          "model_module": "@jupyter-widgets/controls",
          "model_name": "ProgressStyleModel",
          "model_module_version": "1.5.0",
          "state": {
            "_model_module": "@jupyter-widgets/controls",
            "_model_module_version": "1.5.0",
            "_model_name": "ProgressStyleModel",
            "_view_count": null,
            "_view_module": "@jupyter-widgets/base",
            "_view_module_version": "1.2.0",
            "_view_name": "StyleView",
            "bar_color": null,
            "description_width": ""
          }
        },
        "ee5f6b247a5d4ffaa8ea41d7ddab6a3b": {
          "model_module": "@jupyter-widgets/base",
          "model_name": "LayoutModel",
          "model_module_version": "1.2.0",
          "state": {
            "_model_module": "@jupyter-widgets/base",
            "_model_module_version": "1.2.0",
            "_model_name": "LayoutModel",
            "_view_count": null,
            "_view_module": "@jupyter-widgets/base",
            "_view_module_version": "1.2.0",
            "_view_name": "LayoutView",
            "align_content": null,
            "align_items": null,
            "align_self": null,
            "border": null,
            "bottom": null,
            "display": null,
            "flex": null,
            "flex_flow": null,
            "grid_area": null,
            "grid_auto_columns": null,
            "grid_auto_flow": null,
            "grid_auto_rows": null,
            "grid_column": null,
            "grid_gap": null,
            "grid_row": null,
            "grid_template_areas": null,
            "grid_template_columns": null,
            "grid_template_rows": null,
            "height": null,
            "justify_content": null,
            "justify_items": null,
            "left": null,
            "margin": null,
            "max_height": null,
            "max_width": null,
            "min_height": null,
            "min_width": null,
            "object_fit": null,
            "object_position": null,
            "order": null,
            "overflow": null,
            "overflow_x": null,
            "overflow_y": null,
            "padding": null,
            "right": null,
            "top": null,
            "visibility": null,
            "width": null
          }
        },
        "36211b603fc54be79c3b119c2d0cb804": {
          "model_module": "@jupyter-widgets/controls",
          "model_name": "DescriptionStyleModel",
          "model_module_version": "1.5.0",
          "state": {
            "_model_module": "@jupyter-widgets/controls",
            "_model_module_version": "1.5.0",
            "_model_name": "DescriptionStyleModel",
            "_view_count": null,
            "_view_module": "@jupyter-widgets/base",
            "_view_module_version": "1.2.0",
            "_view_name": "StyleView",
            "description_width": ""
          }
        }
      }
    }
  },
  "cells": [
    {
      "cell_type": "code",
      "source": [
        "!pip install tensorflow-addons\n",
        "!pip install transformers\n",
        "!pip install shap"
      ],
      "metadata": {
        "colab": {
          "base_uri": "https://localhost:8080/"
        },
        "id": "nI2jZ8JoY6wb",
        "outputId": "20b2b792-5892-4a60-91f2-9d9f63d43019"
      },
      "execution_count": 1,
      "outputs": [
        {
          "output_type": "stream",
          "name": "stdout",
          "text": [
            "Collecting tensorflow-addons\n",
            "  Downloading tensorflow_addons-0.16.1-cp37-cp37m-manylinux_2_12_x86_64.manylinux2010_x86_64.whl (1.1 MB)\n",
            "\u001b[?25l\r\u001b[K     |▎                               | 10 kB 32.5 MB/s eta 0:00:01\r\u001b[K     |▋                               | 20 kB 23.3 MB/s eta 0:00:01\r\u001b[K     |▉                               | 30 kB 17.4 MB/s eta 0:00:01\r\u001b[K     |█▏                              | 40 kB 15.4 MB/s eta 0:00:01\r\u001b[K     |█▌                              | 51 kB 7.3 MB/s eta 0:00:01\r\u001b[K     |█▊                              | 61 kB 8.6 MB/s eta 0:00:01\r\u001b[K     |██                              | 71 kB 9.6 MB/s eta 0:00:01\r\u001b[K     |██▍                             | 81 kB 9.0 MB/s eta 0:00:01\r\u001b[K     |██▋                             | 92 kB 10.0 MB/s eta 0:00:01\r\u001b[K     |███                             | 102 kB 8.2 MB/s eta 0:00:01\r\u001b[K     |███▏                            | 112 kB 8.2 MB/s eta 0:00:01\r\u001b[K     |███▌                            | 122 kB 8.2 MB/s eta 0:00:01\r\u001b[K     |███▉                            | 133 kB 8.2 MB/s eta 0:00:01\r\u001b[K     |████                            | 143 kB 8.2 MB/s eta 0:00:01\r\u001b[K     |████▍                           | 153 kB 8.2 MB/s eta 0:00:01\r\u001b[K     |████▊                           | 163 kB 8.2 MB/s eta 0:00:01\r\u001b[K     |█████                           | 174 kB 8.2 MB/s eta 0:00:01\r\u001b[K     |█████▎                          | 184 kB 8.2 MB/s eta 0:00:01\r\u001b[K     |█████▌                          | 194 kB 8.2 MB/s eta 0:00:01\r\u001b[K     |█████▉                          | 204 kB 8.2 MB/s eta 0:00:01\r\u001b[K     |██████▏                         | 215 kB 8.2 MB/s eta 0:00:01\r\u001b[K     |██████▍                         | 225 kB 8.2 MB/s eta 0:00:01\r\u001b[K     |██████▊                         | 235 kB 8.2 MB/s eta 0:00:01\r\u001b[K     |███████                         | 245 kB 8.2 MB/s eta 0:00:01\r\u001b[K     |███████▎                        | 256 kB 8.2 MB/s eta 0:00:01\r\u001b[K     |███████▋                        | 266 kB 8.2 MB/s eta 0:00:01\r\u001b[K     |███████▉                        | 276 kB 8.2 MB/s eta 0:00:01\r\u001b[K     |████████▏                       | 286 kB 8.2 MB/s eta 0:00:01\r\u001b[K     |████████▌                       | 296 kB 8.2 MB/s eta 0:00:01\r\u001b[K     |████████▊                       | 307 kB 8.2 MB/s eta 0:00:01\r\u001b[K     |█████████                       | 317 kB 8.2 MB/s eta 0:00:01\r\u001b[K     |█████████▍                      | 327 kB 8.2 MB/s eta 0:00:01\r\u001b[K     |█████████▋                      | 337 kB 8.2 MB/s eta 0:00:01\r\u001b[K     |██████████                      | 348 kB 8.2 MB/s eta 0:00:01\r\u001b[K     |██████████▏                     | 358 kB 8.2 MB/s eta 0:00:01\r\u001b[K     |██████████▌                     | 368 kB 8.2 MB/s eta 0:00:01\r\u001b[K     |██████████▉                     | 378 kB 8.2 MB/s eta 0:00:01\r\u001b[K     |███████████                     | 389 kB 8.2 MB/s eta 0:00:01\r\u001b[K     |███████████▍                    | 399 kB 8.2 MB/s eta 0:00:01\r\u001b[K     |███████████▊                    | 409 kB 8.2 MB/s eta 0:00:01\r\u001b[K     |████████████                    | 419 kB 8.2 MB/s eta 0:00:01\r\u001b[K     |████████████▎                   | 430 kB 8.2 MB/s eta 0:00:01\r\u001b[K     |████████████▌                   | 440 kB 8.2 MB/s eta 0:00:01\r\u001b[K     |████████████▉                   | 450 kB 8.2 MB/s eta 0:00:01\r\u001b[K     |█████████████▏                  | 460 kB 8.2 MB/s eta 0:00:01\r\u001b[K     |█████████████▍                  | 471 kB 8.2 MB/s eta 0:00:01\r\u001b[K     |█████████████▊                  | 481 kB 8.2 MB/s eta 0:00:01\r\u001b[K     |██████████████                  | 491 kB 8.2 MB/s eta 0:00:01\r\u001b[K     |██████████████▎                 | 501 kB 8.2 MB/s eta 0:00:01\r\u001b[K     |██████████████▋                 | 512 kB 8.2 MB/s eta 0:00:01\r\u001b[K     |██████████████▉                 | 522 kB 8.2 MB/s eta 0:00:01\r\u001b[K     |███████████████▏                | 532 kB 8.2 MB/s eta 0:00:01\r\u001b[K     |███████████████▌                | 542 kB 8.2 MB/s eta 0:00:01\r\u001b[K     |███████████████▊                | 552 kB 8.2 MB/s eta 0:00:01\r\u001b[K     |████████████████                | 563 kB 8.2 MB/s eta 0:00:01\r\u001b[K     |████████████████▍               | 573 kB 8.2 MB/s eta 0:00:01\r\u001b[K     |████████████████▋               | 583 kB 8.2 MB/s eta 0:00:01\r\u001b[K     |█████████████████               | 593 kB 8.2 MB/s eta 0:00:01\r\u001b[K     |█████████████████▏              | 604 kB 8.2 MB/s eta 0:00:01\r\u001b[K     |█████████████████▌              | 614 kB 8.2 MB/s eta 0:00:01\r\u001b[K     |█████████████████▉              | 624 kB 8.2 MB/s eta 0:00:01\r\u001b[K     |██████████████████              | 634 kB 8.2 MB/s eta 0:00:01\r\u001b[K     |██████████████████▍             | 645 kB 8.2 MB/s eta 0:00:01\r\u001b[K     |██████████████████▊             | 655 kB 8.2 MB/s eta 0:00:01\r\u001b[K     |███████████████████             | 665 kB 8.2 MB/s eta 0:00:01\r\u001b[K     |███████████████████▎            | 675 kB 8.2 MB/s eta 0:00:01\r\u001b[K     |███████████████████▌            | 686 kB 8.2 MB/s eta 0:00:01\r\u001b[K     |███████████████████▉            | 696 kB 8.2 MB/s eta 0:00:01\r\u001b[K     |████████████████████▏           | 706 kB 8.2 MB/s eta 0:00:01\r\u001b[K     |████████████████████▍           | 716 kB 8.2 MB/s eta 0:00:01\r\u001b[K     |████████████████████▊           | 727 kB 8.2 MB/s eta 0:00:01\r\u001b[K     |█████████████████████           | 737 kB 8.2 MB/s eta 0:00:01\r\u001b[K     |█████████████████████▎          | 747 kB 8.2 MB/s eta 0:00:01\r\u001b[K     |█████████████████████▋          | 757 kB 8.2 MB/s eta 0:00:01\r\u001b[K     |█████████████████████▉          | 768 kB 8.2 MB/s eta 0:00:01\r\u001b[K     |██████████████████████▏         | 778 kB 8.2 MB/s eta 0:00:01\r\u001b[K     |██████████████████████▌         | 788 kB 8.2 MB/s eta 0:00:01\r\u001b[K     |██████████████████████▊         | 798 kB 8.2 MB/s eta 0:00:01\r\u001b[K     |███████████████████████         | 808 kB 8.2 MB/s eta 0:00:01\r\u001b[K     |███████████████████████▍        | 819 kB 8.2 MB/s eta 0:00:01\r\u001b[K     |███████████████████████▋        | 829 kB 8.2 MB/s eta 0:00:01\r\u001b[K     |████████████████████████        | 839 kB 8.2 MB/s eta 0:00:01\r\u001b[K     |████████████████████████▏       | 849 kB 8.2 MB/s eta 0:00:01\r\u001b[K     |████████████████████████▌       | 860 kB 8.2 MB/s eta 0:00:01\r\u001b[K     |████████████████████████▉       | 870 kB 8.2 MB/s eta 0:00:01\r\u001b[K     |█████████████████████████       | 880 kB 8.2 MB/s eta 0:00:01\r\u001b[K     |█████████████████████████▍      | 890 kB 8.2 MB/s eta 0:00:01\r\u001b[K     |█████████████████████████▊      | 901 kB 8.2 MB/s eta 0:00:01\r\u001b[K     |██████████████████████████      | 911 kB 8.2 MB/s eta 0:00:01\r\u001b[K     |██████████████████████████▎     | 921 kB 8.2 MB/s eta 0:00:01\r\u001b[K     |██████████████████████████▌     | 931 kB 8.2 MB/s eta 0:00:01\r\u001b[K     |██████████████████████████▉     | 942 kB 8.2 MB/s eta 0:00:01\r\u001b[K     |███████████████████████████▏    | 952 kB 8.2 MB/s eta 0:00:01\r\u001b[K     |███████████████████████████▍    | 962 kB 8.2 MB/s eta 0:00:01\r\u001b[K     |███████████████████████████▊    | 972 kB 8.2 MB/s eta 0:00:01\r\u001b[K     |████████████████████████████    | 983 kB 8.2 MB/s eta 0:00:01\r\u001b[K     |████████████████████████████▎   | 993 kB 8.2 MB/s eta 0:00:01\r\u001b[K     |████████████████████████████▋   | 1.0 MB 8.2 MB/s eta 0:00:01\r\u001b[K     |████████████████████████████▉   | 1.0 MB 8.2 MB/s eta 0:00:01\r\u001b[K     |█████████████████████████████▏  | 1.0 MB 8.2 MB/s eta 0:00:01\r\u001b[K     |█████████████████████████████▌  | 1.0 MB 8.2 MB/s eta 0:00:01\r\u001b[K     |█████████████████████████████▊  | 1.0 MB 8.2 MB/s eta 0:00:01\r\u001b[K     |██████████████████████████████  | 1.1 MB 8.2 MB/s eta 0:00:01\r\u001b[K     |██████████████████████████████▍ | 1.1 MB 8.2 MB/s eta 0:00:01\r\u001b[K     |██████████████████████████████▋ | 1.1 MB 8.2 MB/s eta 0:00:01\r\u001b[K     |███████████████████████████████ | 1.1 MB 8.2 MB/s eta 0:00:01\r\u001b[K     |███████████████████████████████▏| 1.1 MB 8.2 MB/s eta 0:00:01\r\u001b[K     |███████████████████████████████▌| 1.1 MB 8.2 MB/s eta 0:00:01\r\u001b[K     |███████████████████████████████▉| 1.1 MB 8.2 MB/s eta 0:00:01\r\u001b[K     |████████████████████████████████| 1.1 MB 8.2 MB/s \n",
            "\u001b[?25hRequirement already satisfied: typeguard>=2.7 in /usr/local/lib/python3.7/dist-packages (from tensorflow-addons) (2.7.1)\n",
            "Installing collected packages: tensorflow-addons\n",
            "Successfully installed tensorflow-addons-0.16.1\n",
            "Collecting transformers\n",
            "  Downloading transformers-4.18.0-py3-none-any.whl (4.0 MB)\n",
            "\u001b[K     |████████████████████████████████| 4.0 MB 7.8 MB/s \n",
            "\u001b[?25hRequirement already satisfied: regex!=2019.12.17 in /usr/local/lib/python3.7/dist-packages (from transformers) (2019.12.20)\n",
            "Collecting tokenizers!=0.11.3,<0.13,>=0.11.1\n",
            "  Downloading tokenizers-0.11.6-cp37-cp37m-manylinux_2_12_x86_64.manylinux2010_x86_64.whl (6.5 MB)\n",
            "\u001b[K     |████████████████████████████████| 6.5 MB 25.6 MB/s \n",
            "\u001b[?25hRequirement already satisfied: tqdm>=4.27 in /usr/local/lib/python3.7/dist-packages (from transformers) (4.63.0)\n",
            "Collecting sacremoses\n",
            "  Downloading sacremoses-0.0.49-py3-none-any.whl (895 kB)\n",
            "\u001b[K     |████████████████████████████████| 895 kB 50.8 MB/s \n",
            "\u001b[?25hCollecting pyyaml>=5.1\n",
            "  Downloading PyYAML-6.0-cp37-cp37m-manylinux_2_5_x86_64.manylinux1_x86_64.manylinux_2_12_x86_64.manylinux2010_x86_64.whl (596 kB)\n",
            "\u001b[K     |████████████████████████████████| 596 kB 54.8 MB/s \n",
            "\u001b[?25hCollecting huggingface-hub<1.0,>=0.1.0\n",
            "  Downloading huggingface_hub-0.5.1-py3-none-any.whl (77 kB)\n",
            "\u001b[K     |████████████████████████████████| 77 kB 7.3 MB/s \n",
            "\u001b[?25hRequirement already satisfied: requests in /usr/local/lib/python3.7/dist-packages (from transformers) (2.23.0)\n",
            "Requirement already satisfied: numpy>=1.17 in /usr/local/lib/python3.7/dist-packages (from transformers) (1.21.5)\n",
            "Requirement already satisfied: filelock in /usr/local/lib/python3.7/dist-packages (from transformers) (3.6.0)\n",
            "Requirement already satisfied: importlib-metadata in /usr/local/lib/python3.7/dist-packages (from transformers) (4.11.3)\n",
            "Requirement already satisfied: packaging>=20.0 in /usr/local/lib/python3.7/dist-packages (from transformers) (21.3)\n",
            "Requirement already satisfied: typing-extensions>=3.7.4.3 in /usr/local/lib/python3.7/dist-packages (from huggingface-hub<1.0,>=0.1.0->transformers) (3.10.0.2)\n",
            "Requirement already satisfied: pyparsing!=3.0.5,>=2.0.2 in /usr/local/lib/python3.7/dist-packages (from packaging>=20.0->transformers) (3.0.7)\n",
            "Requirement already satisfied: zipp>=0.5 in /usr/local/lib/python3.7/dist-packages (from importlib-metadata->transformers) (3.7.0)\n",
            "Requirement already satisfied: idna<3,>=2.5 in /usr/local/lib/python3.7/dist-packages (from requests->transformers) (2.10)\n",
            "Requirement already satisfied: certifi>=2017.4.17 in /usr/local/lib/python3.7/dist-packages (from requests->transformers) (2021.10.8)\n",
            "Requirement already satisfied: urllib3!=1.25.0,!=1.25.1,<1.26,>=1.21.1 in /usr/local/lib/python3.7/dist-packages (from requests->transformers) (1.24.3)\n",
            "Requirement already satisfied: chardet<4,>=3.0.2 in /usr/local/lib/python3.7/dist-packages (from requests->transformers) (3.0.4)\n",
            "Requirement already satisfied: six in /usr/local/lib/python3.7/dist-packages (from sacremoses->transformers) (1.15.0)\n",
            "Requirement already satisfied: click in /usr/local/lib/python3.7/dist-packages (from sacremoses->transformers) (7.1.2)\n",
            "Requirement already satisfied: joblib in /usr/local/lib/python3.7/dist-packages (from sacremoses->transformers) (1.1.0)\n",
            "Installing collected packages: pyyaml, tokenizers, sacremoses, huggingface-hub, transformers\n",
            "  Attempting uninstall: pyyaml\n",
            "    Found existing installation: PyYAML 3.13\n",
            "    Uninstalling PyYAML-3.13:\n",
            "      Successfully uninstalled PyYAML-3.13\n",
            "Successfully installed huggingface-hub-0.5.1 pyyaml-6.0 sacremoses-0.0.49 tokenizers-0.11.6 transformers-4.18.0\n",
            "Collecting shap\n",
            "  Downloading shap-0.40.0-cp37-cp37m-manylinux2010_x86_64.whl (564 kB)\n",
            "\u001b[K     |████████████████████████████████| 564 kB 8.8 MB/s \n",
            "\u001b[?25hCollecting slicer==0.0.7\n",
            "  Downloading slicer-0.0.7-py3-none-any.whl (14 kB)\n",
            "Requirement already satisfied: numba in /usr/local/lib/python3.7/dist-packages (from shap) (0.51.2)\n",
            "Requirement already satisfied: packaging>20.9 in /usr/local/lib/python3.7/dist-packages (from shap) (21.3)\n",
            "Requirement already satisfied: scipy in /usr/local/lib/python3.7/dist-packages (from shap) (1.4.1)\n",
            "Requirement already satisfied: pandas in /usr/local/lib/python3.7/dist-packages (from shap) (1.3.5)\n",
            "Requirement already satisfied: numpy in /usr/local/lib/python3.7/dist-packages (from shap) (1.21.5)\n",
            "Requirement already satisfied: scikit-learn in /usr/local/lib/python3.7/dist-packages (from shap) (1.0.2)\n",
            "Requirement already satisfied: cloudpickle in /usr/local/lib/python3.7/dist-packages (from shap) (1.3.0)\n",
            "Requirement already satisfied: tqdm>4.25.0 in /usr/local/lib/python3.7/dist-packages (from shap) (4.63.0)\n",
            "Requirement already satisfied: pyparsing!=3.0.5,>=2.0.2 in /usr/local/lib/python3.7/dist-packages (from packaging>20.9->shap) (3.0.7)\n",
            "Requirement already satisfied: setuptools in /usr/local/lib/python3.7/dist-packages (from numba->shap) (57.4.0)\n",
            "Requirement already satisfied: llvmlite<0.35,>=0.34.0.dev0 in /usr/local/lib/python3.7/dist-packages (from numba->shap) (0.34.0)\n",
            "Requirement already satisfied: python-dateutil>=2.7.3 in /usr/local/lib/python3.7/dist-packages (from pandas->shap) (2.8.2)\n",
            "Requirement already satisfied: pytz>=2017.3 in /usr/local/lib/python3.7/dist-packages (from pandas->shap) (2018.9)\n",
            "Requirement already satisfied: six>=1.5 in /usr/local/lib/python3.7/dist-packages (from python-dateutil>=2.7.3->pandas->shap) (1.15.0)\n",
            "Requirement already satisfied: threadpoolctl>=2.0.0 in /usr/local/lib/python3.7/dist-packages (from scikit-learn->shap) (3.1.0)\n",
            "Requirement already satisfied: joblib>=0.11 in /usr/local/lib/python3.7/dist-packages (from scikit-learn->shap) (1.1.0)\n",
            "Installing collected packages: slicer, shap\n",
            "Successfully installed shap-0.40.0 slicer-0.0.7\n"
          ]
        }
      ]
    },
    {
      "cell_type": "code",
      "source": [
        "# Carga de librerías y Datos\n",
        "\n",
        "import pandas as pd\n",
        "import tensorflow as tf\n",
        "import tensorflow_addons as tfa\n",
        "import numpy as np\n",
        "import datetime, os\n",
        "import matplotlib.pyplot as plt\n",
        "import seaborn as sns\n",
        "import re\n",
        "import nltk\n",
        "from nltk.probability import FreqDist\n",
        "from sklearn.preprocessing import LabelBinarizer\n",
        "from sklearn import feature_extraction,model_selection, preprocessing,feature_selection,svm\n",
        "from sklearn.ensemble import RandomForestClassifier\n",
        "from sklearn.metrics import accuracy_score,roc_curve,confusion_matrix,classification_report,precision_recall_curve,auc\n",
        "from sklearn.dummy import DummyClassifier\n",
        "from sklearn.utils import class_weight\n",
        "from scipy import sparse\n",
        "from tensorflow.keras.optimizers.schedules import PolynomialDecay\n",
        "from tensorflow.keras import activations\n",
        "from transformers import TFBertModel, BertConfig,BertTokenizer\n",
        "nltk.download('stopwords')\n",
        "nltk.download('wordnet')\n",
        "\n",
        "# Comprobar disponibilidad de GPU\n",
        "devices = tf.config.list_physical_devices('GPU')\n",
        "print(len(devices)) \n",
        "\n",
        "#Cargar los datos\n",
        "data_train = pd.read_csv('webis_train.csv')\n",
        "data_train = data_train[['postText','truthClass']]\n",
        "data_train['postText'] = data_train['postText'].astype('str')\n",
        "data_test = pd.read_csv('webis_test.csv')\n",
        "data_test = data_test[['postText','truthClass']]\n",
        "data_test['postText'] = data_test['postText'].astype('str')\n",
        "\n",
        "# Comprobar primero si falta algún valor\n",
        "\n",
        "conteo = data_train.isnull().sum().sum()\n",
        "print ('Numero de NaN en train: ' + str(conteo))\n",
        "conteo = data_test.isnull().sum().sum()\n",
        "print ('Numero de NaN en test: ' + str(conteo))\n",
        "\n"
      ],
      "metadata": {
        "id": "h2oDHGIFLrAN",
        "colab": {
          "base_uri": "https://localhost:8080/"
        },
        "outputId": "5e997bfb-d4fb-4e6f-fc7a-e2d1637a03f7"
      },
      "execution_count": 2,
      "outputs": [
        {
          "output_type": "stream",
          "name": "stdout",
          "text": [
            "[nltk_data] Downloading package stopwords to /root/nltk_data...\n",
            "[nltk_data]   Unzipping corpora/stopwords.zip.\n",
            "[nltk_data] Downloading package wordnet to /root/nltk_data...\n",
            "[nltk_data]   Unzipping corpora/wordnet.zip.\n",
            "1\n",
            "Numero de NaN en train: 0\n",
            "Numero de NaN en test: 0\n"
          ]
        }
      ]
    },
    {
      "cell_type": "markdown",
      "source": [
        "# **Parte 1: EDA y Feature Engineering**\n",
        "\n",
        "En esta sección se explorarán los datos y se crearán variables que puedan ser útiles para los modelos. Primero hay que comprobar que los datos están balanceados, si no lo están esto afecta al entrenamiento ya que estará sesgado en favor de la calse mayoritaria"
      ],
      "metadata": {
        "id": "vZLT0Q2LKhy-"
      }
    },
    {
      "cell_type": "code",
      "source": [
        "# bar plot\n",
        "fig  = plt.figure(figsize=(7,5))\n",
        "fig=sns.countplot(data_train['truthClass'])\n",
        "plt.title('Clickbait vs No Clickbait')\n",
        "plt.ylabel('Número de tweet')\n",
        "plt.xlabel('Tipo')\n",
        "fig.set(xticklabels=['No Clickbait','Clickbait'])\n",
        "plt.show()\n",
        "\n",
        "data_train['truthClass'].value_counts()\n"
      ],
      "metadata": {
        "colab": {
          "base_uri": "https://localhost:8080/",
          "height": 457
        },
        "id": "BpbM4X_CKfpQ",
        "outputId": "d7ec9869-c679-4e2a-d2fc-33cbc61da86b"
      },
      "execution_count": 3,
      "outputs": [
        {
          "output_type": "stream",
          "name": "stderr",
          "text": [
            "/usr/local/lib/python3.7/dist-packages/seaborn/_decorators.py:43: FutureWarning: Pass the following variable as a keyword arg: x. From version 0.12, the only valid positional argument will be `data`, and passing other arguments without an explicit keyword will result in an error or misinterpretation.\n",
            "  FutureWarning\n"
          ]
        },
        {
          "output_type": "display_data",
          "data": {
            "text/plain": [
              "<Figure size 504x360 with 1 Axes>"
            ],
            "image/png": "[encoded data removed]"
          },
          "metadata": {
            "needs_background": "light"
          }
        },
        {
          "output_type": "execute_result",
          "data": {
            "text/plain": [
              "no-clickbait    14777\n",
              "clickbait        4761\n",
              "Name: truthClass, dtype: int64"
            ]
          },
          "metadata": {},
          "execution_count": 3
        }
      ]
    },
    {
      "cell_type": "markdown",
      "source": [
        "Se aprecia aclaramente que están desbalanceados hay 4761 clickbait por 14777 no clickbait. Esto hay que tenerlo en cuenta de cara al entrenamiento.Voy a contar ahora el número de palabras que hay en cada tipo de tweet y añadirla como variable al dataset."
      ],
      "metadata": {
        "id": "CNQdJVX7m6ah"
      }
    },
    {
      "cell_type": "code",
      "source": [
        " \n",
        "data_train['num_palabras'] = data_train['postText'].apply(lambda x: len(x.split()))\n",
        "\n",
        "#plot\n",
        "plt.figure(figsize=(10,6))\n",
        "sns.set_style('darkgrid')\n",
        "sns.countplot(data_train['num_palabras'],hue=data_train['truthClass'],data=data_train)\n",
        "plt.xlabel('Número de Palabras',size=15)\n",
        "plt.ylabel('Número de Tweets', size=15)\n",
        "plt.legend(title=None,labels=['No Clickbait','Clickbait'],loc='upper right')\n",
        "plt.title('Número de palabras en cada tweet')\n",
        "plt.tight_layout()\n",
        "plt.show()\n",
        "\n",
        "# Contar la media de palabras que tiene un tweet por cada clase\n",
        "data_train.groupby('truthClass')['num_palabras'].mean()"
      ],
      "metadata": {
        "colab": {
          "base_uri": "https://localhost:8080/",
          "height": 565
        },
        "id": "n8t54KcLWcRR",
        "outputId": "89acb11d-bb47-4228-b145-27278ec06c66"
      },
      "execution_count": 4,
      "outputs": [
        {
          "output_type": "stream",
          "name": "stderr",
          "text": [
            "/usr/local/lib/python3.7/dist-packages/seaborn/_decorators.py:43: FutureWarning: Pass the following variable as a keyword arg: x. From version 0.12, the only valid positional argument will be `data`, and passing other arguments without an explicit keyword will result in an error or misinterpretation.\n",
            "  FutureWarning\n"
          ]
        },
        {
          "output_type": "display_data",
          "data": {
            "text/plain": [
              "<Figure size 720x432 with 1 Axes>"
            ],
            "image/png": "[encoded data removed]"
          },
          "metadata": {
            "needs_background": "light"
          }
        },
        {
          "output_type": "execute_result",
          "data": {
            "text/plain": [
              "truthClass\n",
              "clickbait       10.117622\n",
              "no-clickbait    12.077147\n",
              "Name: num_palabras, dtype: float64"
            ]
          },
          "metadata": {},
          "execution_count": 4
        }
      ]
    },
    {
      "cell_type": "markdown",
      "source": [
        "LLama la atención de que a pesar de que hay menos tweets de clickbait, son los que hay más con 1,2,3 o 4 palabras con un gran margen. También se observa que los tweets que son clickbait tienen de media pocas palabras. Voy a contar a continuación si el tweet tiene una pregunta o no y añadirla como variable"
      ],
      "metadata": {
        "id": "mS8y9eq2lJxn"
      }
    },
    {
      "cell_type": "code",
      "source": [
        "\n",
        "def es_pregunta(texto):\n",
        "\n",
        "  ''' Función que tiene como input un texto y devuelve 1 o 0 en función de si el texto e suna pregunta o no'''\n",
        "\n",
        "  if \"?\" in texto or texto.startswith(('who','what','where','why','when','whose','whom','would','will','how','which','should','could','did','do')):\n",
        "      return 1\n",
        "  else: \n",
        "      return 0\n",
        "\n",
        "data_train['pregunta'] = data_train['postText'].apply(es_pregunta)\n",
        "\n",
        "pregunta = data_train.groupby('pregunta')['truthClass'].value_counts().unstack()\n",
        "\n",
        "#plot\n",
        "sns.set_style('darkgrid')\n",
        "plot = pregunta.plot.bar(rot = 0)\n",
        "plot.set_xlabel('tweet con pregunta')\n",
        "plot.set_ylabel('Número de tweets')\n",
        "plot.legend(title=None,labels=['Clickbait','No Clickbait'],loc='upper right')\n",
        "plot.set(xticklabels=['No','si'])\n",
        "plot.set_title('tweet es una pregunta')\n",
        "plt.show()\n",
        "\n",
        "# para sacar porcentajes de tweets con preguntas\n",
        "porcentaje_clickbait = (pregunta['clickbait'][1]/pregunta['clickbait'].sum())*100\n",
        "porcentaje_no_clickbait = (pregunta['no-clickbait'][1]/pregunta['no-clickbait'].sum())*100\n",
        "\n",
        "print('El porcentaje de tweets clickbaits que son preguntas es del : {:02.2f} %'.format(porcentaje_clickbait))\n",
        "print('El porcentaje de tweets No clickbaits que son preguntas es del : {:02.2f} %'.format(porcentaje_no_clickbait))\n"
      ],
      "metadata": {
        "colab": {
          "base_uri": "https://localhost:8080/",
          "height": 330
        },
        "id": "lFvbOFD9PsHJ",
        "outputId": "add96974-c427-448c-a842-7e3832538cb9"
      },
      "execution_count": 5,
      "outputs": [
        {
          "output_type": "display_data",
          "data": {
            "text/plain": [
              "<Figure size 432x288 with 1 Axes>"
            ],
            "image/png": "[encoded data removed]"
          },
          "metadata": {}
        },
        {
          "output_type": "stream",
          "name": "stdout",
          "text": [
            "El porcentaje de tweets clickbaits que son preguntas es del : 11.76 %\n",
            "El porcentaje de tweets No clickbaits que son preguntas es del : 4.20 %\n"
          ]
        }
      ]
    },
    {
      "cell_type": "markdown",
      "source": [
        "Parece que hay un mayor porcentaje de tweets clickbait con pregunta . A continuación voy a hacer lo mismo pero para ver tweets con !, y añadir esta variable al dataset"
      ],
      "metadata": {
        "id": "HzoRHy2TuYa3"
      }
    },
    {
      "cell_type": "code",
      "source": [
        "\n",
        "def tiene_exclamacion(texto):\n",
        "\n",
        "    '''Función que tiene como input un texto y devuelve 0,1 en función de si contiene una exclamación o no'''\n",
        "\n",
        "    if \"!\" in texto: \n",
        "      return 1\n",
        "    else: \n",
        "      return 0\n",
        "\n",
        "data_train['exclamacion']=data_train['postText'].apply(tiene_exclamacion)\n",
        "exclamacion = data_train.groupby('exclamacion')['truthClass'].value_counts().unstack()\n",
        "\n",
        "#plot\n",
        "sns.set_style('darkgrid')\n",
        "plot = exclamacion.plot.bar(rot = 0)\n",
        "plot.set_xlabel('contiene Exclamación')\n",
        "plot.set_ylabel('Numero de Tweets')\n",
        "plot.legend(title=None,labels=['Clickbait','No Clickbait'])\n",
        "plot.set(xticklabels=['No','si'])\n",
        "plot.set_title('Tweets que contienen signo de exclamacion')\n",
        "plt.show()\n",
        "\n",
        "# para sacar porcentajes de tweets con exclamación\n",
        "porcentaje_clickbait = (exclamacion['clickbait'][1]/exclamacion['clickbait'].sum())*100\n",
        "porcentaje_no_clickbait = (exclamacion['no-clickbait'][1]/exclamacion['no-clickbait'].sum())*100\n",
        "\n",
        "print('El porcentaje de tweets clickbaits que tienen exclamacion es del : {:02.2f} %'.format(porcentaje_clickbait))\n",
        "print('El porcentaje de tweets No clickbaits que tienen exclamacion es del : {:02.2f} %'.format(porcentaje_no_clickbait))"
      ],
      "metadata": {
        "colab": {
          "base_uri": "https://localhost:8080/",
          "height": 330
        },
        "id": "VTI-_EN5u7VF",
        "outputId": "4d667fcc-e181-44e3-96df-1dc258069a66"
      },
      "execution_count": 6,
      "outputs": [
        {
          "output_type": "display_data",
          "data": {
            "text/plain": [
              "<Figure size 432x288 with 1 Axes>"
            ],
            "image/png": "[encoded data removed]"
          },
          "metadata": {}
        },
        {
          "output_type": "stream",
          "name": "stdout",
          "text": [
            "El porcentaje de tweets clickbaits que tienen exclamacion es del : 4.16 %\n",
            "El porcentaje de tweets No clickbaits que tienen exclamacion es del : 1.66 %\n"
          ]
        }
      ]
    },
    {
      "cell_type": "markdown",
      "source": [
        "Parecer que los tweet con clickbaits aparecen más signos de exclamación. A continuación voy a hacer lo mismo para ver que porcentaje de tweets empiezan con número y añadirlo como variable"
      ],
      "metadata": {
        "id": "vZaDLryvz-vh"
      }
    },
    {
      "cell_type": "code",
      "source": [
        "\n",
        "def empieza_con_numero(texto):\n",
        "\n",
        "    ''' Función que devuelve si un tweet empieza por número o no'''\n",
        "    if texto.startswith(('1','2','3','4','5','6','7','8','9')): \n",
        "        return 1\n",
        "    else: \n",
        "        return 0\n",
        "\n",
        "data_train['empieza_con_numero'] = data_train['postText'].apply(empieza_con_numero)\n",
        "numero = data_train.groupby('empieza_con_numero')['truthClass'].value_counts().unstack()\n",
        "\n",
        "\n",
        "#plot\n",
        "sns.set_style('darkgrid')\n",
        "plot = numero.plot.bar(rot = 0)\n",
        "plot.set_xlabel('Empieza por número')\n",
        "plot.set_ylabel('Numero de Tweets')\n",
        "plot.legend(title=None,labels=['Clickbait','No Clickbait'])\n",
        "plot.set(xticklabels=['No','si'])\n",
        "plot.set_title('Tweets que empiezan por números')\n",
        "plt.show()\n",
        "\n",
        "# para sacar porcentajes de tweets con exclamación\n",
        "porcentaje_clickbait = (numero['clickbait'][1]/numero['clickbait'].sum())*100\n",
        "porcentaje_no_clickbait = (numero['no-clickbait'][1]/numero['no-clickbait'].sum())*100\n",
        "\n",
        "print('El porcentaje de tweets clickbaits que empiezan por número es del : {:02.2f} %'.format(porcentaje_clickbait))\n",
        "print('El porcentaje de tweets No clickbaits que empiezan por número es del : {:02.2f} %'.format(porcentaje_no_clickbait))\n"
      ],
      "metadata": {
        "colab": {
          "base_uri": "https://localhost:8080/",
          "height": 331
        },
        "id": "U8Gre61_0e6a",
        "outputId": "1388f47b-e8ad-4bd9-b5d7-7fdeab4bd280"
      },
      "execution_count": 7,
      "outputs": [
        {
          "output_type": "display_data",
          "data": {
            "text/plain": [
              "<Figure size 432x288 with 1 Axes>"
            ],
            "image/png": "[encoded data removed]"
          },
          "metadata": {}
        },
        {
          "output_type": "stream",
          "name": "stdout",
          "text": [
            "El porcentaje de tweets clickbaits que empiezan por número es del : 10.71 %\n",
            "El porcentaje de tweets No clickbaits que empiezan por número es del : 1.89 %\n"
          ]
        }
      ]
    },
    {
      "cell_type": "markdown",
      "source": [
        "Parece que hay bastante diferencia de porcentaje que empiezan por número. A continuación voy a sacar los porcentajes de tweets con hashtags y que mencionan y añadirlos como variable"
      ],
      "metadata": {
        "id": "d9sxiqVA19zc"
      }
    },
    {
      "cell_type": "code",
      "source": [
        "#Primero para el Hashtag\n",
        "\n",
        "def tiene_hashtag(texto):\n",
        "\n",
        "    '''Función que tiene como input un texto y devuelve 0,1 en función de si contiene una # o no'''\n",
        "\n",
        "    if \"#\" in texto: \n",
        "      return 1\n",
        "    else: \n",
        "      return 0\n",
        "\n",
        "data_train['hashtag'] = data_train['postText'].apply(tiene_hashtag)\n",
        "hashtag = data_train.groupby('hashtag')['truthClass'].value_counts().unstack()\n",
        "\n",
        "porcentaje_clickbait = (hashtag['clickbait'][1]/hashtag['clickbait'].sum())*100\n",
        "porcentaje_no_clickbait = (hashtag['no-clickbait'][1]/hashtag['no-clickbait'].sum())*100\n",
        "\n",
        "print('El porcentaje de tweets clickbaits que tiene hashtag es del : {:02.2f} %'.format(porcentaje_clickbait))\n",
        "print('El porcentaje de tweets No clickbaits que tiene hashtag es del : {:02.2f} %'.format(porcentaje_no_clickbait))\n",
        "\n",
        "#Para menciones\n",
        "\n",
        "def tiene_mencion(texto):\n",
        "\n",
        "    '''Función que tiene como input un texto y devuelve 0,1 en función de si contiene una @ o no'''\n",
        "\n",
        "    if \"@\" in texto: \n",
        "      return 1\n",
        "    else: \n",
        "      return 0\n",
        "\n",
        "data_train['mencion'] = data_train['postText'].apply(tiene_mencion)\n",
        "mencion = data_train.groupby('mencion')['truthClass'].value_counts().unstack()\n",
        "\n",
        "porcentaje_clickbait = (mencion['clickbait'][1]/mencion['clickbait'].sum())*100\n",
        "porcentaje_no_clickbait = (mencion['no-clickbait'][1]/mencion['no-clickbait'].sum())*100\n",
        "\n",
        "print('El porcentaje de tweets clickbaits que tiene mencion es del : {:02.2f} %'.format(porcentaje_clickbait))\n",
        "print('El porcentaje de tweets No clickbaits que tiene mencion es del : {:02.2f} %'.format(porcentaje_no_clickbait))\n",
        "\n"
      ],
      "metadata": {
        "colab": {
          "base_uri": "https://localhost:8080/"
        },
        "id": "HTkQZP6j3V3b",
        "outputId": "1174e20e-9f17-4bea-f94e-ab9840ece3d0"
      },
      "execution_count": 8,
      "outputs": [
        {
          "output_type": "stream",
          "name": "stdout",
          "text": [
            "El porcentaje de tweets clickbaits que tiene hashtag es del : 8.82 %\n",
            "El porcentaje de tweets No clickbaits que tiene hashtag es del : 11.13 %\n",
            "El porcentaje de tweets clickbaits que tiene mencion es del : 5.27 %\n",
            "El porcentaje de tweets No clickbaits que tiene mencion es del : 10.27 %\n"
          ]
        }
      ]
    },
    {
      "cell_type": "markdown",
      "source": [
        "En este caso parece que los tweets no clickbait tienen más menciones y hashtag. Después de estas features engineering el dataset queda compuesto de la siguiente manera:"
      ],
      "metadata": {
        "id": "7KevcpUU5Mee"
      }
    },
    {
      "cell_type": "code",
      "source": [
        "data_train.head(10)"
      ],
      "metadata": {
        "colab": {
          "base_uri": "https://localhost:8080/",
          "height": 363
        },
        "id": "_nHc_n-A5hUQ",
        "outputId": "3844fdaf-595f-4349-d8ae-3940b5c8991f"
      },
      "execution_count": 9,
      "outputs": [
        {
          "output_type": "execute_result",
          "data": {
            "text/plain": [
              "                                            postText    truthClass  \\\n",
              "0  UK’s response to modern slavery leaving victim...  no-clickbait   \n",
              "1                                       this is good     clickbait   \n",
              "2  The \"forgotten\" Trump roast: Relive his brutal...  no-clickbait   \n",
              "3               Meet the happiest #dog in the world!     clickbait   \n",
              "4  Tokyo's subway is shut down amid fears over an...  no-clickbait   \n",
              "5             Ban lifted on Madrid doping laboratory  no-clickbait   \n",
              "6  Despite the ‘Yuck Factor,’ Leeches Are Big in ...  no-clickbait   \n",
              "7  #China and #Pakistan have cemented their polit...  no-clickbait   \n",
              "8  Malls are dying, but it's hard to profit from ...  no-clickbait   \n",
              "9  Filipino troops kill notorious Abu Sayyaf kidn...  no-clickbait   \n",
              "\n",
              "   num_palabras  pregunta  exclamacion  empieza_con_numero  hashtag  mencion  \n",
              "0            12         0            0                   0        0        0  \n",
              "1             3         0            0                   0        0        0  \n",
              "2            15         0            0                   0        0        0  \n",
              "3             7         0            1                   0        1        0  \n",
              "4            16         0            0                   0        0        0  \n",
              "5             6         0            0                   0        0        0  \n",
              "6            10         0            0                   0        0        0  \n",
              "7            13         0            0                   0        1        0  \n",
              "8            13         0            0                   0        0        1  \n",
              "9             9         0            0                   0        0        0  "
            ],
            "text/html": [
              "\n",
              "  <div id=\"df-c0b58816-da44-47ed-8d7a-da60cf87ac89\">\n",
              "    <div class=\"colab-df-container\">\n",
              "      <div>\n",
              "<style scoped>\n",
              "    .dataframe tbody tr th:only-of-type {\n",
              "        vertical-align: middle;\n",
              "    }\n",
              "\n",
              "    .dataframe tbody tr th {\n",
              "        vertical-align: top;\n",
              "    }\n",
              "\n",
              "    .dataframe thead th {\n",
              "        text-align: right;\n",
              "    }\n",
              "</style>\n",
              "<table border=\"1\" class=\"dataframe\">\n",
              "  <thead>\n",
              "    <tr style=\"text-align: right;\">\n",
              "      <th></th>\n",
              "      <th>postText</th>\n",
              "      <th>truthClass</th>\n",
              "      <th>num_palabras</th>\n",
              "      <th>pregunta</th>\n",
              "      <th>exclamacion</th>\n",
              "      <th>empieza_con_numero</th>\n",
              "      <th>hashtag</th>\n",
              "      <th>mencion</th>\n",
              "    </tr>\n",
              "  </thead>\n",
              "  <tbody>\n",
              "    <tr>\n",
              "      <th>0</th>\n",
              "      <td>UK’s response to modern slavery leaving victim...</td>\n",
              "      <td>no-clickbait</td>\n",
              "      <td>12</td>\n",
              "      <td>0</td>\n",
              "      <td>0</td>\n",
              "      <td>0</td>\n",
              "      <td>0</td>\n",
              "      <td>0</td>\n",
              "    </tr>\n",
              "    <tr>\n",
              "      <th>1</th>\n",
              "      <td>this is good</td>\n",
              "      <td>clickbait</td>\n",
              "      <td>3</td>\n",
              "      <td>0</td>\n",
              "      <td>0</td>\n",
              "      <td>0</td>\n",
              "      <td>0</td>\n",
              "      <td>0</td>\n",
              "    </tr>\n",
              "    <tr>\n",
              "      <th>2</th>\n",
              "      <td>The \"forgotten\" Trump roast: Relive his brutal...</td>\n",
              "      <td>no-clickbait</td>\n",
              "      <td>15</td>\n",
              "      <td>0</td>\n",
              "      <td>0</td>\n",
              "      <td>0</td>\n",
              "      <td>0</td>\n",
              "      <td>0</td>\n",
              "    </tr>\n",
              "    <tr>\n",
              "      <th>3</th>\n",
              "      <td>Meet the happiest #dog in the world!</td>\n",
              "      <td>clickbait</td>\n",
              "      <td>7</td>\n",
              "      <td>0</td>\n",
              "      <td>1</td>\n",
              "      <td>0</td>\n",
              "      <td>1</td>\n",
              "      <td>0</td>\n",
              "    </tr>\n",
              "    <tr>\n",
              "      <th>4</th>\n",
              "      <td>Tokyo's subway is shut down amid fears over an...</td>\n",
              "      <td>no-clickbait</td>\n",
              "      <td>16</td>\n",
              "      <td>0</td>\n",
              "      <td>0</td>\n",
              "      <td>0</td>\n",
              "      <td>0</td>\n",
              "      <td>0</td>\n",
              "    </tr>\n",
              "    <tr>\n",
              "      <th>5</th>\n",
              "      <td>Ban lifted on Madrid doping laboratory</td>\n",
              "      <td>no-clickbait</td>\n",
              "      <td>6</td>\n",
              "      <td>0</td>\n",
              "      <td>0</td>\n",
              "      <td>0</td>\n",
              "      <td>0</td>\n",
              "      <td>0</td>\n",
              "    </tr>\n",
              "    <tr>\n",
              "      <th>6</th>\n",
              "      <td>Despite the ‘Yuck Factor,’ Leeches Are Big in ...</td>\n",
              "      <td>no-clickbait</td>\n",
              "      <td>10</td>\n",
              "      <td>0</td>\n",
              "      <td>0</td>\n",
              "      <td>0</td>\n",
              "      <td>0</td>\n",
              "      <td>0</td>\n",
              "    </tr>\n",
              "    <tr>\n",
              "      <th>7</th>\n",
              "      <td>#China and #Pakistan have cemented their polit...</td>\n",
              "      <td>no-clickbait</td>\n",
              "      <td>13</td>\n",
              "      <td>0</td>\n",
              "      <td>0</td>\n",
              "      <td>0</td>\n",
              "      <td>1</td>\n",
              "      <td>0</td>\n",
              "    </tr>\n",
              "    <tr>\n",
              "      <th>8</th>\n",
              "      <td>Malls are dying, but it's hard to profit from ...</td>\n",
              "      <td>no-clickbait</td>\n",
              "      <td>13</td>\n",
              "      <td>0</td>\n",
              "      <td>0</td>\n",
              "      <td>0</td>\n",
              "      <td>0</td>\n",
              "      <td>1</td>\n",
              "    </tr>\n",
              "    <tr>\n",
              "      <th>9</th>\n",
              "      <td>Filipino troops kill notorious Abu Sayyaf kidn...</td>\n",
              "      <td>no-clickbait</td>\n",
              "      <td>9</td>\n",
              "      <td>0</td>\n",
              "      <td>0</td>\n",
              "      <td>0</td>\n",
              "      <td>0</td>\n",
              "      <td>0</td>\n",
              "    </tr>\n",
              "  </tbody>\n",
              "</table>\n",
              "</div>\n",
              "      <button class=\"colab-df-convert\" onclick=\"convertToInteractive('df-c0b58816-da44-47ed-8d7a-da60cf87ac89')\"\n",
              "              title=\"Convert this dataframe to an interactive table.\"\n",
              "              style=\"display:none;\">\n",
              "        \n",
              "  <svg xmlns=\"http://www.w3.org/2000/svg\" height=\"24px\"viewBox=\"0 0 24 24\"\n",
              "       width=\"24px\">\n",
              "    <path d=\"M0 0h24v24H0V0z\" fill=\"none\"/>\n",
              "    <path d=\"M18.56 5.44l.94 2.06.94-2.06 2.06-.94-2.06-.94-.94-2.06-.94 2.06-2.06.94zm-11 1L8.5 8.5l.94-2.06 2.06-.94-2.06-.94L8.5 2.5l-.94 2.06-2.06.94zm10 10l.94 2.06.94-2.06 2.06-.94-2.06-.94-.94-2.06-.94 2.06-2.06.94z\"/><path d=\"M17.41 7.96l-1.37-1.37c-.4-.4-.92-.59-1.43-.59-.52 0-1.04.2-1.43.59L10.3 9.45l-7.72 7.72c-.78.78-.78 2.05 0 2.83L4 21.41c.39.39.9.59 1.41.59.51 0 1.02-.2 1.41-.59l7.78-7.78 2.81-2.81c.8-.78.8-2.07 0-2.86zM5.41 20L4 18.59l7.72-7.72 1.47 1.35L5.41 20z\"/>\n",
              "  </svg>\n",
              "      </button>\n",
              "      \n",
              "  <style>\n",
              "    .colab-df-container {\n",
              "      display:flex;\n",
              "      flex-wrap:wrap;\n",
              "      gap: 12px;\n",
              "    }\n",
              "\n",
              "    .colab-df-convert {\n",
              "      background-color: #E8F0FE;\n",
              "      border: none;\n",
              "      border-radius: 50%;\n",
              "      cursor: pointer;\n",
              "      display: none;\n",
              "      fill: #1967D2;\n",
              "      height: 32px;\n",
              "      padding: 0 0 0 0;\n",
              "      width: 32px;\n",
              "    }\n",
              "\n",
              "    .colab-df-convert:hover {\n",
              "      background-color: #E2EBFA;\n",
              "      box-shadow: 0px 1px 2px rgba(60, 64, 67, 0.3), 0px 1px 3px 1px rgba(60, 64, 67, 0.15);\n",
              "      fill: #174EA6;\n",
              "    }\n",
              "\n",
              "    [theme=dark] .colab-df-convert {\n",
              "      background-color: #3B4455;\n",
              "      fill: #D2E3FC;\n",
              "    }\n",
              "\n",
              "    [theme=dark] .colab-df-convert:hover {\n",
              "      background-color: #434B5C;\n",
              "      box-shadow: 0px 1px 3px 1px rgba(0, 0, 0, 0.15);\n",
              "      filter: drop-shadow(0px 1px 2px rgba(0, 0, 0, 0.3));\n",
              "      fill: #FFFFFF;\n",
              "    }\n",
              "  </style>\n",
              "\n",
              "      <script>\n",
              "        const buttonEl =\n",
              "          document.querySelector('#df-c0b58816-da44-47ed-8d7a-da60cf87ac89 button.colab-df-convert');\n",
              "        buttonEl.style.display =\n",
              "          google.colab.kernel.accessAllowed ? 'block' : 'none';\n",
              "\n",
              "        async function convertToInteractive(key) {\n",
              "          const element = document.querySelector('#df-c0b58816-da44-47ed-8d7a-da60cf87ac89');\n",
              "          const dataTable =\n",
              "            await google.colab.kernel.invokeFunction('convertToInteractive',\n",
              "                                                     [key], {});\n",
              "          if (!dataTable) return;\n",
              "\n",
              "          const docLinkHtml = 'Like what you see? Visit the ' +\n",
              "            '<a target=\"_blank\" href=https://colab.research.google.com/notebooks/data_table.ipynb>data table notebook</a>'\n",
              "            + ' to learn more about interactive tables.';\n",
              "          element.innerHTML = '';\n",
              "          dataTable['output_type'] = 'display_data';\n",
              "          await google.colab.output.renderOutput(dataTable, element);\n",
              "          const docLink = document.createElement('div');\n",
              "          docLink.innerHTML = docLinkHtml;\n",
              "          element.appendChild(docLink);\n",
              "        }\n",
              "      </script>\n",
              "    </div>\n",
              "  </div>\n",
              "  "
            ]
          },
          "metadata": {},
          "execution_count": 9
        }
      ]
    },
    {
      "cell_type": "markdown",
      "source": [
        "Transformar labels y comprobar correlación entre variables. Si hubiera correlación entre las nuevas variables se podría descartar una de ellas."
      ],
      "metadata": {
        "id": "zFJcm71tSc7K"
      }
    },
    {
      "cell_type": "code",
      "source": [
        "# Primero voy a transformar las labels a dummy variables\n",
        "\n",
        "lb = LabelBinarizer()\n",
        "\n",
        "data_train = data_train.join(pd.DataFrame(lb.fit_transform(data_train['truthClass']),columns = ['Clase'])).drop(['truthClass'],axis = 1)\n",
        "\n",
        "featured_made = data_train.drop('postText', axis = 1)\n",
        "\n",
        "featured_made.corr()"
      ],
      "metadata": {
        "colab": {
          "base_uri": "https://localhost:8080/",
          "height": 269
        },
        "id": "PEAES878ST4b",
        "outputId": "37d14710-99d1-4009-dbf0-a4840c1ea90b"
      },
      "execution_count": 10,
      "outputs": [
        {
          "output_type": "execute_result",
          "data": {
            "text/plain": [
              "                    num_palabras  pregunta  exclamacion  empieza_con_numero  \\\n",
              "num_palabras            1.000000  0.016495    -0.031655           -0.046915   \n",
              "pregunta                0.016495  1.000000     0.017567           -0.038912   \n",
              "exclamacion            -0.031655  0.017567     1.000000           -0.015580   \n",
              "empieza_con_numero     -0.046915 -0.038912    -0.015580            1.000000   \n",
              "hashtag                 0.040023  0.030997     0.152067           -0.039206   \n",
              "mencion                 0.041949  0.011352     0.069178           -0.034826   \n",
              "Clase                   0.227876 -0.136359    -0.071847           -0.192433   \n",
              "\n",
              "                     hashtag   mencion     Clase  \n",
              "num_palabras        0.040023  0.041949  0.227876  \n",
              "pregunta            0.030997  0.011352 -0.136359  \n",
              "exclamacion         0.152067  0.069178 -0.071847  \n",
              "empieza_con_numero -0.039206 -0.034826 -0.192433  \n",
              "hashtag             1.000000  0.128892  0.032175  \n",
              "mencion             0.128892  1.000000  0.074813  \n",
              "Clase               0.032175  0.074813  1.000000  "
            ],
            "text/html": [
              "\n",
              "  <div id=\"df-d69cbe56-bc34-4901-8efb-9a4d6091c38e\">\n",
              "    <div class=\"colab-df-container\">\n",
              "      <div>\n",
              "<style scoped>\n",
              "    .dataframe tbody tr th:only-of-type {\n",
              "        vertical-align: middle;\n",
              "    }\n",
              "\n",
              "    .dataframe tbody tr th {\n",
              "        vertical-align: top;\n",
              "    }\n",
              "\n",
              "    .dataframe thead th {\n",
              "        text-align: right;\n",
              "    }\n",
              "</style>\n",
              "<table border=\"1\" class=\"dataframe\">\n",
              "  <thead>\n",
              "    <tr style=\"text-align: right;\">\n",
              "      <th></th>\n",
              "      <th>num_palabras</th>\n",
              "      <th>pregunta</th>\n",
              "      <th>exclamacion</th>\n",
              "      <th>empieza_con_numero</th>\n",
              "      <th>hashtag</th>\n",
              "      <th>mencion</th>\n",
              "      <th>Clase</th>\n",
              "    </tr>\n",
              "  </thead>\n",
              "  <tbody>\n",
              "    <tr>\n",
              "      <th>num_palabras</th>\n",
              "      <td>1.000000</td>\n",
              "      <td>0.016495</td>\n",
              "      <td>-0.031655</td>\n",
              "      <td>-0.046915</td>\n",
              "      <td>0.040023</td>\n",
              "      <td>0.041949</td>\n",
              "      <td>0.227876</td>\n",
              "    </tr>\n",
              "    <tr>\n",
              "      <th>pregunta</th>\n",
              "      <td>0.016495</td>\n",
              "      <td>1.000000</td>\n",
              "      <td>0.017567</td>\n",
              "      <td>-0.038912</td>\n",
              "      <td>0.030997</td>\n",
              "      <td>0.011352</td>\n",
              "      <td>-0.136359</td>\n",
              "    </tr>\n",
              "    <tr>\n",
              "      <th>exclamacion</th>\n",
              "      <td>-0.031655</td>\n",
              "      <td>0.017567</td>\n",
              "      <td>1.000000</td>\n",
              "      <td>-0.015580</td>\n",
              "      <td>0.152067</td>\n",
              "      <td>0.069178</td>\n",
              "      <td>-0.071847</td>\n",
              "    </tr>\n",
              "    <tr>\n",
              "      <th>empieza_con_numero</th>\n",
              "      <td>-0.046915</td>\n",
              "      <td>-0.038912</td>\n",
              "      <td>-0.015580</td>\n",
              "      <td>1.000000</td>\n",
              "      <td>-0.039206</td>\n",
              "      <td>-0.034826</td>\n",
              "      <td>-0.192433</td>\n",
              "    </tr>\n",
              "    <tr>\n",
              "      <th>hashtag</th>\n",
              "      <td>0.040023</td>\n",
              "      <td>0.030997</td>\n",
              "      <td>0.152067</td>\n",
              "      <td>-0.039206</td>\n",
              "      <td>1.000000</td>\n",
              "      <td>0.128892</td>\n",
              "      <td>0.032175</td>\n",
              "    </tr>\n",
              "    <tr>\n",
              "      <th>mencion</th>\n",
              "      <td>0.041949</td>\n",
              "      <td>0.011352</td>\n",
              "      <td>0.069178</td>\n",
              "      <td>-0.034826</td>\n",
              "      <td>0.128892</td>\n",
              "      <td>1.000000</td>\n",
              "      <td>0.074813</td>\n",
              "    </tr>\n",
              "    <tr>\n",
              "      <th>Clase</th>\n",
              "      <td>0.227876</td>\n",
              "      <td>-0.136359</td>\n",
              "      <td>-0.071847</td>\n",
              "      <td>-0.192433</td>\n",
              "      <td>0.032175</td>\n",
              "      <td>0.074813</td>\n",
              "      <td>1.000000</td>\n",
              "    </tr>\n",
              "  </tbody>\n",
              "</table>\n",
              "</div>\n",
              "      <button class=\"colab-df-convert\" onclick=\"convertToInteractive('df-d69cbe56-bc34-4901-8efb-9a4d6091c38e')\"\n",
              "              title=\"Convert this dataframe to an interactive table.\"\n",
              "              style=\"display:none;\">\n",
              "        \n",
              "  <svg xmlns=\"http://www.w3.org/2000/svg\" height=\"24px\"viewBox=\"0 0 24 24\"\n",
              "       width=\"24px\">\n",
              "    <path d=\"M0 0h24v24H0V0z\" fill=\"none\"/>\n",
              "    <path d=\"M18.56 5.44l.94 2.06.94-2.06 2.06-.94-2.06-.94-.94-2.06-.94 2.06-2.06.94zm-11 1L8.5 8.5l.94-2.06 2.06-.94-2.06-.94L8.5 2.5l-.94 2.06-2.06.94zm10 10l.94 2.06.94-2.06 2.06-.94-2.06-.94-.94-2.06-.94 2.06-2.06.94z\"/><path d=\"M17.41 7.96l-1.37-1.37c-.4-.4-.92-.59-1.43-.59-.52 0-1.04.2-1.43.59L10.3 9.45l-7.72 7.72c-.78.78-.78 2.05 0 2.83L4 21.41c.39.39.9.59 1.41.59.51 0 1.02-.2 1.41-.59l7.78-7.78 2.81-2.81c.8-.78.8-2.07 0-2.86zM5.41 20L4 18.59l7.72-7.72 1.47 1.35L5.41 20z\"/>\n",
              "  </svg>\n",
              "      </button>\n",
              "      \n",
              "  <style>\n",
              "    .colab-df-container {\n",
              "      display:flex;\n",
              "      flex-wrap:wrap;\n",
              "      gap: 12px;\n",
              "    }\n",
              "\n",
              "    .colab-df-convert {\n",
              "      background-color: #E8F0FE;\n",
              "      border: none;\n",
              "      border-radius: 50%;\n",
              "      cursor: pointer;\n",
              "      display: none;\n",
              "      fill: #1967D2;\n",
              "      height: 32px;\n",
              "      padding: 0 0 0 0;\n",
              "      width: 32px;\n",
              "    }\n",
              "\n",
              "    .colab-df-convert:hover {\n",
              "      background-color: #E2EBFA;\n",
              "      box-shadow: 0px 1px 2px rgba(60, 64, 67, 0.3), 0px 1px 3px 1px rgba(60, 64, 67, 0.15);\n",
              "      fill: #174EA6;\n",
              "    }\n",
              "\n",
              "    [theme=dark] .colab-df-convert {\n",
              "      background-color: #3B4455;\n",
              "      fill: #D2E3FC;\n",
              "    }\n",
              "\n",
              "    [theme=dark] .colab-df-convert:hover {\n",
              "      background-color: #434B5C;\n",
              "      box-shadow: 0px 1px 3px 1px rgba(0, 0, 0, 0.15);\n",
              "      filter: drop-shadow(0px 1px 2px rgba(0, 0, 0, 0.3));\n",
              "      fill: #FFFFFF;\n",
              "    }\n",
              "  </style>\n",
              "\n",
              "      <script>\n",
              "        const buttonEl =\n",
              "          document.querySelector('#df-d69cbe56-bc34-4901-8efb-9a4d6091c38e button.colab-df-convert');\n",
              "        buttonEl.style.display =\n",
              "          google.colab.kernel.accessAllowed ? 'block' : 'none';\n",
              "\n",
              "        async function convertToInteractive(key) {\n",
              "          const element = document.querySelector('#df-d69cbe56-bc34-4901-8efb-9a4d6091c38e');\n",
              "          const dataTable =\n",
              "            await google.colab.kernel.invokeFunction('convertToInteractive',\n",
              "                                                     [key], {});\n",
              "          if (!dataTable) return;\n",
              "\n",
              "          const docLinkHtml = 'Like what you see? Visit the ' +\n",
              "            '<a target=\"_blank\" href=https://colab.research.google.com/notebooks/data_table.ipynb>data table notebook</a>'\n",
              "            + ' to learn more about interactive tables.';\n",
              "          element.innerHTML = '';\n",
              "          dataTable['output_type'] = 'display_data';\n",
              "          await google.colab.output.renderOutput(dataTable, element);\n",
              "          const docLink = document.createElement('div');\n",
              "          docLink.innerHTML = docLinkHtml;\n",
              "          element.appendChild(docLink);\n",
              "        }\n",
              "      </script>\n",
              "    </div>\n",
              "  </div>\n",
              "  "
            ]
          },
          "metadata": {},
          "execution_count": 10
        }
      ]
    },
    {
      "cell_type": "markdown",
      "source": [
        "Las nuevas variables generadas parecen no estar correlacionadas entre ellas en gran medida, siendo la variable número de palabras la que está más correlacionada con el target"
      ],
      "metadata": {
        "id": "we6ceDzo10vA"
      }
    },
    {
      "cell_type": "markdown",
      "source": [
        "**Data transformation y más visualizaciones**\n",
        "\n",
        "Para que los modelos de NLP basados en técnicas clásicas de machine learning tengan mayor rendimiento es necesario hacer una serie de transformaciones a los inputs, no puede haber strings, y siempre es conveniente quitar palabras comunes y signos de puntuación entre otros pre procesamientos con el objetivo de simplicar el texto y hacer que al vectorizar el texto la matrix resultante sea un poco más manejable y no tan sparse, Esto se puede hacer porque estos modelos no tienen información contextual. También sacaré más visualizaciones en lo referente a palabras más comunes en cada grupo"
      ],
      "metadata": {
        "id": "COtLKTIo5vQe"
      }
    },
    {
      "cell_type": "code",
      "source": [
        "\n",
        "\n",
        "# A continuación voy a procesar el texto para limpiarlo de elementos que no aportan valor y simplificarlo\n",
        "\n",
        "\n",
        "def utils_preprocess_text(text, flg_stemm=False, flg_lemm=True, lst_stopwords=None):\n",
        "\n",
        "    '''\n",
        "    Esta función tiene como input una string y la duelve limpia. Se puede usar con los siguientes parametros:\n",
        "\n",
        "        text: string - texto\n",
        "        lst_stopwords: list - lista de stopswords\n",
        "        flg_stemm: bool - aplicar stemming\n",
        "        flg_lemm: bool - aplicar lemmatisation\n",
        "\n",
        "    '''\n",
        "\n",
        "    ## convertir a lowercase y quitar puntuación\n",
        "    text = re.sub(r'[^\\w\\s]', '', str(text).lower().strip())\n",
        "            \n",
        "    ## Tokenizar \n",
        "    lst_text = text.split()\n",
        "\n",
        "    ## quitar Stopwords\n",
        "    if lst_stopwords is not None:\n",
        "        lst_text = [word for word in lst_text if word not in \n",
        "                    lst_stopwords]\n",
        "                \n",
        "    ## Stemming (quitar -ing, -ly, ...)\n",
        "    if flg_stemm == True:\n",
        "        ps = nltk.stem.porter.PorterStemmer()\n",
        "        lst_text = [ps.stem(word) for word in lst_text]\n",
        "                \n",
        "    ## Lemmatisation (pasar la palabra a la raíz)\n",
        "    if flg_lemm == True:\n",
        "        lem = nltk.stem.wordnet.WordNetLemmatizer()\n",
        "        lst_text = [lem.lemmatize(word) for word in lst_text]\n",
        "            \n",
        "    ## pasar de lista a string\n",
        "    text = \" \".join(lst_text)\n",
        "    return text\n",
        "\n",
        "\n"
      ],
      "metadata": {
        "id": "InJxAgYK6ast"
      },
      "execution_count": 11,
      "outputs": []
    },
    {
      "cell_type": "code",
      "source": [
        "list_stopwords = nltk.corpus.stopwords.words(\"english\")\n",
        "\n",
        "data_train['texto_limpio'] = data_train['postText'].apply(lambda x: \n",
        "          utils_preprocess_text(x, flg_stemm=False, flg_lemm=True, \n",
        "          lst_stopwords=list_stopwords))\n",
        "\n",
        "text_train = data_train[['postText','Clase']]\n",
        "data_train.drop(['postText'],axis = 1, inplace=True)\n",
        "\n",
        "data_train.head()"
      ],
      "metadata": {
        "colab": {
          "base_uri": "https://localhost:8080/",
          "height": 206
        },
        "id": "i32lvuCT_WLk",
        "outputId": "e775356f-a5be-4095-b659-deca5abadf4b"
      },
      "execution_count": 12,
      "outputs": [
        {
          "output_type": "execute_result",
          "data": {
            "text/plain": [
              "   num_palabras  pregunta  exclamacion  empieza_con_numero  hashtag  mencion  \\\n",
              "0            12         0            0                   0        0        0   \n",
              "1             3         0            0                   0        0        0   \n",
              "2            15         0            0                   0        0        0   \n",
              "3             7         0            1                   0        1        0   \n",
              "4            16         0            0                   0        0        0   \n",
              "\n",
              "   Clase                                       texto_limpio  \n",
              "0      1  uk response modern slavery leaving victim dest...  \n",
              "1      0                                               good  \n",
              "2      1  forgotten trump roast relive brutal 2004 thras...  \n",
              "3      0                            meet happiest dog world  \n",
              "4      1  tokyo subway shut amid fear imminent north kor...  "
            ],
            "text/html": [
              "\n",
              "  <div id=\"df-e52a3d25-d512-425d-98cb-71d2f7a09dd4\">\n",
              "    <div class=\"colab-df-container\">\n",
              "      <div>\n",
              "<style scoped>\n",
              "    .dataframe tbody tr th:only-of-type {\n",
              "        vertical-align: middle;\n",
              "    }\n",
              "\n",
              "    .dataframe tbody tr th {\n",
              "        vertical-align: top;\n",
              "    }\n",
              "\n",
              "    .dataframe thead th {\n",
              "        text-align: right;\n",
              "    }\n",
              "</style>\n",
              "<table border=\"1\" class=\"dataframe\">\n",
              "  <thead>\n",
              "    <tr style=\"text-align: right;\">\n",
              "      <th></th>\n",
              "      <th>num_palabras</th>\n",
              "      <th>pregunta</th>\n",
              "      <th>exclamacion</th>\n",
              "      <th>empieza_con_numero</th>\n",
              "      <th>hashtag</th>\n",
              "      <th>mencion</th>\n",
              "      <th>Clase</th>\n",
              "      <th>texto_limpio</th>\n",
              "    </tr>\n",
              "  </thead>\n",
              "  <tbody>\n",
              "    <tr>\n",
              "      <th>0</th>\n",
              "      <td>12</td>\n",
              "      <td>0</td>\n",
              "      <td>0</td>\n",
              "      <td>0</td>\n",
              "      <td>0</td>\n",
              "      <td>0</td>\n",
              "      <td>1</td>\n",
              "      <td>uk response modern slavery leaving victim dest...</td>\n",
              "    </tr>\n",
              "    <tr>\n",
              "      <th>1</th>\n",
              "      <td>3</td>\n",
              "      <td>0</td>\n",
              "      <td>0</td>\n",
              "      <td>0</td>\n",
              "      <td>0</td>\n",
              "      <td>0</td>\n",
              "      <td>0</td>\n",
              "      <td>good</td>\n",
              "    </tr>\n",
              "    <tr>\n",
              "      <th>2</th>\n",
              "      <td>15</td>\n",
              "      <td>0</td>\n",
              "      <td>0</td>\n",
              "      <td>0</td>\n",
              "      <td>0</td>\n",
              "      <td>0</td>\n",
              "      <td>1</td>\n",
              "      <td>forgotten trump roast relive brutal 2004 thras...</td>\n",
              "    </tr>\n",
              "    <tr>\n",
              "      <th>3</th>\n",
              "      <td>7</td>\n",
              "      <td>0</td>\n",
              "      <td>1</td>\n",
              "      <td>0</td>\n",
              "      <td>1</td>\n",
              "      <td>0</td>\n",
              "      <td>0</td>\n",
              "      <td>meet happiest dog world</td>\n",
              "    </tr>\n",
              "    <tr>\n",
              "      <th>4</th>\n",
              "      <td>16</td>\n",
              "      <td>0</td>\n",
              "      <td>0</td>\n",
              "      <td>0</td>\n",
              "      <td>0</td>\n",
              "      <td>0</td>\n",
              "      <td>1</td>\n",
              "      <td>tokyo subway shut amid fear imminent north kor...</td>\n",
              "    </tr>\n",
              "  </tbody>\n",
              "</table>\n",
              "</div>\n",
              "      <button class=\"colab-df-convert\" onclick=\"convertToInteractive('df-e52a3d25-d512-425d-98cb-71d2f7a09dd4')\"\n",
              "              title=\"Convert this dataframe to an interactive table.\"\n",
              "              style=\"display:none;\">\n",
              "        \n",
              "  <svg xmlns=\"http://www.w3.org/2000/svg\" height=\"24px\"viewBox=\"0 0 24 24\"\n",
              "       width=\"24px\">\n",
              "    <path d=\"M0 0h24v24H0V0z\" fill=\"none\"/>\n",
              "    <path d=\"M18.56 5.44l.94 2.06.94-2.06 2.06-.94-2.06-.94-.94-2.06-.94 2.06-2.06.94zm-11 1L8.5 8.5l.94-2.06 2.06-.94-2.06-.94L8.5 2.5l-.94 2.06-2.06.94zm10 10l.94 2.06.94-2.06 2.06-.94-2.06-.94-.94-2.06-.94 2.06-2.06.94z\"/><path d=\"M17.41 7.96l-1.37-1.37c-.4-.4-.92-.59-1.43-.59-.52 0-1.04.2-1.43.59L10.3 9.45l-7.72 7.72c-.78.78-.78 2.05 0 2.83L4 21.41c.39.39.9.59 1.41.59.51 0 1.02-.2 1.41-.59l7.78-7.78 2.81-2.81c.8-.78.8-2.07 0-2.86zM5.41 20L4 18.59l7.72-7.72 1.47 1.35L5.41 20z\"/>\n",
              "  </svg>\n",
              "      </button>\n",
              "      \n",
              "  <style>\n",
              "    .colab-df-container {\n",
              "      display:flex;\n",
              "      flex-wrap:wrap;\n",
              "      gap: 12px;\n",
              "    }\n",
              "\n",
              "    .colab-df-convert {\n",
              "      background-color: #E8F0FE;\n",
              "      border: none;\n",
              "      border-radius: 50%;\n",
              "      cursor: pointer;\n",
              "      display: none;\n",
              "      fill: #1967D2;\n",
              "      height: 32px;\n",
              "      padding: 0 0 0 0;\n",
              "      width: 32px;\n",
              "    }\n",
              "\n",
              "    .colab-df-convert:hover {\n",
              "      background-color: #E2EBFA;\n",
              "      box-shadow: 0px 1px 2px rgba(60, 64, 67, 0.3), 0px 1px 3px 1px rgba(60, 64, 67, 0.15);\n",
              "      fill: #174EA6;\n",
              "    }\n",
              "\n",
              "    [theme=dark] .colab-df-convert {\n",
              "      background-color: #3B4455;\n",
              "      fill: #D2E3FC;\n",
              "    }\n",
              "\n",
              "    [theme=dark] .colab-df-convert:hover {\n",
              "      background-color: #434B5C;\n",
              "      box-shadow: 0px 1px 3px 1px rgba(0, 0, 0, 0.15);\n",
              "      filter: drop-shadow(0px 1px 2px rgba(0, 0, 0, 0.3));\n",
              "      fill: #FFFFFF;\n",
              "    }\n",
              "  </style>\n",
              "\n",
              "      <script>\n",
              "        const buttonEl =\n",
              "          document.querySelector('#df-e52a3d25-d512-425d-98cb-71d2f7a09dd4 button.colab-df-convert');\n",
              "        buttonEl.style.display =\n",
              "          google.colab.kernel.accessAllowed ? 'block' : 'none';\n",
              "\n",
              "        async function convertToInteractive(key) {\n",
              "          const element = document.querySelector('#df-e52a3d25-d512-425d-98cb-71d2f7a09dd4');\n",
              "          const dataTable =\n",
              "            await google.colab.kernel.invokeFunction('convertToInteractive',\n",
              "                                                     [key], {});\n",
              "          if (!dataTable) return;\n",
              "\n",
              "          const docLinkHtml = 'Like what you see? Visit the ' +\n",
              "            '<a target=\"_blank\" href=https://colab.research.google.com/notebooks/data_table.ipynb>data table notebook</a>'\n",
              "            + ' to learn more about interactive tables.';\n",
              "          element.innerHTML = '';\n",
              "          dataTable['output_type'] = 'display_data';\n",
              "          await google.colab.output.renderOutput(dataTable, element);\n",
              "          const docLink = document.createElement('div');\n",
              "          docLink.innerHTML = docLinkHtml;\n",
              "          element.appendChild(docLink);\n",
              "        }\n",
              "      </script>\n",
              "    </div>\n",
              "  </div>\n",
              "  "
            ]
          },
          "metadata": {},
          "execution_count": 12
        }
      ]
    },
    {
      "cell_type": "markdown",
      "source": [
        "Para finalizar con el EDA y la parte de feature engineering voy a calcular las palabras más comunes en cada clase y mostrarlas en un gráfico."
      ],
      "metadata": {
        "id": "ak7LVyhGmFia"
      }
    },
    {
      "cell_type": "code",
      "source": [
        "# Primero voy a crear dos dataframes diferenciados por clase\n",
        "\n",
        "\n",
        "df_cb=data_train[data_train['Clase']==1]\n",
        "df_ncb=data_train[data_train['Clase']==0]\n",
        "\n",
        "#Ahora crearé una lista de palabras unicas por clase\n",
        "\n",
        "cb_list=list(df_cb['texto_limpio'])\n",
        "cb_list = [wrd for sub in cb_list for wrd in sub.split()]\n",
        "ncb_list=list(df_ncb['texto_limpio'])\n",
        "ncb_list = [wrd for sub in ncb_list for wrd in sub.split()]\n",
        "\n",
        "# El siguiente código es para sacar las frecuencias de las palabras\n",
        "cb_freq = FreqDist(cb_list)\n",
        "ncb_freq = FreqDist(ncb_list)\n",
        "\n",
        "cb_bar_counts = [x[1] for x in cb_freq.most_common(20)]\n",
        "cb_bar_words = [x[0] for x in cb_freq.most_common(20)]\n",
        "\n",
        "ncb_bar_counts = [x[1] for x in ncb_freq.most_common(20)]\n",
        "ncb_bar_words = [x[0] for x in ncb_freq.most_common(20)]\n",
        "\n",
        "\n",
        "#plots con las 20 palabras más comunes en cada clase\n",
        "#clickbait\n",
        "word_freq_figure1 = plt.figure(figsize=(10,6))\n",
        "sns.barplot(cb_bar_words, cb_bar_counts,palette='Oranges_d')\n",
        "plt.xticks(fontsize=16)\n",
        "plt.xticks(rotation=80)\n",
        "plt.title('Top 20 palabras en clickbait ')\n",
        "plt.xlabel('Palabras más comunes')\n",
        "plt.ylabel('Conteo')\n",
        "sns.set_style('darkgrid')\n",
        "plt.show()\n",
        "\n",
        "#no clickbait\n",
        "word_freq_figure1 = plt.figure(figsize=(10,6))\n",
        "sns.barplot(ncb_bar_words, ncb_bar_counts,palette='mako')\n",
        "plt.xticks(fontsize=16)\n",
        "plt.xticks(rotation=80)\n",
        "plt.title('Top 20 palabras en no clickbait')\n",
        "plt.xlabel('Palabras más comunes')\n",
        "plt.ylabel('Conteo')\n",
        "plt.show()\n",
        "\n"
      ],
      "metadata": {
        "id": "TKcD_t3omh_M",
        "colab": {
          "base_uri": "https://localhost:8080/",
          "height": 997
        },
        "outputId": "29531f4d-2ca0-4a52-90fa-fdc82d5909d2"
      },
      "execution_count": 13,
      "outputs": [
        {
          "output_type": "stream",
          "name": "stderr",
          "text": [
            "/usr/local/lib/python3.7/dist-packages/seaborn/_decorators.py:43: FutureWarning: Pass the following variables as keyword args: x, y. From version 0.12, the only valid positional argument will be `data`, and passing other arguments without an explicit keyword will result in an error or misinterpretation.\n",
            "  FutureWarning\n"
          ]
        },
        {
          "output_type": "display_data",
          "data": {
            "text/plain": [
              "<Figure size 720x432 with 1 Axes>"
            ],
            "image/png": "[encoded data removed]"
          },
          "metadata": {}
        },
        {
          "output_type": "stream",
          "name": "stderr",
          "text": [
            "/usr/local/lib/python3.7/dist-packages/seaborn/_decorators.py:43: FutureWarning: Pass the following variables as keyword args: x, y. From version 0.12, the only valid positional argument will be `data`, and passing other arguments without an explicit keyword will result in an error or misinterpretation.\n",
            "  FutureWarning\n"
          ]
        },
        {
          "output_type": "display_data",
          "data": {
            "text/plain": [
              "<Figure size 720x432 with 1 Axes>"
            ],
            "image/png": "[encoded data removed]"
          },
          "metadata": {}
        }
      ]
    },
    {
      "cell_type": "markdown",
      "source": [
        "Parece ser que trump es la palabra más popular pero hay mucha más diferencia en el de clickbait alrededor del 40 % de tweets que son clickbaits tienen la palabra trump, lo que es algo muy significativo, además ente el top 20 también están president y donald, con lo que muchos tweets de clickbait tienen que ver con el presidente de EEUU en aquel momento.\n",
        "\n",
        "\n"
      ],
      "metadata": {
        "id": "AKJlMt1I9P41"
      }
    },
    {
      "cell_type": "code",
      "source": [
        "# Preparar el datasets de test con el mismo pre procesamiento que el de train\n",
        "\n",
        "data_test['num_palabras'] = data_test['postText'].apply(lambda x: len(x.split()))\n",
        "data_test['pregunta'] = data_test['postText'].apply(es_pregunta)\n",
        "data_test['exclamacion']=data_test['postText'].apply(tiene_exclamacion)\n",
        "data_test['empieza_con_numero'] = data_test['postText'].apply(empieza_con_numero)\n",
        "data_test['hashtag'] = data_test['postText'].apply(tiene_hashtag)\n",
        "data_test['mencion'] = data_test['postText'].apply(tiene_mencion)\n",
        "data_test['texto_limpio'] = data_test['postText'].apply(lambda x: \n",
        "          utils_preprocess_text(x, flg_stemm=False, flg_lemm=True, \n",
        "          lst_stopwords=list_stopwords))\n",
        "\n",
        "data_test = data_test.join(pd.DataFrame(lb.fit_transform(data_test['truthClass']),columns = ['Clase'])).drop(['truthClass'],axis = 1)\n",
        "\n",
        "text_test = data_test[['postText','Clase']]\n",
        "data_test.drop(['postText'],axis = 1, inplace=True)\n",
        "\n",
        "y_train = data_train['Clase'].values\n",
        "y_test = data_test['Clase'].values\n",
        "\n",
        "clases = ['Clickbait','No Clickbait']\n",
        "y_test_array = pd.get_dummies(y_test, drop_first=False).values\n",
        "\n"
      ],
      "metadata": {
        "id": "RT9r94fUC0cv"
      },
      "execution_count": 14,
      "outputs": []
    },
    {
      "cell_type": "markdown",
      "source": [
        "Antes de empezar con el modelo voy definir las funciones que voy a utilizar para sacar las métricas de los resultados..."
      ],
      "metadata": {
        "id": "MkLUiTLvu1KW"
      }
    },
    {
      "cell_type": "code",
      "source": [
        "## Accuracy, Precision, Recall,f1\n",
        "\n",
        "def metricas(y_test,pred):\n",
        "\n",
        "  accuracy = accuracy_score(y_test, pred)\n",
        "\n",
        "  return print(\"Accuracy:\",  round(accuracy,2)) , print(classification_report(y_test, pred))\n",
        "  \n",
        "## Plot confusion matrix\n",
        "\n",
        "def conf_matrix(y_test, pred):\n",
        "\n",
        "  cm = confusion_matrix(y_test, pred)\n",
        "  fig, ax = plt.subplots()\n",
        "  sns.heatmap(cm, annot=True, fmt='d', ax=ax, cmap=plt.cm.Blues, \n",
        "              cbar=False)\n",
        "  ax.set(xlabel=\"Pred\", ylabel=\"True\", xticklabels=clases, \n",
        "        yticklabels=clases, title=\"Confusion matrix\")\n",
        "  plt.yticks(rotation=0)\n",
        "\n",
        " \n",
        "    \n",
        "## Plot precision-recall curve\n",
        "\n",
        "def pr_curve(y_test_array,predicted_prob):\n",
        "  fig, ax = plt.subplots(nrows=1, ncols=2)\n",
        "  ## Plot roc\n",
        "  for i in range(len(clases)):\n",
        "      fpr, tpr, thresholds = roc_curve(y_test_array[:,i],  \n",
        "                            predicted_prob[:,i])\n",
        "      ax[0].plot(fpr, tpr, lw=3, \n",
        "                label='{0} (area={1:0.2f})'.format(clases[i], \n",
        "                                auc(fpr, tpr))\n",
        "                )\n",
        "  ax[0].plot([0,1], [0,1], color='navy', lw=3, linestyle='--')\n",
        "  ax[0].set(xlim=[-0.05,1.0], ylim=[0.0,1.05], \n",
        "            xlabel='False Positive Rate', \n",
        "            ylabel=\"True Positive Rate (Recall)\", \n",
        "            title=\"ROC\")\n",
        "  ax[0].legend(loc=\"lower right\")\n",
        "  ax[0].grid(True)\n",
        "      \n",
        "  ## Plot precision-recall curve\n",
        "  for i in range(len(clases)):\n",
        "      precision, recall, thresholds = precision_recall_curve(\n",
        "                  y_test_array[:,i], predicted_prob[:,i])\n",
        "      ax[1].plot(recall, precision, lw=3, \n",
        "                label='{0} (area={1:0.2f})'.format(clases[i], \n",
        "                                    auc(recall, precision))\n",
        "                )\n",
        "  ax[1].set(xlim=[0.0,1.05], ylim=[0.0,1.05], xlabel='Recall', \n",
        "            ylabel=\"Precision\", title=\"Precision-Recall curve\")\n",
        "  ax[1].legend(loc=\"best\")\n",
        "  ax[1].grid(True)\n",
        "  plt.show()"
      ],
      "metadata": {
        "id": "cVNetbc8vEwP"
      },
      "execution_count": 15,
      "outputs": []
    },
    {
      "cell_type": "markdown",
      "source": [
        "# **Parte 2 modelo de machine learning**\n",
        "\n",
        "Una vez que hemos creado las nuevas variables hace falta vectorizar el texto para que sea ingestable para los modelos. Para vectorizar y crear el vocabulario voy a utilizar Tf-Idf es una forma de vectorizar un poco más sofisticada que simplemente contar palabras, y basicamente consiste en que el valor de la palabra se incrementa proporcionalmente con el conteo pero es inversamente proporcional a la cantidad de veces que esa palabra aparece en todos los tweets. El tf-Idf que voy a usar va atener un vocabulario de 10000 palabras y va a usar n_grams de 2 para capturar bigramas como \"new york\""
      ],
      "metadata": {
        "id": "ivvyVOYdGOym"
      }
    },
    {
      "cell_type": "code",
      "source": [
        "## Tf-Idf \n",
        "vectorizer = feature_extraction.text.TfidfVectorizer(max_features=10000, ngram_range=(1,2))\n",
        "\n",
        "\n",
        "corpus = data_train['texto_limpio']\n",
        "vectorizer.fit(corpus)\n",
        "X_train = vectorizer.transform(corpus)\n",
        "dic_vocabulary = vectorizer.vocabulary_\n",
        "\n",
        "sns.heatmap(X_train.todense()[:,np.random.randint(0,X_train.shape[1],100)]==0, vmin=0, vmax=1, cbar=False).set_title('Sparse Matrix Sample')\n",
        "\n",
        "X_train.shape\n",
        "\n"
      ],
      "metadata": {
        "colab": {
          "base_uri": "https://localhost:8080/",
          "height": 298
        },
        "id": "TdjOVCfBGaIS",
        "outputId": "b58447d4-6783-4342-d8a8-5a52d83e13a5"
      },
      "execution_count": 16,
      "outputs": [
        {
          "output_type": "execute_result",
          "data": {
            "text/plain": [
              "(19538, 10000)"
            ]
          },
          "metadata": {},
          "execution_count": 16
        },
        {
          "output_type": "display_data",
          "data": {
            "text/plain": [
              "<Figure size 432x288 with 1 Axes>"
            ],
            "image/png": "[encoded data removed]"
          },
          "metadata": {}
        }
      ]
    },
    {
      "cell_type": "markdown",
      "source": [
        "La transformación deja una matriz de features bastante sparse. Los valores que no son cero están en negro. Con el objetivo de reducir la dimencionalidad de la matriz y quitar columnas se puede hacer un Chi-square test para conservar solo las variable más relevantes para el target. Conservaré las variables que superen un p value de 0.95."
      ],
      "metadata": {
        "id": "TEKK7paDvaHl"
      }
    },
    {
      "cell_type": "code",
      "source": [
        "y = data_train['Clase']\n",
        "X_names = vectorizer.get_feature_names()\n",
        "p_value_limit = 0.95\n",
        "dtf_features = pd.DataFrame()\n",
        "for cat in np.unique(y):\n",
        "    chi2, p = feature_selection.chi2(X_train, y==cat)\n",
        "    dtf_features = dtf_features.append(pd.DataFrame(\n",
        "                   {\"feature\":X_names, \"score\":1-p, \"y\":cat}))\n",
        "    dtf_features = dtf_features.sort_values([\"y\",\"score\"], \n",
        "                    ascending=[True,False])\n",
        "    dtf_features = dtf_features[dtf_features[\"score\"]>p_value_limit]\n",
        "X_names = dtf_features[\"feature\"].unique().tolist()\n",
        "\n",
        "\n",
        "vectorizer = feature_extraction.text.TfidfVectorizer(vocabulary=X_names)\n",
        "vectorizer.fit(corpus)\n",
        "X_train = vectorizer.transform(corpus)\n",
        "dic_vocabulary = vectorizer.vocabulary_\n",
        "#ahora para el test\n",
        "corpus_test = data_test['texto_limpio']\n",
        "vectorizer.fit(corpus_test)\n",
        "X_test = vectorizer.transform(corpus_test)\n",
        "\n",
        "data_train_final = data_train.drop(['Clase','texto_limpio'],axis = 1)\n",
        "data_test_final = data_test.drop(['Clase','texto_limpio'],axis = 1)\n",
        "\n",
        "X_train.shape\n"
      ],
      "metadata": {
        "colab": {
          "base_uri": "https://localhost:8080/"
        },
        "id": "sLPabbJdL2fz",
        "outputId": "eeb60217-0076-4565-d3d3-7f2470853821"
      },
      "execution_count": 17,
      "outputs": [
        {
          "output_type": "stream",
          "name": "stderr",
          "text": [
            "/usr/local/lib/python3.7/dist-packages/sklearn/utils/deprecation.py:87: FutureWarning: Function get_feature_names is deprecated; get_feature_names is deprecated in 1.0 and will be removed in 1.2. Please use get_feature_names_out instead.\n",
            "  warnings.warn(msg, category=FutureWarning)\n"
          ]
        },
        {
          "output_type": "execute_result",
          "data": {
            "text/plain": [
              "(19538, 442)"
            ]
          },
          "metadata": {},
          "execution_count": 17
        }
      ]
    },
    {
      "cell_type": "markdown",
      "source": [
        "La matriz se ha reducido enormemente ahora solo conserva 442 de las features que son más relevantes estadisticamente. "
      ],
      "metadata": {
        "id": "ziskj3ERyNKB"
      }
    },
    {
      "cell_type": "code",
      "source": [
        "# Voy a crear el dataset completo uniendo estas features con las que he creado anteriormente\n",
        "\n",
        "X_train = sparse.hstack([data_train_final, X_train]).tocsr()\n",
        "X_test = sparse.hstack([data_test_final, X_test]).tocsr()\n",
        "print(X_train.shape)\n",
        "print(X_test.shape)"
      ],
      "metadata": {
        "colab": {
          "base_uri": "https://localhost:8080/"
        },
        "id": "nZKO2gi1UDb2",
        "outputId": "ecc66fd4-ce8f-44c6-85c2-ff5942d9688b"
      },
      "execution_count": 18,
      "outputs": [
        {
          "output_type": "stream",
          "name": "stdout",
          "text": [
            "(19538, 448)\n",
            "(18979, 448)\n"
          ]
        }
      ]
    },
    {
      "cell_type": "markdown",
      "source": [
        "**Desarrollo de modelos y métricas**\n",
        "\n",
        "Primero empezaré con un modelo Dummy para usar como benchmark. Este modelo asigna aleatoriamente el resultado.\n",
        "\n",
        "En cuanto a las métricas. Dado que es el objetivo es detectar los tweet con clickbait en un dataset la Recall y el f1 son las métricas más importantes, el f1 hay que tenerlo en cuenta para no descuidar la precision. \n",
        "\n",
        "El recall nos dice la capacidad del algoritmo de detectar todas las ocurrencias positivas de la variable target en todo el dataset, es decir capacidad de detectar los clickbait que hay en el dataset, Por el contrario la precision del algoritmo te dice de las veces que el algoritmo detecta un clickbait cuantas veces de verdad es un clickbait y no un falso postivo. Finalmente el f1 es una combinación de las dos métricas anteriores. \n",
        "\n",
        "También calcularé la curva de la precision-racall para ver el trade off entre los dos y el area bajo la curva. Finalmente calcularé la ROC aunque quizá sea menos indicativa en este problema. "
      ],
      "metadata": {
        "id": "xOb2R4uwr1KH"
      }
    },
    {
      "cell_type": "code",
      "source": [
        "# Clasificador dummy\n",
        "\n",
        "dc = DummyClassifier(strategy='uniform')\n",
        "\n",
        "dc.fit(X_train, y_train)\n",
        "\n",
        "dc_test_preds = dc.predict(X_test)\n",
        "\n",
        "# Metricas\n",
        "metricas(y_test,dc_test_preds)\n",
        "conf_matrix(y_test, dc_test_preds)"
      ],
      "metadata": {
        "colab": {
          "base_uri": "https://localhost:8080/",
          "height": 469
        },
        "id": "DK5BtxTkrZPI",
        "outputId": "e6b9889c-4523-4c50-bdd8-583e3e414891"
      },
      "execution_count": 19,
      "outputs": [
        {
          "output_type": "stream",
          "name": "stdout",
          "text": [
            "Accuracy: 0.5\n",
            "              precision    recall  f1-score   support\n",
            "\n",
            "           0       0.24      0.50      0.32      4515\n",
            "           1       0.76      0.50      0.60     14464\n",
            "\n",
            "    accuracy                           0.50     18979\n",
            "   macro avg       0.50      0.50      0.46     18979\n",
            "weighted avg       0.64      0.50      0.53     18979\n",
            "\n"
          ]
        },
        {
          "output_type": "display_data",
          "data": {
            "text/plain": [
              "<Figure size 432x288 with 1 Axes>"
            ],
            "image/png": "[encoded data removed]"
          },
          "metadata": {}
        }
      ]
    },
    {
      "cell_type": "markdown",
      "source": [
        "El primer algoritmo que voy a probar es el randomforest, es un emsemble y normalmente da buenos resultados en tareas de clasificación con muchas variables.\n",
        "\n",
        "Para determinar los mejores hiperparametros del modelo haré un gridsearch para encontrar los óptimos. Además esta implementación hace un crossvalidation por lo que ya divide el dataset en uno de validation y train.\n",
        "\n",
        "Finalmente, para atajar el problema del desbalanceo de clases he optado por dar diferente peso a los errores del modelo en función de como de infrarepresentada es en el dataset esa clase en la que se ha equivocado. Esto tiene una muy fácil implementación en skitlearn solo hay que pasar la variable class_weight como balanced. Esto lo he aplicado en los dos modelos tanto en el RandomForest como en el SVM."
      ],
      "metadata": {
        "id": "HWMoEg_iMKCG"
      }
    },
    {
      "cell_type": "code",
      "source": [
        "\n",
        "#RandomForest\n",
        "\n",
        "rfc = RandomForestClassifier()\n",
        "\n",
        "forest_params = [{'max_depth': list(range(10, 15)), 'max_features': list(range(0,14)), 'class_weight' : ['balanced']}]\n",
        "\n",
        "clf = model_selection.GridSearchCV(rfc, forest_params, cv = 5, scoring='f1')\n",
        "\n",
        "clf.fit(X_train, y_train)\n",
        "\n",
        "print(clf.best_params_)"
      ],
      "metadata": {
        "colab": {
          "base_uri": "https://localhost:8080/",
          "height": 380
        },
        "id": "0XFkZW1gMP8R",
        "outputId": "888e7ea9-9d39-456f-913d-d610c0c54072"
      },
      "execution_count": 20,
      "outputs": [
        {
          "output_type": "error",
          "ename": "KeyboardInterrupt",
          "evalue": "ignored",
          "traceback": [
            "\u001b[0;31m---------------------------------------------------------------------------\u001b[0m",
            "\u001b[0;31mKeyboardInterrupt\u001b[0m                         Traceback (most recent call last)",
            "\u001b[0;32m<ipython-input-20-25b9e3567410>\u001b[0m in \u001b[0;36m<module>\u001b[0;34m()\u001b[0m\n\u001b[1;32m      8\u001b[0m \u001b[0mclf\u001b[0m \u001b[0;34m=\u001b[0m \u001b[0mmodel_selection\u001b[0m\u001b[0;34m.\u001b[0m\u001b[0mGridSearchCV\u001b[0m\u001b[0;34m(\u001b[0m\u001b[0mrfc\u001b[0m\u001b[0;34m,\u001b[0m \u001b[0mforest_params\u001b[0m\u001b[0;34m,\u001b[0m \u001b[0mcv\u001b[0m \u001b[0;34m=\u001b[0m \u001b[0;36m5\u001b[0m\u001b[0;34m,\u001b[0m \u001b[0mscoring\u001b[0m\u001b[0;34m=\u001b[0m\u001b[0;34m'f1'\u001b[0m\u001b[0;34m)\u001b[0m\u001b[0;34m\u001b[0m\u001b[0;34m\u001b[0m\u001b[0m\n\u001b[1;32m      9\u001b[0m \u001b[0;34m\u001b[0m\u001b[0m\n\u001b[0;32m---> 10\u001b[0;31m \u001b[0mclf\u001b[0m\u001b[0;34m.\u001b[0m\u001b[0mfit\u001b[0m\u001b[0;34m(\u001b[0m\u001b[0mX_train\u001b[0m\u001b[0;34m,\u001b[0m \u001b[0my_train\u001b[0m\u001b[0;34m)\u001b[0m\u001b[0;34m\u001b[0m\u001b[0;34m\u001b[0m\u001b[0m\n\u001b[0m\u001b[1;32m     11\u001b[0m \u001b[0;34m\u001b[0m\u001b[0m\n\u001b[1;32m     12\u001b[0m \u001b[0mprint\u001b[0m\u001b[0;34m(\u001b[0m\u001b[0mclf\u001b[0m\u001b[0;34m.\u001b[0m\u001b[0mbest_params_\u001b[0m\u001b[0;34m)\u001b[0m\u001b[0;34m\u001b[0m\u001b[0;34m\u001b[0m\u001b[0m\n",
            "\u001b[0;32m/usr/local/lib/python3.7/dist-packages/sklearn/model_selection/_search.py\u001b[0m in \u001b[0;36mfit\u001b[0;34m(self, X, y, groups, **fit_params)\u001b[0m\n\u001b[1;32m    889\u001b[0m                 \u001b[0;32mreturn\u001b[0m \u001b[0mresults\u001b[0m\u001b[0;34m\u001b[0m\u001b[0;34m\u001b[0m\u001b[0m\n\u001b[1;32m    890\u001b[0m \u001b[0;34m\u001b[0m\u001b[0m\n\u001b[0;32m--> 891\u001b[0;31m             \u001b[0mself\u001b[0m\u001b[0;34m.\u001b[0m\u001b[0m_run_search\u001b[0m\u001b[0;34m(\u001b[0m\u001b[0mevaluate_candidates\u001b[0m\u001b[0;34m)\u001b[0m\u001b[0;34m\u001b[0m\u001b[0;34m\u001b[0m\u001b[0m\n\u001b[0m\u001b[1;32m    892\u001b[0m \u001b[0;34m\u001b[0m\u001b[0m\n\u001b[1;32m    893\u001b[0m             \u001b[0;31m# multimetric is determined here because in the case of a callable\u001b[0m\u001b[0;34m\u001b[0m\u001b[0;34m\u001b[0m\u001b[0;34m\u001b[0m\u001b[0m\n",
            "\u001b[0;32m/usr/local/lib/python3.7/dist-packages/sklearn/model_selection/_search.py\u001b[0m in \u001b[0;36m_run_search\u001b[0;34m(self, evaluate_candidates)\u001b[0m\n\u001b[1;32m   1390\u001b[0m     \u001b[0;32mdef\u001b[0m \u001b[0m_run_search\u001b[0m\u001b[0;34m(\u001b[0m\u001b[0mself\u001b[0m\u001b[0;34m,\u001b[0m \u001b[0mevaluate_candidates\u001b[0m\u001b[0;34m)\u001b[0m\u001b[0;34m:\u001b[0m\u001b[0;34m\u001b[0m\u001b[0;34m\u001b[0m\u001b[0m\n\u001b[1;32m   1391\u001b[0m         \u001b[0;34m\"\"\"Search all candidates in param_grid\"\"\"\u001b[0m\u001b[0;34m\u001b[0m\u001b[0;34m\u001b[0m\u001b[0m\n\u001b[0;32m-> 1392\u001b[0;31m         \u001b[0mevaluate_candidates\u001b[0m\u001b[0;34m(\u001b[0m\u001b[0mParameterGrid\u001b[0m\u001b[0;34m(\u001b[0m\u001b[0mself\u001b[0m\u001b[0;34m.\u001b[0m\u001b[0mparam_grid\u001b[0m\u001b[0;34m)\u001b[0m\u001b[0;34m)\u001b[0m\u001b[0;34m\u001b[0m\u001b[0;34m\u001b[0m\u001b[0m\n\u001b[0m\u001b[1;32m   1393\u001b[0m \u001b[0;34m\u001b[0m\u001b[0m\n\u001b[1;32m   1394\u001b[0m \u001b[0;34m\u001b[0m\u001b[0m\n",
            "\u001b[0;32m/usr/local/lib/python3.7/dist-packages/sklearn/model_selection/_search.py\u001b[0m in \u001b[0;36mevaluate_candidates\u001b[0;34m(candidate_params, cv, more_results)\u001b[0m\n\u001b[1;32m    849\u001b[0m                     )\n\u001b[1;32m    850\u001b[0m                     for (cand_idx, parameters), (split_idx, (train, test)) in product(\n\u001b[0;32m--> 851\u001b[0;31m                         \u001b[0menumerate\u001b[0m\u001b[0;34m(\u001b[0m\u001b[0mcandidate_params\u001b[0m\u001b[0;34m)\u001b[0m\u001b[0;34m,\u001b[0m \u001b[0menumerate\u001b[0m\u001b[0;34m(\u001b[0m\u001b[0mcv\u001b[0m\u001b[0;34m.\u001b[0m\u001b[0msplit\u001b[0m\u001b[0;34m(\u001b[0m\u001b[0mX\u001b[0m\u001b[0;34m,\u001b[0m \u001b[0my\u001b[0m\u001b[0;34m,\u001b[0m \u001b[0mgroups\u001b[0m\u001b[0;34m)\u001b[0m\u001b[0;34m)\u001b[0m\u001b[0;34m\u001b[0m\u001b[0;34m\u001b[0m\u001b[0m\n\u001b[0m\u001b[1;32m    852\u001b[0m                     )\n\u001b[1;32m    853\u001b[0m                 )\n",
            "\u001b[0;32m/usr/local/lib/python3.7/dist-packages/joblib/parallel.py\u001b[0m in \u001b[0;36m__call__\u001b[0;34m(self, iterable)\u001b[0m\n\u001b[1;32m   1044\u001b[0m                 \u001b[0mself\u001b[0m\u001b[0;34m.\u001b[0m\u001b[0m_iterating\u001b[0m \u001b[0;34m=\u001b[0m \u001b[0mself\u001b[0m\u001b[0;34m.\u001b[0m\u001b[0m_original_iterator\u001b[0m \u001b[0;32mis\u001b[0m \u001b[0;32mnot\u001b[0m \u001b[0;32mNone\u001b[0m\u001b[0;34m\u001b[0m\u001b[0;34m\u001b[0m\u001b[0m\n\u001b[1;32m   1045\u001b[0m \u001b[0;34m\u001b[0m\u001b[0m\n\u001b[0;32m-> 1046\u001b[0;31m             \u001b[0;32mwhile\u001b[0m \u001b[0mself\u001b[0m\u001b[0;34m.\u001b[0m\u001b[0mdispatch_one_batch\u001b[0m\u001b[0;34m(\u001b[0m\u001b[0miterator\u001b[0m\u001b[0;34m)\u001b[0m\u001b[0;34m:\u001b[0m\u001b[0;34m\u001b[0m\u001b[0;34m\u001b[0m\u001b[0m\n\u001b[0m\u001b[1;32m   1047\u001b[0m                 \u001b[0;32mpass\u001b[0m\u001b[0;34m\u001b[0m\u001b[0;34m\u001b[0m\u001b[0m\n\u001b[1;32m   1048\u001b[0m \u001b[0;34m\u001b[0m\u001b[0m\n",
            "\u001b[0;32m/usr/local/lib/python3.7/dist-packages/joblib/parallel.py\u001b[0m in \u001b[0;36mdispatch_one_batch\u001b[0;34m(self, iterator)\u001b[0m\n\u001b[1;32m    859\u001b[0m                 \u001b[0;32mreturn\u001b[0m \u001b[0;32mFalse\u001b[0m\u001b[0;34m\u001b[0m\u001b[0;34m\u001b[0m\u001b[0m\n\u001b[1;32m    860\u001b[0m             \u001b[0;32melse\u001b[0m\u001b[0;34m:\u001b[0m\u001b[0;34m\u001b[0m\u001b[0;34m\u001b[0m\u001b[0m\n\u001b[0;32m--> 861\u001b[0;31m                 \u001b[0mself\u001b[0m\u001b[0;34m.\u001b[0m\u001b[0m_dispatch\u001b[0m\u001b[0;34m(\u001b[0m\u001b[0mtasks\u001b[0m\u001b[0;34m)\u001b[0m\u001b[0;34m\u001b[0m\u001b[0;34m\u001b[0m\u001b[0m\n\u001b[0m\u001b[1;32m    862\u001b[0m                 \u001b[0;32mreturn\u001b[0m \u001b[0;32mTrue\u001b[0m\u001b[0;34m\u001b[0m\u001b[0;34m\u001b[0m\u001b[0m\n\u001b[1;32m    863\u001b[0m \u001b[0;34m\u001b[0m\u001b[0m\n",
            "\u001b[0;32m/usr/local/lib/python3.7/dist-packages/joblib/parallel.py\u001b[0m in \u001b[0;36m_dispatch\u001b[0;34m(self, batch)\u001b[0m\n\u001b[1;32m    777\u001b[0m         \u001b[0;32mwith\u001b[0m \u001b[0mself\u001b[0m\u001b[0;34m.\u001b[0m\u001b[0m_lock\u001b[0m\u001b[0;34m:\u001b[0m\u001b[0;34m\u001b[0m\u001b[0;34m\u001b[0m\u001b[0m\n\u001b[1;32m    778\u001b[0m             \u001b[0mjob_idx\u001b[0m \u001b[0;34m=\u001b[0m \u001b[0mlen\u001b[0m\u001b[0;34m(\u001b[0m\u001b[0mself\u001b[0m\u001b[0;34m.\u001b[0m\u001b[0m_jobs\u001b[0m\u001b[0;34m)\u001b[0m\u001b[0;34m\u001b[0m\u001b[0;34m\u001b[0m\u001b[0m\n\u001b[0;32m--> 779\u001b[0;31m             \u001b[0mjob\u001b[0m \u001b[0;34m=\u001b[0m \u001b[0mself\u001b[0m\u001b[0;34m.\u001b[0m\u001b[0m_backend\u001b[0m\u001b[0;34m.\u001b[0m\u001b[0mapply_async\u001b[0m\u001b[0;34m(\u001b[0m\u001b[0mbatch\u001b[0m\u001b[0;34m,\u001b[0m \u001b[0mcallback\u001b[0m\u001b[0;34m=\u001b[0m\u001b[0mcb\u001b[0m\u001b[0;34m)\u001b[0m\u001b[0;34m\u001b[0m\u001b[0;34m\u001b[0m\u001b[0m\n\u001b[0m\u001b[1;32m    780\u001b[0m             \u001b[0;31m# A job can complete so quickly than its callback is\u001b[0m\u001b[0;34m\u001b[0m\u001b[0;34m\u001b[0m\u001b[0;34m\u001b[0m\u001b[0m\n\u001b[1;32m    781\u001b[0m             \u001b[0;31m# called before we get here, causing self._jobs to\u001b[0m\u001b[0;34m\u001b[0m\u001b[0;34m\u001b[0m\u001b[0;34m\u001b[0m\u001b[0m\n",
            "\u001b[0;32m/usr/local/lib/python3.7/dist-packages/joblib/_parallel_backends.py\u001b[0m in \u001b[0;36mapply_async\u001b[0;34m(self, func, callback)\u001b[0m\n\u001b[1;32m    206\u001b[0m     \u001b[0;32mdef\u001b[0m \u001b[0mapply_async\u001b[0m\u001b[0;34m(\u001b[0m\u001b[0mself\u001b[0m\u001b[0;34m,\u001b[0m \u001b[0mfunc\u001b[0m\u001b[0;34m,\u001b[0m \u001b[0mcallback\u001b[0m\u001b[0;34m=\u001b[0m\u001b[0;32mNone\u001b[0m\u001b[0;34m)\u001b[0m\u001b[0;34m:\u001b[0m\u001b[0;34m\u001b[0m\u001b[0;34m\u001b[0m\u001b[0m\n\u001b[1;32m    207\u001b[0m         \u001b[0;34m\"\"\"Schedule a func to be run\"\"\"\u001b[0m\u001b[0;34m\u001b[0m\u001b[0;34m\u001b[0m\u001b[0m\n\u001b[0;32m--> 208\u001b[0;31m         \u001b[0mresult\u001b[0m \u001b[0;34m=\u001b[0m \u001b[0mImmediateResult\u001b[0m\u001b[0;34m(\u001b[0m\u001b[0mfunc\u001b[0m\u001b[0;34m)\u001b[0m\u001b[0;34m\u001b[0m\u001b[0;34m\u001b[0m\u001b[0m\n\u001b[0m\u001b[1;32m    209\u001b[0m         \u001b[0;32mif\u001b[0m \u001b[0mcallback\u001b[0m\u001b[0;34m:\u001b[0m\u001b[0;34m\u001b[0m\u001b[0;34m\u001b[0m\u001b[0m\n\u001b[1;32m    210\u001b[0m             \u001b[0mcallback\u001b[0m\u001b[0;34m(\u001b[0m\u001b[0mresult\u001b[0m\u001b[0;34m)\u001b[0m\u001b[0;34m\u001b[0m\u001b[0;34m\u001b[0m\u001b[0m\n",
            "\u001b[0;32m/usr/local/lib/python3.7/dist-packages/joblib/_parallel_backends.py\u001b[0m in \u001b[0;36m__init__\u001b[0;34m(self, batch)\u001b[0m\n\u001b[1;32m    570\u001b[0m         \u001b[0;31m# Don't delay the application, to avoid keeping the input\u001b[0m\u001b[0;34m\u001b[0m\u001b[0;34m\u001b[0m\u001b[0;34m\u001b[0m\u001b[0m\n\u001b[1;32m    571\u001b[0m         \u001b[0;31m# arguments in memory\u001b[0m\u001b[0;34m\u001b[0m\u001b[0;34m\u001b[0m\u001b[0;34m\u001b[0m\u001b[0m\n\u001b[0;32m--> 572\u001b[0;31m         \u001b[0mself\u001b[0m\u001b[0;34m.\u001b[0m\u001b[0mresults\u001b[0m \u001b[0;34m=\u001b[0m \u001b[0mbatch\u001b[0m\u001b[0;34m(\u001b[0m\u001b[0;34m)\u001b[0m\u001b[0;34m\u001b[0m\u001b[0;34m\u001b[0m\u001b[0m\n\u001b[0m\u001b[1;32m    573\u001b[0m \u001b[0;34m\u001b[0m\u001b[0m\n\u001b[1;32m    574\u001b[0m     \u001b[0;32mdef\u001b[0m \u001b[0mget\u001b[0m\u001b[0;34m(\u001b[0m\u001b[0mself\u001b[0m\u001b[0;34m)\u001b[0m\u001b[0;34m:\u001b[0m\u001b[0;34m\u001b[0m\u001b[0;34m\u001b[0m\u001b[0m\n",
            "\u001b[0;32m/usr/local/lib/python3.7/dist-packages/joblib/parallel.py\u001b[0m in \u001b[0;36m__call__\u001b[0;34m(self)\u001b[0m\n\u001b[1;32m    261\u001b[0m         \u001b[0;32mwith\u001b[0m \u001b[0mparallel_backend\u001b[0m\u001b[0;34m(\u001b[0m\u001b[0mself\u001b[0m\u001b[0;34m.\u001b[0m\u001b[0m_backend\u001b[0m\u001b[0;34m,\u001b[0m \u001b[0mn_jobs\u001b[0m\u001b[0;34m=\u001b[0m\u001b[0mself\u001b[0m\u001b[0;34m.\u001b[0m\u001b[0m_n_jobs\u001b[0m\u001b[0;34m)\u001b[0m\u001b[0;34m:\u001b[0m\u001b[0;34m\u001b[0m\u001b[0;34m\u001b[0m\u001b[0m\n\u001b[1;32m    262\u001b[0m             return [func(*args, **kwargs)\n\u001b[0;32m--> 263\u001b[0;31m                     for func, args, kwargs in self.items]\n\u001b[0m\u001b[1;32m    264\u001b[0m \u001b[0;34m\u001b[0m\u001b[0m\n\u001b[1;32m    265\u001b[0m     \u001b[0;32mdef\u001b[0m \u001b[0m__reduce__\u001b[0m\u001b[0;34m(\u001b[0m\u001b[0mself\u001b[0m\u001b[0;34m)\u001b[0m\u001b[0;34m:\u001b[0m\u001b[0;34m\u001b[0m\u001b[0;34m\u001b[0m\u001b[0m\n",
            "\u001b[0;32m/usr/local/lib/python3.7/dist-packages/joblib/parallel.py\u001b[0m in \u001b[0;36m<listcomp>\u001b[0;34m(.0)\u001b[0m\n\u001b[1;32m    261\u001b[0m         \u001b[0;32mwith\u001b[0m \u001b[0mparallel_backend\u001b[0m\u001b[0;34m(\u001b[0m\u001b[0mself\u001b[0m\u001b[0;34m.\u001b[0m\u001b[0m_backend\u001b[0m\u001b[0;34m,\u001b[0m \u001b[0mn_jobs\u001b[0m\u001b[0;34m=\u001b[0m\u001b[0mself\u001b[0m\u001b[0;34m.\u001b[0m\u001b[0m_n_jobs\u001b[0m\u001b[0;34m)\u001b[0m\u001b[0;34m:\u001b[0m\u001b[0;34m\u001b[0m\u001b[0;34m\u001b[0m\u001b[0m\n\u001b[1;32m    262\u001b[0m             return [func(*args, **kwargs)\n\u001b[0;32m--> 263\u001b[0;31m                     for func, args, kwargs in self.items]\n\u001b[0m\u001b[1;32m    264\u001b[0m \u001b[0;34m\u001b[0m\u001b[0m\n\u001b[1;32m    265\u001b[0m     \u001b[0;32mdef\u001b[0m \u001b[0m__reduce__\u001b[0m\u001b[0;34m(\u001b[0m\u001b[0mself\u001b[0m\u001b[0;34m)\u001b[0m\u001b[0;34m:\u001b[0m\u001b[0;34m\u001b[0m\u001b[0;34m\u001b[0m\u001b[0m\n",
            "\u001b[0;32m/usr/local/lib/python3.7/dist-packages/sklearn/utils/fixes.py\u001b[0m in \u001b[0;36m__call__\u001b[0;34m(self, *args, **kwargs)\u001b[0m\n\u001b[1;32m    214\u001b[0m     \u001b[0;32mdef\u001b[0m \u001b[0m__call__\u001b[0m\u001b[0;34m(\u001b[0m\u001b[0mself\u001b[0m\u001b[0;34m,\u001b[0m \u001b[0;34m*\u001b[0m\u001b[0margs\u001b[0m\u001b[0;34m,\u001b[0m \u001b[0;34m**\u001b[0m\u001b[0mkwargs\u001b[0m\u001b[0;34m)\u001b[0m\u001b[0;34m:\u001b[0m\u001b[0;34m\u001b[0m\u001b[0;34m\u001b[0m\u001b[0m\n\u001b[1;32m    215\u001b[0m         \u001b[0;32mwith\u001b[0m \u001b[0mconfig_context\u001b[0m\u001b[0;34m(\u001b[0m\u001b[0;34m**\u001b[0m\u001b[0mself\u001b[0m\u001b[0;34m.\u001b[0m\u001b[0mconfig\u001b[0m\u001b[0;34m)\u001b[0m\u001b[0;34m:\u001b[0m\u001b[0;34m\u001b[0m\u001b[0;34m\u001b[0m\u001b[0m\n\u001b[0;32m--> 216\u001b[0;31m             \u001b[0;32mreturn\u001b[0m \u001b[0mself\u001b[0m\u001b[0;34m.\u001b[0m\u001b[0mfunction\u001b[0m\u001b[0;34m(\u001b[0m\u001b[0;34m*\u001b[0m\u001b[0margs\u001b[0m\u001b[0;34m,\u001b[0m \u001b[0;34m**\u001b[0m\u001b[0mkwargs\u001b[0m\u001b[0;34m)\u001b[0m\u001b[0;34m\u001b[0m\u001b[0;34m\u001b[0m\u001b[0m\n\u001b[0m\u001b[1;32m    217\u001b[0m \u001b[0;34m\u001b[0m\u001b[0m\n\u001b[1;32m    218\u001b[0m \u001b[0;34m\u001b[0m\u001b[0m\n",
            "\u001b[0;32m/usr/local/lib/python3.7/dist-packages/sklearn/model_selection/_validation.py\u001b[0m in \u001b[0;36m_fit_and_score\u001b[0;34m(estimator, X, y, scorer, train, test, verbose, parameters, fit_params, return_train_score, return_parameters, return_n_test_samples, return_times, return_estimator, split_progress, candidate_progress, error_score)\u001b[0m\n\u001b[1;32m    678\u001b[0m             \u001b[0mestimator\u001b[0m\u001b[0;34m.\u001b[0m\u001b[0mfit\u001b[0m\u001b[0;34m(\u001b[0m\u001b[0mX_train\u001b[0m\u001b[0;34m,\u001b[0m \u001b[0;34m**\u001b[0m\u001b[0mfit_params\u001b[0m\u001b[0;34m)\u001b[0m\u001b[0;34m\u001b[0m\u001b[0;34m\u001b[0m\u001b[0m\n\u001b[1;32m    679\u001b[0m         \u001b[0;32melse\u001b[0m\u001b[0;34m:\u001b[0m\u001b[0;34m\u001b[0m\u001b[0;34m\u001b[0m\u001b[0m\n\u001b[0;32m--> 680\u001b[0;31m             \u001b[0mestimator\u001b[0m\u001b[0;34m.\u001b[0m\u001b[0mfit\u001b[0m\u001b[0;34m(\u001b[0m\u001b[0mX_train\u001b[0m\u001b[0;34m,\u001b[0m \u001b[0my_train\u001b[0m\u001b[0;34m,\u001b[0m \u001b[0;34m**\u001b[0m\u001b[0mfit_params\u001b[0m\u001b[0;34m)\u001b[0m\u001b[0;34m\u001b[0m\u001b[0;34m\u001b[0m\u001b[0m\n\u001b[0m\u001b[1;32m    681\u001b[0m \u001b[0;34m\u001b[0m\u001b[0m\n\u001b[1;32m    682\u001b[0m     \u001b[0;32mexcept\u001b[0m \u001b[0mException\u001b[0m\u001b[0;34m:\u001b[0m\u001b[0;34m\u001b[0m\u001b[0;34m\u001b[0m\u001b[0m\n",
            "\u001b[0;32m/usr/local/lib/python3.7/dist-packages/sklearn/ensemble/_forest.py\u001b[0m in \u001b[0;36mfit\u001b[0;34m(self, X, y, sample_weight)\u001b[0m\n\u001b[1;32m    439\u001b[0m             trees = [\n\u001b[1;32m    440\u001b[0m                 \u001b[0mself\u001b[0m\u001b[0;34m.\u001b[0m\u001b[0m_make_estimator\u001b[0m\u001b[0;34m(\u001b[0m\u001b[0mappend\u001b[0m\u001b[0;34m=\u001b[0m\u001b[0;32mFalse\u001b[0m\u001b[0;34m,\u001b[0m \u001b[0mrandom_state\u001b[0m\u001b[0;34m=\u001b[0m\u001b[0mrandom_state\u001b[0m\u001b[0;34m)\u001b[0m\u001b[0;34m\u001b[0m\u001b[0;34m\u001b[0m\u001b[0m\n\u001b[0;32m--> 441\u001b[0;31m                 \u001b[0;32mfor\u001b[0m \u001b[0mi\u001b[0m \u001b[0;32min\u001b[0m \u001b[0mrange\u001b[0m\u001b[0;34m(\u001b[0m\u001b[0mn_more_estimators\u001b[0m\u001b[0;34m)\u001b[0m\u001b[0;34m\u001b[0m\u001b[0;34m\u001b[0m\u001b[0m\n\u001b[0m\u001b[1;32m    442\u001b[0m             ]\n\u001b[1;32m    443\u001b[0m \u001b[0;34m\u001b[0m\u001b[0m\n",
            "\u001b[0;32m/usr/local/lib/python3.7/dist-packages/sklearn/ensemble/_forest.py\u001b[0m in \u001b[0;36m<listcomp>\u001b[0;34m(.0)\u001b[0m\n\u001b[1;32m    439\u001b[0m             trees = [\n\u001b[1;32m    440\u001b[0m                 \u001b[0mself\u001b[0m\u001b[0;34m.\u001b[0m\u001b[0m_make_estimator\u001b[0m\u001b[0;34m(\u001b[0m\u001b[0mappend\u001b[0m\u001b[0;34m=\u001b[0m\u001b[0;32mFalse\u001b[0m\u001b[0;34m,\u001b[0m \u001b[0mrandom_state\u001b[0m\u001b[0;34m=\u001b[0m\u001b[0mrandom_state\u001b[0m\u001b[0;34m)\u001b[0m\u001b[0;34m\u001b[0m\u001b[0;34m\u001b[0m\u001b[0m\n\u001b[0;32m--> 441\u001b[0;31m                 \u001b[0;32mfor\u001b[0m \u001b[0mi\u001b[0m \u001b[0;32min\u001b[0m \u001b[0mrange\u001b[0m\u001b[0;34m(\u001b[0m\u001b[0mn_more_estimators\u001b[0m\u001b[0;34m)\u001b[0m\u001b[0;34m\u001b[0m\u001b[0;34m\u001b[0m\u001b[0m\n\u001b[0m\u001b[1;32m    442\u001b[0m             ]\n\u001b[1;32m    443\u001b[0m \u001b[0;34m\u001b[0m\u001b[0m\n",
            "\u001b[0;32m/usr/local/lib/python3.7/dist-packages/sklearn/ensemble/_base.py\u001b[0m in \u001b[0;36m_make_estimator\u001b[0;34m(self, append, random_state)\u001b[0m\n\u001b[1;32m    156\u001b[0m         \u001b[0msub\u001b[0m\u001b[0;34m-\u001b[0m\u001b[0mestimators\u001b[0m\u001b[0;34m.\u001b[0m\u001b[0;34m\u001b[0m\u001b[0;34m\u001b[0m\u001b[0m\n\u001b[1;32m    157\u001b[0m         \"\"\"\n\u001b[0;32m--> 158\u001b[0;31m         \u001b[0mestimator\u001b[0m \u001b[0;34m=\u001b[0m \u001b[0mclone\u001b[0m\u001b[0;34m(\u001b[0m\u001b[0mself\u001b[0m\u001b[0;34m.\u001b[0m\u001b[0mbase_estimator_\u001b[0m\u001b[0;34m)\u001b[0m\u001b[0;34m\u001b[0m\u001b[0;34m\u001b[0m\u001b[0m\n\u001b[0m\u001b[1;32m    159\u001b[0m         \u001b[0mestimator\u001b[0m\u001b[0;34m.\u001b[0m\u001b[0mset_params\u001b[0m\u001b[0;34m(\u001b[0m\u001b[0;34m**\u001b[0m\u001b[0;34m{\u001b[0m\u001b[0mp\u001b[0m\u001b[0;34m:\u001b[0m \u001b[0mgetattr\u001b[0m\u001b[0;34m(\u001b[0m\u001b[0mself\u001b[0m\u001b[0;34m,\u001b[0m \u001b[0mp\u001b[0m\u001b[0;34m)\u001b[0m \u001b[0;32mfor\u001b[0m \u001b[0mp\u001b[0m \u001b[0;32min\u001b[0m \u001b[0mself\u001b[0m\u001b[0;34m.\u001b[0m\u001b[0mestimator_params\u001b[0m\u001b[0;34m}\u001b[0m\u001b[0;34m)\u001b[0m\u001b[0;34m\u001b[0m\u001b[0;34m\u001b[0m\u001b[0m\n\u001b[1;32m    160\u001b[0m \u001b[0;34m\u001b[0m\u001b[0m\n",
            "\u001b[0;32m/usr/local/lib/python3.7/dist-packages/sklearn/base.py\u001b[0m in \u001b[0;36mclone\u001b[0;34m(estimator, safe)\u001b[0m\n\u001b[1;32m     86\u001b[0m         \u001b[0mnew_object_params\u001b[0m\u001b[0;34m[\u001b[0m\u001b[0mname\u001b[0m\u001b[0;34m]\u001b[0m \u001b[0;34m=\u001b[0m \u001b[0mclone\u001b[0m\u001b[0;34m(\u001b[0m\u001b[0mparam\u001b[0m\u001b[0;34m,\u001b[0m \u001b[0msafe\u001b[0m\u001b[0;34m=\u001b[0m\u001b[0;32mFalse\u001b[0m\u001b[0;34m)\u001b[0m\u001b[0;34m\u001b[0m\u001b[0;34m\u001b[0m\u001b[0m\n\u001b[1;32m     87\u001b[0m     \u001b[0mnew_object\u001b[0m \u001b[0;34m=\u001b[0m \u001b[0mklass\u001b[0m\u001b[0;34m(\u001b[0m\u001b[0;34m**\u001b[0m\u001b[0mnew_object_params\u001b[0m\u001b[0;34m)\u001b[0m\u001b[0;34m\u001b[0m\u001b[0;34m\u001b[0m\u001b[0m\n\u001b[0;32m---> 88\u001b[0;31m     \u001b[0mparams_set\u001b[0m \u001b[0;34m=\u001b[0m \u001b[0mnew_object\u001b[0m\u001b[0;34m.\u001b[0m\u001b[0mget_params\u001b[0m\u001b[0;34m(\u001b[0m\u001b[0mdeep\u001b[0m\u001b[0;34m=\u001b[0m\u001b[0;32mFalse\u001b[0m\u001b[0;34m)\u001b[0m\u001b[0;34m\u001b[0m\u001b[0;34m\u001b[0m\u001b[0m\n\u001b[0m\u001b[1;32m     89\u001b[0m \u001b[0;34m\u001b[0m\u001b[0m\n\u001b[1;32m     90\u001b[0m     \u001b[0;31m# quick sanity check of the parameters of the clone\u001b[0m\u001b[0;34m\u001b[0m\u001b[0;34m\u001b[0m\u001b[0;34m\u001b[0m\u001b[0m\n",
            "\u001b[0;32m/usr/local/lib/python3.7/dist-packages/sklearn/base.py\u001b[0m in \u001b[0;36mget_params\u001b[0;34m(self, deep)\u001b[0m\n\u001b[1;32m    207\u001b[0m         \"\"\"\n\u001b[1;32m    208\u001b[0m         \u001b[0mout\u001b[0m \u001b[0;34m=\u001b[0m \u001b[0mdict\u001b[0m\u001b[0;34m(\u001b[0m\u001b[0;34m)\u001b[0m\u001b[0;34m\u001b[0m\u001b[0;34m\u001b[0m\u001b[0m\n\u001b[0;32m--> 209\u001b[0;31m         \u001b[0;32mfor\u001b[0m \u001b[0mkey\u001b[0m \u001b[0;32min\u001b[0m \u001b[0mself\u001b[0m\u001b[0;34m.\u001b[0m\u001b[0m_get_param_names\u001b[0m\u001b[0;34m(\u001b[0m\u001b[0;34m)\u001b[0m\u001b[0;34m:\u001b[0m\u001b[0;34m\u001b[0m\u001b[0;34m\u001b[0m\u001b[0m\n\u001b[0m\u001b[1;32m    210\u001b[0m             \u001b[0mvalue\u001b[0m \u001b[0;34m=\u001b[0m \u001b[0mgetattr\u001b[0m\u001b[0;34m(\u001b[0m\u001b[0mself\u001b[0m\u001b[0;34m,\u001b[0m \u001b[0mkey\u001b[0m\u001b[0;34m)\u001b[0m\u001b[0;34m\u001b[0m\u001b[0;34m\u001b[0m\u001b[0m\n\u001b[1;32m    211\u001b[0m             \u001b[0;32mif\u001b[0m \u001b[0mdeep\u001b[0m \u001b[0;32mand\u001b[0m \u001b[0mhasattr\u001b[0m\u001b[0;34m(\u001b[0m\u001b[0mvalue\u001b[0m\u001b[0;34m,\u001b[0m \u001b[0;34m\"get_params\"\u001b[0m\u001b[0;34m)\u001b[0m\u001b[0;34m:\u001b[0m\u001b[0;34m\u001b[0m\u001b[0;34m\u001b[0m\u001b[0m\n",
            "\u001b[0;32m/usr/local/lib/python3.7/dist-packages/sklearn/base.py\u001b[0m in \u001b[0;36m_get_param_names\u001b[0;34m(cls)\u001b[0m\n\u001b[1;32m    172\u001b[0m         \u001b[0;31m# introspect the constructor arguments to find the model parameters\u001b[0m\u001b[0;34m\u001b[0m\u001b[0;34m\u001b[0m\u001b[0;34m\u001b[0m\u001b[0m\n\u001b[1;32m    173\u001b[0m         \u001b[0;31m# to represent\u001b[0m\u001b[0;34m\u001b[0m\u001b[0;34m\u001b[0m\u001b[0;34m\u001b[0m\u001b[0m\n\u001b[0;32m--> 174\u001b[0;31m         \u001b[0minit_signature\u001b[0m \u001b[0;34m=\u001b[0m \u001b[0minspect\u001b[0m\u001b[0;34m.\u001b[0m\u001b[0msignature\u001b[0m\u001b[0;34m(\u001b[0m\u001b[0minit\u001b[0m\u001b[0;34m)\u001b[0m\u001b[0;34m\u001b[0m\u001b[0;34m\u001b[0m\u001b[0m\n\u001b[0m\u001b[1;32m    175\u001b[0m         \u001b[0;31m# Consider the constructor parameters excluding 'self'\u001b[0m\u001b[0;34m\u001b[0m\u001b[0;34m\u001b[0m\u001b[0;34m\u001b[0m\u001b[0m\n\u001b[1;32m    176\u001b[0m         parameters = [\n",
            "\u001b[0;32m/usr/lib/python3.7/inspect.py\u001b[0m in \u001b[0;36msignature\u001b[0;34m(obj, follow_wrapped)\u001b[0m\n\u001b[1;32m   3081\u001b[0m \u001b[0;32mdef\u001b[0m \u001b[0msignature\u001b[0m\u001b[0;34m(\u001b[0m\u001b[0mobj\u001b[0m\u001b[0;34m,\u001b[0m \u001b[0;34m*\u001b[0m\u001b[0;34m,\u001b[0m \u001b[0mfollow_wrapped\u001b[0m\u001b[0;34m=\u001b[0m\u001b[0;32mTrue\u001b[0m\u001b[0;34m)\u001b[0m\u001b[0;34m:\u001b[0m\u001b[0;34m\u001b[0m\u001b[0;34m\u001b[0m\u001b[0m\n\u001b[1;32m   3082\u001b[0m     \u001b[0;34m\"\"\"Get a signature object for the passed callable.\"\"\"\u001b[0m\u001b[0;34m\u001b[0m\u001b[0;34m\u001b[0m\u001b[0m\n\u001b[0;32m-> 3083\u001b[0;31m     \u001b[0;32mreturn\u001b[0m \u001b[0mSignature\u001b[0m\u001b[0;34m.\u001b[0m\u001b[0mfrom_callable\u001b[0m\u001b[0;34m(\u001b[0m\u001b[0mobj\u001b[0m\u001b[0;34m,\u001b[0m \u001b[0mfollow_wrapped\u001b[0m\u001b[0;34m=\u001b[0m\u001b[0mfollow_wrapped\u001b[0m\u001b[0;34m)\u001b[0m\u001b[0;34m\u001b[0m\u001b[0;34m\u001b[0m\u001b[0m\n\u001b[0m\u001b[1;32m   3084\u001b[0m \u001b[0;34m\u001b[0m\u001b[0m\n\u001b[1;32m   3085\u001b[0m \u001b[0;34m\u001b[0m\u001b[0m\n",
            "\u001b[0;32m/usr/lib/python3.7/inspect.py\u001b[0m in \u001b[0;36mfrom_callable\u001b[0;34m(cls, obj, follow_wrapped)\u001b[0m\n\u001b[1;32m   2831\u001b[0m         \u001b[0;34m\"\"\"Constructs Signature for the given callable object.\"\"\"\u001b[0m\u001b[0;34m\u001b[0m\u001b[0;34m\u001b[0m\u001b[0m\n\u001b[1;32m   2832\u001b[0m         return _signature_from_callable(obj, sigcls=cls,\n\u001b[0;32m-> 2833\u001b[0;31m                                         follow_wrapper_chains=follow_wrapped)\n\u001b[0m\u001b[1;32m   2834\u001b[0m \u001b[0;34m\u001b[0m\u001b[0m\n\u001b[1;32m   2835\u001b[0m     \u001b[0;34m@\u001b[0m\u001b[0mproperty\u001b[0m\u001b[0;34m\u001b[0m\u001b[0;34m\u001b[0m\u001b[0m\n",
            "\u001b[0;32m/usr/lib/python3.7/inspect.py\u001b[0m in \u001b[0;36m_signature_from_callable\u001b[0;34m(obj, follow_wrapper_chains, skip_bound_arg, sigcls)\u001b[0m\n\u001b[1;32m   2282\u001b[0m         \u001b[0;31m# If it's a pure Python function, or an object that is duck type\u001b[0m\u001b[0;34m\u001b[0m\u001b[0;34m\u001b[0m\u001b[0;34m\u001b[0m\u001b[0m\n\u001b[1;32m   2283\u001b[0m         \u001b[0;31m# of a Python function (Cython functions, for instance), then:\u001b[0m\u001b[0;34m\u001b[0m\u001b[0;34m\u001b[0m\u001b[0;34m\u001b[0m\u001b[0m\n\u001b[0;32m-> 2284\u001b[0;31m         \u001b[0;32mreturn\u001b[0m \u001b[0m_signature_from_function\u001b[0m\u001b[0;34m(\u001b[0m\u001b[0msigcls\u001b[0m\u001b[0;34m,\u001b[0m \u001b[0mobj\u001b[0m\u001b[0;34m)\u001b[0m\u001b[0;34m\u001b[0m\u001b[0;34m\u001b[0m\u001b[0m\n\u001b[0m\u001b[1;32m   2285\u001b[0m \u001b[0;34m\u001b[0m\u001b[0m\n\u001b[1;32m   2286\u001b[0m     \u001b[0;32mif\u001b[0m \u001b[0m_signature_is_builtin\u001b[0m\u001b[0;34m(\u001b[0m\u001b[0mobj\u001b[0m\u001b[0;34m)\u001b[0m\u001b[0;34m:\u001b[0m\u001b[0;34m\u001b[0m\u001b[0;34m\u001b[0m\u001b[0m\n",
            "\u001b[0;32m/usr/lib/python3.7/inspect.py\u001b[0m in \u001b[0;36m_signature_from_function\u001b[0;34m(cls, func)\u001b[0m\n\u001b[1;32m   2177\u001b[0m         parameters.append(Parameter(name, annotation=annotation,\n\u001b[1;32m   2178\u001b[0m                                     \u001b[0mkind\u001b[0m\u001b[0;34m=\u001b[0m\u001b[0m_KEYWORD_ONLY\u001b[0m\u001b[0;34m,\u001b[0m\u001b[0;34m\u001b[0m\u001b[0;34m\u001b[0m\u001b[0m\n\u001b[0;32m-> 2179\u001b[0;31m                                     default=default))\n\u001b[0m\u001b[1;32m   2180\u001b[0m     \u001b[0;31m# **kwargs\u001b[0m\u001b[0;34m\u001b[0m\u001b[0;34m\u001b[0m\u001b[0;34m\u001b[0m\u001b[0m\n\u001b[1;32m   2181\u001b[0m     \u001b[0;32mif\u001b[0m \u001b[0mfunc_code\u001b[0m\u001b[0;34m.\u001b[0m\u001b[0mco_flags\u001b[0m \u001b[0;34m&\u001b[0m \u001b[0mCO_VARKEYWORDS\u001b[0m\u001b[0;34m:\u001b[0m\u001b[0;34m\u001b[0m\u001b[0;34m\u001b[0m\u001b[0m\n",
            "\u001b[0;32m/usr/lib/python3.7/inspect.py\u001b[0m in \u001b[0;36m__init__\u001b[0;34m(self, name, kind, default, annotation)\u001b[0m\n\u001b[1;32m   2467\u001b[0m     \u001b[0;32mdef\u001b[0m \u001b[0m__init__\u001b[0m\u001b[0;34m(\u001b[0m\u001b[0mself\u001b[0m\u001b[0;34m,\u001b[0m \u001b[0mname\u001b[0m\u001b[0;34m,\u001b[0m \u001b[0mkind\u001b[0m\u001b[0;34m,\u001b[0m \u001b[0;34m*\u001b[0m\u001b[0;34m,\u001b[0m \u001b[0mdefault\u001b[0m\u001b[0;34m=\u001b[0m\u001b[0m_empty\u001b[0m\u001b[0;34m,\u001b[0m \u001b[0mannotation\u001b[0m\u001b[0;34m=\u001b[0m\u001b[0m_empty\u001b[0m\u001b[0;34m)\u001b[0m\u001b[0;34m:\u001b[0m\u001b[0;34m\u001b[0m\u001b[0;34m\u001b[0m\u001b[0m\n\u001b[1;32m   2468\u001b[0m         \u001b[0;32mtry\u001b[0m\u001b[0;34m:\u001b[0m\u001b[0;34m\u001b[0m\u001b[0;34m\u001b[0m\u001b[0m\n\u001b[0;32m-> 2469\u001b[0;31m             \u001b[0mself\u001b[0m\u001b[0;34m.\u001b[0m\u001b[0m_kind\u001b[0m \u001b[0;34m=\u001b[0m \u001b[0m_ParameterKind\u001b[0m\u001b[0;34m(\u001b[0m\u001b[0mkind\u001b[0m\u001b[0;34m)\u001b[0m\u001b[0;34m\u001b[0m\u001b[0;34m\u001b[0m\u001b[0m\n\u001b[0m\u001b[1;32m   2470\u001b[0m         \u001b[0;32mexcept\u001b[0m \u001b[0mValueError\u001b[0m\u001b[0;34m:\u001b[0m\u001b[0;34m\u001b[0m\u001b[0;34m\u001b[0m\u001b[0m\n\u001b[1;32m   2471\u001b[0m             \u001b[0;32mraise\u001b[0m \u001b[0mValueError\u001b[0m\u001b[0;34m(\u001b[0m\u001b[0;34mf'value {kind!r} is not a valid Parameter.kind'\u001b[0m\u001b[0;34m)\u001b[0m\u001b[0;34m\u001b[0m\u001b[0;34m\u001b[0m\u001b[0m\n",
            "\u001b[0;32m/usr/lib/python3.7/enum.py\u001b[0m in \u001b[0;36m__call__\u001b[0;34m(cls, value, names, module, qualname, type, start)\u001b[0m\n\u001b[1;32m    313\u001b[0m         \"\"\"\n\u001b[1;32m    314\u001b[0m         \u001b[0;32mif\u001b[0m \u001b[0mnames\u001b[0m \u001b[0;32mis\u001b[0m \u001b[0;32mNone\u001b[0m\u001b[0;34m:\u001b[0m  \u001b[0;31m# simple value lookup\u001b[0m\u001b[0;34m\u001b[0m\u001b[0;34m\u001b[0m\u001b[0m\n\u001b[0;32m--> 315\u001b[0;31m             \u001b[0;32mreturn\u001b[0m \u001b[0mcls\u001b[0m\u001b[0;34m.\u001b[0m\u001b[0m__new__\u001b[0m\u001b[0;34m(\u001b[0m\u001b[0mcls\u001b[0m\u001b[0;34m,\u001b[0m \u001b[0mvalue\u001b[0m\u001b[0;34m)\u001b[0m\u001b[0;34m\u001b[0m\u001b[0;34m\u001b[0m\u001b[0m\n\u001b[0m\u001b[1;32m    316\u001b[0m         \u001b[0;31m# otherwise, functional API: we're creating a new Enum type\u001b[0m\u001b[0;34m\u001b[0m\u001b[0;34m\u001b[0m\u001b[0;34m\u001b[0m\u001b[0m\n\u001b[1;32m    317\u001b[0m         \u001b[0;32mreturn\u001b[0m \u001b[0mcls\u001b[0m\u001b[0;34m.\u001b[0m\u001b[0m_create_\u001b[0m\u001b[0;34m(\u001b[0m\u001b[0mvalue\u001b[0m\u001b[0;34m,\u001b[0m \u001b[0mnames\u001b[0m\u001b[0;34m,\u001b[0m \u001b[0mmodule\u001b[0m\u001b[0;34m=\u001b[0m\u001b[0mmodule\u001b[0m\u001b[0;34m,\u001b[0m \u001b[0mqualname\u001b[0m\u001b[0;34m=\u001b[0m\u001b[0mqualname\u001b[0m\u001b[0;34m,\u001b[0m \u001b[0mtype\u001b[0m\u001b[0;34m=\u001b[0m\u001b[0mtype\u001b[0m\u001b[0;34m,\u001b[0m \u001b[0mstart\u001b[0m\u001b[0;34m=\u001b[0m\u001b[0mstart\u001b[0m\u001b[0;34m)\u001b[0m\u001b[0;34m\u001b[0m\u001b[0;34m\u001b[0m\u001b[0m\n",
            "\u001b[0;31mKeyboardInterrupt\u001b[0m: "
          ]
        }
      ]
    },
    {
      "cell_type": "markdown",
      "source": [
        "La combinación de hiperparametros óptima para obtener el mayor recall ha sido la siguiente: 'class_weight': 'balanced', 'max_depth': 13, 'max_features': 12, A continuación entrenare el modelo con estos parametros y obtendré las métricas con el test set"
      ],
      "metadata": {
        "id": "wNvXN0sDelLD"
      }
    },
    {
      "cell_type": "code",
      "source": [
        "rfc = RandomForestClassifier(class_weight = 'balanced', max_features=12,max_depth=13,n_estimators=1000 )\n",
        "rfc.fit(X_train, y_train)\n",
        "rf_test_preds = rfc.predict(X_test)\n",
        "predicted_prob = rfc.predict_proba(X_test)\n",
        "\n",
        "# Metricas\n",
        "metricas(y_test,rf_test_preds)\n",
        "conf_matrix(y_test, rf_test_preds)\n",
        "pr_curve(y_test_array,predicted_prob)"
      ],
      "metadata": {
        "colab": {
          "base_uri": "https://localhost:8080/",
          "height": 747
        },
        "id": "O5xQRHy9fDww",
        "outputId": "7d137b9f-d793-4346-c4aa-132d79895c68"
      },
      "execution_count": 51,
      "outputs": [
        {
          "output_type": "stream",
          "name": "stdout",
          "text": [
            "Accuracy: 0.8\n",
            "              precision    recall  f1-score   support\n",
            "\n",
            "           0       0.57      0.57      0.57      4515\n",
            "           1       0.86      0.87      0.87     14464\n",
            "\n",
            "    accuracy                           0.80     18979\n",
            "   macro avg       0.72      0.72      0.72     18979\n",
            "weighted avg       0.80      0.80      0.80     18979\n",
            "\n"
          ]
        },
        {
          "output_type": "display_data",
          "data": {
            "text/plain": [
              "<Figure size 432x288 with 1 Axes>"
            ],
            "image/png": "[encoded data removed]"
          },
          "metadata": {}
        },
        {
          "output_type": "display_data",
          "data": {
            "text/plain": [
              "<Figure size 432x288 with 2 Axes>"
            ],
            "image/png": "[encoded data removed]"
          },
          "metadata": {}
        }
      ]
    },
    {
      "cell_type": "markdown",
      "source": [
        "Los resultados son mejores que con el modelo dummy, En el f1 es notablemente mejor para la clase clickbait lo que quiere decir que hay un mucho mejor balanceo entre recall y precision. No obstante hay todavía un gran numero de tweet con clickbait que no son detectados un 43%. En la curva precision-recall se muestra que si quisieramos ajustar la recall se penalizaría mucho y rápidamente la precision, esto tiene que ver también con el desbalanceo del dataset.\n",
        "\n",
        "El siguiente algoritmo que voy a probar un SVM que es un buen clasificador para cuando el espacio de dimonsionalidad es muy alto, como es el caso aqui."
      ],
      "metadata": {
        "id": "AVX7GR-vmMp2"
      }
    },
    {
      "cell_type": "code",
      "source": [
        "# SVM\n",
        "\n",
        "svm_clf = svm.SVC()\n",
        "\n",
        "svm_params = [{'C': [0.1,1,10], 'gamma': [0.1,0.01],'kernel': ['rbf','sigmoid'],'class_weight' : ['balanced']}]\n",
        "\n",
        "clf = model_selection.GridSearchCV(svm_clf, svm_params, cv = 5, scoring='f1')\n",
        "\n",
        "clf.fit(X_train, y_train)\n",
        "\n",
        "print(clf.best_params_)"
      ],
      "metadata": {
        "colab": {
          "base_uri": "https://localhost:8080/"
        },
        "id": "kqbOrYTOfxqz",
        "outputId": "4d686f86-9418-474c-9933-e528e6fb653f"
      },
      "execution_count": 19,
      "outputs": [
        {
          "output_type": "stream",
          "name": "stdout",
          "text": [
            "{'C': 1, 'class_weight': 'balanced', 'gamma': 0.01, 'kernel': 'rbf'}\n"
          ]
        }
      ]
    },
    {
      "cell_type": "markdown",
      "source": [
        "Los valores óptimos son los siguientes: 'C': 1, 'class_weight': 'balanced', 'gamma': 0.01, 'kernel': 'rbf'"
      ],
      "metadata": {
        "id": "5Q-K-ieN8Wm3"
      }
    },
    {
      "cell_type": "code",
      "source": [
        "svm_clf = svm.SVC(class_weight='balanced',C=1,gamma = 0.01,kernel = 'rbf',probability=True )\n",
        "svm_clf.fit(X_train, y_train)\n",
        "svm_test_preds = svm_clf.predict(X_test)\n",
        "predicted_prob = svm_clf.predict_proba(X_test)\n",
        "\n",
        "# Metricas\n",
        "metricas(y_test,svm_test_preds)\n",
        "conf_matrix(y_test, svm_test_preds)\n",
        "pr_curve(y_test_array,predicted_prob)\n"
      ],
      "metadata": {
        "colab": {
          "base_uri": "https://localhost:8080/",
          "height": 747
        },
        "id": "_v8Vwgas8cXo",
        "outputId": "3f9f18a3-3451-4254-9c7d-9cde98ecb552"
      },
      "execution_count": 52,
      "outputs": [
        {
          "output_type": "stream",
          "name": "stdout",
          "text": [
            "Accuracy: 0.79\n",
            "              precision    recall  f1-score   support\n",
            "\n",
            "           0       0.55      0.53      0.54      4515\n",
            "           1       0.85      0.87      0.86     14464\n",
            "\n",
            "    accuracy                           0.79     18979\n",
            "   macro avg       0.70      0.70      0.70     18979\n",
            "weighted avg       0.78      0.79      0.78     18979\n",
            "\n"
          ]
        },
        {
          "output_type": "display_data",
          "data": {
            "text/plain": [
              "<Figure size 432x288 with 1 Axes>"
            ],
            "image/png": "[encoded data removed]"
          },
          "metadata": {}
        },
        {
          "output_type": "display_data",
          "data": {
            "text/plain": [
              "<Figure size 432x288 with 2 Axes>"
            ],
            "image/png": "[encoded data removed]"
          },
          "metadata": {}
        }
      ]
    },
    {
      "cell_type": "markdown",
      "source": [
        "En este caso \n"
      ],
      "metadata": {
        "id": "jzwjpbTaTefZ"
      }
    },
    {
      "cell_type": "markdown",
      "source": [
        "# **Parte 3: Modelo de Transformer**\n",
        "\n",
        "Para el siguiente modelo voy a utilizar uno de deep learing, concretamente BERT. Es un modelo que revolucionó en su momento el espacio del NLP. A diferencia de los anteriores los vectores que produce BERT tienen en cuenta el contexto en que la palabra se encuentra y además es capaz de tratar el problema de la ambiguedad de la palabra, El vector que asigna BERT a una palabra va en función de la frase en la que se encuentre, por lo tanto una misma palabra pude tener diferentes vectores dependiendo de donde se encuentre.\n",
        "\n",
        "Una nota importante y a diferencia de los dos modelos anteriores es que el input de BERT tiene que ser el texto sin procesar, es decir sin quitar stopswords, signos o terminaciones. De esta manera se aprovecha la capacidad para incluir el contexto que tiene BERT."
      ],
      "metadata": {
        "id": "kEJUEX618gyL"
      }
    },
    {
      "cell_type": "code",
      "source": [
        "# Primero es necesario tokenizar el texto en el formato que pide BERT\n",
        "\n",
        "# divir el set en train y validación\n",
        "dtf_train, dtf_validation = model_selection.train_test_split(text_train, test_size=0.15)\n",
        "\n",
        "\n",
        "tokenizer = BertTokenizer.from_pretrained('bert-base-uncased', do_lower_case=True)\n",
        "\n",
        "\n",
        "def text_processing(tokenizer,texto,batch_size = 256,max_length=30):\n",
        "\n",
        "  '''\n",
        "     Esta función tiene como input un batch de texto y devuelve los encondings\n",
        "     y los attention mask ya listos para ser procesados en un modelo pre entrenado\n",
        "\n",
        "     Inputs:\n",
        "     -Tokenizer: El tokenizador que se va a utilizar\n",
        "     -Texto: El conjunto de textos que se quiere tokenizar, tiene que ser una lista de strings\n",
        "     -batch_size: Tamaño del batch.\n",
        "     -max_length: Número máximo de palabras para ser tokenizadas en un texto. \n",
        "     \n",
        "     output:\n",
        "     - input_ids: secuencia de textos encoded como tensor\n",
        "     - attention_mask:  las attention mask del texto encoded como tensor\n",
        "      '''\n",
        "\n",
        "  input_ids = []\n",
        "  attention_mask = []\n",
        "\n",
        "  for i in range(0, len(texto), batch_size):\n",
        "          batch = texto[i:i+batch_size]\n",
        "          inputs = tokenizer.batch_encode_plus(batch,\n",
        "                                              max_length=max_length,\n",
        "                                              padding='longest',\n",
        "                                              truncation=True,\n",
        "                                              return_attention_mask=True,\n",
        "                                              return_token_type_ids=False\n",
        "                                              )\n",
        "          input_ids.extend(inputs['input_ids'])\n",
        "          attention_mask.extend(inputs['attention_mask'])\n",
        "\n",
        "  return tf.convert_to_tensor(input_ids), tf.convert_to_tensor(attention_mask)\n",
        "\n",
        "X_train = dtf_train['postText']\n",
        "X_valid = dtf_validation['postText']\n",
        "X_test = text_test['postText']\n",
        "\n",
        "y_train = dtf_train['Clase'].values\n",
        "y_valid = dtf_validation['Clase'].values\n",
        "y_test = text_test['Clase'].values\n",
        "\n",
        "# convertir X_train\n",
        "X_train_id, X_train_attention = text_processing(tokenizer, X_train.tolist())\n",
        "\n",
        "# convertir X_valid\n",
        "X_valid_id, X_valid_attention = text_processing(tokenizer, X_valid.tolist())\n",
        "\n",
        "# convertir X_test\n",
        "X_test_id, X_test_attention = text_processing(tokenizer, X_test.tolist())\n",
        "\n",
        "\n"
      ],
      "metadata": {
        "colab": {
          "base_uri": "https://localhost:8080/",
          "height": 113,
          "referenced_widgets": [
            "52616c542be94c6e9c8bed4f33dc10c2",
            "402c2b27c2a64590a67c3d8efbd01490",
            "6f1ef3b4c5674babbc810f52d111f96a",
            "4e980e68b4784081a6ca71ef02dc01b8",
            "dbeb729841644197a62c71fab606b016",
            "8c768fb8a9a7452198e2ce5ab819bcd5",
            "a18a7678758140d39db48d855ca1e616",
            "059d5f26965a4bddb9b863e66397fa6b",
            "d4948fabc91f4e638cd377b8a76d002c",
            "3ecbbd1219764e6e95a3fbbf109acf25",
            "c1f9703383f643af8e2127a8403fabe2",
            "767445c9445a4b37810d533b1af7d468",
            "6339e34188844b05bea8f0a2c7e59e10",
            "450eacd7194f470bbb2d54ccbf19fdcb",
            "06e1c537b13541129836eb195ce8fe71",
            "a888d663d6a94d8794b6509f7393702f",
            "a4ff6bc3ae494ccd947b0aa57c81e5e7",
            "9aea6578899a4e8ea74301e7459954c3",
            "3abb1c5a8730412da9bd2e9a1f410ace",
            "60ff306520cd483f848106ca2537cd56",
            "b6be4bb8721c48a0be0240f784d150f6",
            "f8158776f21c43158a58107029c1f8c6",
            "0a0d4e7aad6646b1bda8fa48cb315cdc",
            "931d5b4dbd1c451e8968ff04ba6e6c25",
            "fae8a052bc9d41a79b4d5217f9bd5496",
            "970541c1a7d146d3a5e9daa365c6d9dd",
            "dfb2f955b2ae48e48b06a3c9e532a6cb",
            "71829661d47c4af8a037de6eb8ccb8de",
            "cadcb0b12cf64185afb4481a427d66db",
            "947db59338b44a199f48b10903825d28",
            "85f3d480ebd846a196fa4fcb2663694f",
            "cf8e3b12b9214c959e06eec9ce2f67b1",
            "165d14e2dd1c4d94bb0deec0088d01d7"
          ]
        },
        "id": "J0A1ZlvC8oQq",
        "outputId": "c21ba980-3b81-45b9-d930-079bb4760386"
      },
      "execution_count": 21,
      "outputs": [
        {
          "output_type": "display_data",
          "data": {
            "text/plain": [
              "Downloading:   0%|          | 0.00/226k [00:00<?, ?B/s]"
            ],
            "application/vnd.jupyter.widget-view+json": {
              "version_major": 2,
              "version_minor": 0,
              "model_id": "52616c542be94c6e9c8bed4f33dc10c2"
            }
          },
          "metadata": {}
        },
        {
          "output_type": "display_data",
          "data": {
            "text/plain": [
              "Downloading:   0%|          | 0.00/28.0 [00:00<?, ?B/s]"
            ],
            "application/vnd.jupyter.widget-view+json": {
              "version_major": 2,
              "version_minor": 0,
              "model_id": "767445c9445a4b37810d533b1af7d468"
            }
          },
          "metadata": {}
        },
        {
          "output_type": "display_data",
          "data": {
            "text/plain": [
              "Downloading:   0%|          | 0.00/570 [00:00<?, ?B/s]"
            ],
            "application/vnd.jupyter.widget-view+json": {
              "version_major": 2,
              "version_minor": 0,
              "model_id": "0a0d4e7aad6646b1bda8fa48cb315cdc"
            }
          },
          "metadata": {}
        }
      ]
    },
    {
      "cell_type": "markdown",
      "source": [
        "Lo siguiente es definir la arquitectura del modelo y elegir algunos hiperparametros.\n",
        "\n",
        "Como en el caso anterior se ha tenico en cuenta el problema sel desbalanceo de clases y se ha segudio la misma estrategia de penalizar los errores de la clase infrarepresentada. para ello he utilizado una función muy conveniente de skitlearn que calcual el peso proporcialnal de cada clase.\n",
        "\n",
        "En cuento al learning rate he implementado uno pequeño que va decayendo para reducir la posibilidad de overfitting\n",
        "\n",
        "El optimizador es un Adam con weight decay que es parecida a una L2 reguralization la idea es que ha sido observado que redes con weight más pequeñas overfitean menos.\n",
        "\n",
        "Para la arquitectura he cogido el output como dá el BERT pre entrenado y lo he utilizado como input a un clasificador que principalmente son de capas de dense layers con dropout, finalmente hay una activación sigmoid ya que el problema es binario para obtener el resultado."
      ],
      "metadata": {
        "id": "ldS9V1iZbzGz"
      }
    },
    {
      "cell_type": "code",
      "source": [
        "\n",
        "BATCH_SIZE = 64\n",
        "NUM_STEPS = len(X_train.index) // BATCH_SIZE\n",
        "EPOCHS = 5\n",
        "\n",
        "# Calcular pesos de la clase\n",
        "\n",
        "class_weights = dict(enumerate(class_weight.compute_class_weight('balanced',\n",
        "                                                         classes=np.unique(y_train),\n",
        "                                                         y=y_train)))\n",
        "\n",
        "# Voy a implementar un learning rate decay con un AdamW\n",
        "\n",
        "num_train_steps = len(X_train_id) * EPOCHS\n",
        "lr_scheduler = PolynomialDecay(\n",
        "    initial_learning_rate=2e-5, end_learning_rate=0.0, decay_steps=num_train_steps\n",
        ")\n",
        "\n",
        "opt = tfa.optimizers.AdamW(learning_rate=lr_scheduler,weight_decay=0.01, amsgrad=False)\n",
        "\n",
        "\n",
        "\n",
        "# Configurar la inizialización de BERT\n",
        "config = BertConfig(dropout=0.2, \n",
        "                          attention_dropout=0.2, \n",
        "                          output_hidden_states=True)\n",
        "                          \n",
        "\n",
        "BERT = TFBertModel.from_pretrained('bert-base-uncased', config=config)\n",
        "\n",
        "# Para que la layers no se entrenen y convervar la info\n",
        "for layer in BERT.layers:\n",
        "    layer.trainable = False\n",
        "\n",
        "\n",
        "def build_model(transformer, max_length=30, opt = opt):\n",
        "\n",
        "    \n",
        "    # Inizializar los pesos\n",
        "    weight_initializer = tf.keras.initializers.GlorotNormal(seed=42) \n",
        "    \n",
        "    #input layer\n",
        "    input_ids_layer = tf.keras.layers.Input(shape=(max_length,), \n",
        "                                            name='input_ids', \n",
        "                                            dtype='int32')\n",
        "    input_attention_layer = tf.keras.layers.Input(shape=(max_length,), \n",
        "                                                  name='input_attention', \n",
        "                                                  dtype='int32')\n",
        "    \n",
        "    \n",
        "    last_hidden_state = transformer([input_ids_layer, input_attention_layer])[0]\n",
        "    \n",
        "    cls_token = last_hidden_state[:, 0, :]\n",
        "\n",
        "    #Arquitectura de la cabeza\n",
        "\n",
        "    D1 = tf.keras.layers.Dropout(0.2,42)(cls_token)\n",
        "\n",
        "    X = tf.keras.layers.Dense(256,\n",
        "                              activation='relu',\n",
        "                              kernel_initializer=weight_initializer,\n",
        "                              bias_initializer='zeros'\n",
        "                              )(D1)\n",
        "    \n",
        "    D2 = tf.keras.layers.Dropout(0.2,42)(X)\n",
        "    \n",
        "    X = tf.keras.layers.Dense(32,\n",
        "                              activation='relu',\n",
        "                              kernel_initializer=weight_initializer,\n",
        "                              bias_initializer='zeros'\n",
        "                              )(D2)\n",
        "    \n",
        "    D3 = tf.keras.layers.Dropout(0.2,42)(X)\n",
        "\n",
        "    \n",
        "    # output layer\n",
        "    output = tf.keras.layers.Dense(1, \n",
        "                                   activation='sigmoid',\n",
        "                                   kernel_initializer=weight_initializer,  \n",
        "                                   kernel_constraint=None,\n",
        "                                   bias_initializer='zeros'\n",
        "                                   )(cls_token)\n",
        "    \n",
        "    \n",
        "    model = tf.keras.Model([input_ids_layer, input_attention_layer], output)\n",
        "    \n",
        "    # Compilar\n",
        "    model.compile(opt, \n",
        "                  loss='binary_crossentropy',\n",
        "                  metrics=['accuracy'])\n",
        "    \n",
        "    \n",
        "    \n",
        "    return model\n",
        "\n",
        "model = build_model(BERT, max_length=30, opt = opt)\n",
        "\n"
      ],
      "metadata": {
        "colab": {
          "base_uri": "https://localhost:8080/",
          "height": 156,
          "referenced_widgets": [
            "835c94169a944b9a999bfdcb7c2c3ceb",
            "7760f7b2f0ad4ddc99bcdd05e2eae3fb",
            "62a930e799de49fa9fac0c91ad3312f4",
            "af902a63c79f40c9951edc6c4278ab30",
            "847347e4e0df4999a11f912adf061c1c",
            "be8d7dae0f21461a8312724ccbb424b0",
            "5cc2d531e0a14aa598f278e6329e4b22",
            "25dea363c6874c63b80a2f962f347f09",
            "c7b880e5b0a245829e53f6fa5edf39e9",
            "ee5f6b247a5d4ffaa8ea41d7ddab6a3b",
            "36211b603fc54be79c3b119c2d0cb804"
          ]
        },
        "id": "yQ-tGHV_cDM9",
        "outputId": "cf0cc255-11dc-429d-e655-34629cea9032"
      },
      "execution_count": 24,
      "outputs": [
        {
          "output_type": "display_data",
          "data": {
            "text/plain": [
              "Downloading:   0%|          | 0.00/511M [00:00<?, ?B/s]"
            ],
            "application/vnd.jupyter.widget-view+json": {
              "version_major": 2,
              "version_minor": 0,
              "model_id": "835c94169a944b9a999bfdcb7c2c3ceb"
            }
          },
          "metadata": {}
        },
        {
          "output_type": "stream",
          "name": "stderr",
          "text": [
            "Some layers from the model checkpoint at bert-base-uncased were not used when initializing TFBertModel: ['nsp___cls', 'mlm___cls']\n",
            "- This IS expected if you are initializing TFBertModel from the checkpoint of a model trained on another task or with another architecture (e.g. initializing a BertForSequenceClassification model from a BertForPreTraining model).\n",
            "- This IS NOT expected if you are initializing TFBertModel from the checkpoint of a model that you expect to be exactly identical (initializing a BertForSequenceClassification model from a BertForSequenceClassification model).\n",
            "All the layers of TFBertModel were initialized from the model checkpoint at bert-base-uncased.\n",
            "If your task is similar to the task the model of the checkpoint was trained on, you can already use TFBertModel for predictions without further training.\n"
          ]
        }
      ]
    },
    {
      "cell_type": "code",
      "source": [
        "\n",
        "# Entrenar el modelo\n",
        "train = model.fit(\n",
        "    x = [X_train_id, X_train_attention],\n",
        "    y = y_train,\n",
        "    epochs = EPOCHS,\n",
        "    batch_size = BATCH_SIZE,\n",
        "    steps_per_epoch = NUM_STEPS,\n",
        "    class_weight=class_weights,\n",
        "    validation_data = ([X_valid_id, X_valid_attention], y_valid),\n",
        "    verbose=3\n",
        ")\n",
        "\n"
      ],
      "metadata": {
        "colab": {
          "base_uri": "https://localhost:8080/"
        },
        "id": "FRUkpFI57iri",
        "outputId": "5a3db451-eba4-4768-c60a-99d3576c6ebb"
      },
      "execution_count": 32,
      "outputs": [
        {
          "output_type": "stream",
          "name": "stdout",
          "text": [
            "Epoch 1/5\n",
            "Epoch 2/5\n",
            "Epoch 3/5\n",
            "Epoch 4/5\n",
            "Epoch 5/5\n"
          ]
        }
      ]
    },
    {
      "cell_type": "code",
      "source": [
        "#Predicción\n",
        "y_pred = model.predict([X_test_id, X_test_attention])\n",
        "y_pred_clase = np.where(y_pred >= 0.5, 1, 0)\n",
        "\n",
        "#Métricas\n",
        "metricas(y_test,y_pred_clase)\n",
        "conf_matrix(y_test, y_pred_clase)\n",
        "\n",
        "## calcular ndarry para precion-recall curve input\n",
        "probs = []\n",
        "for i in y_pred:\n",
        "  prob = 1 - i\n",
        "  probs.append(prob)\n",
        "\n",
        "probs = np.asarray(probs, dtype=np.float32)\n",
        "y_pred_p = np.append(probs, y_pred, axis = 1)\n",
        "pr_curve(y_test_array,y_pred_p)\n"
      ],
      "metadata": {
        "colab": {
          "base_uri": "https://localhost:8080/",
          "height": 747
        },
        "id": "zrtvFPiq_0w4",
        "outputId": "fc582171-a21a-4f91-d446-fc1d0ecfe2de"
      },
      "execution_count": 33,
      "outputs": [
        {
          "output_type": "stream",
          "name": "stdout",
          "text": [
            "Accuracy: 0.81\n",
            "              precision    recall  f1-score   support\n",
            "\n",
            "           0       0.58      0.68      0.63      4515\n",
            "           1       0.89      0.85      0.87     14464\n",
            "\n",
            "    accuracy                           0.81     18979\n",
            "   macro avg       0.74      0.76      0.75     18979\n",
            "weighted avg       0.82      0.81      0.81     18979\n",
            "\n"
          ]
        },
        {
          "output_type": "display_data",
          "data": {
            "text/plain": [
              "<Figure size 432x288 with 1 Axes>"
            ],
            "image/png": "[encoded data removed]"
          },
          "metadata": {}
        },
        {
          "output_type": "display_data",
          "data": {
            "text/plain": [
              "<Figure size 432x288 with 2 Axes>"
            ],
            "image/png": "[encoded data removed]"
          },
          "metadata": {}
        }
      ]
    },
    {
      "cell_type": "markdown",
      "source": [
        "Los resultados que arroja este modelo son, como es esperado, superiores a los anteriores aunque todavía quedan muchos clickbait clasificados erroneamente el 32 %, pero supone una mejora sustancial sobretodo si tenemos en cuenta que BERT no es de los modelos más potentes en transformers. En la matriz de confusión también se observa como el número de falsos positivos se reduce significativamente. Así mismo se puede observar en la curva de precision recall que aunque sigue habiendo un tade off muy pronunciado, hay más margen para ajustar los tresholds y obtener una mejor precions o recal en función de lo deseado.\n",
        "\n",
        "Al modelo por supuesto le supone menos esfuerzo clasificar correctamente la clase dominante que tiene más muestras"
      ],
      "metadata": {
        "id": "yk_uWzDKTYdb"
      }
    },
    {
      "cell_type": "markdown",
      "source": [
        "# **Parte 4: Analisis de errores**\n",
        "\n"
      ],
      "metadata": {
        "id": "a3jmf5WSjuGa"
      }
    },
    {
      "cell_type": "code",
      "source": [
        "lis =[y_pred_clase,y_pred]\n",
        "y_pred_clase_e = pd.DataFrame(y_pred_clase, columns = ['pred'])\n",
        "y_proba = pd.DataFrame(y_pred, columns = ['prob'])\n",
        "data = pd.concat([text_test,y_pred_clase_e,y_proba], axis = 1)\n",
        "data.head(10)\n"
      ],
      "metadata": {
        "colab": {
          "base_uri": "https://localhost:8080/",
          "height": 363
        },
        "id": "UpeY6IOE0Yye",
        "outputId": "add97bbf-75eb-4591-f676-9cd526b76870"
      },
      "execution_count": 34,
      "outputs": [
        {
          "output_type": "execute_result",
          "data": {
            "text/plain": [
              "                                            postText  Clase  pred      prob\n",
              "0  Johnny Manziel on Browns' No. 1 pick Myles Gar...      1     1  0.515807\n",
              "1  Fabio: California Is a 'Mess' Because of Liber...      1     1  0.511126\n",
              "2            \"He's been huge for us this year, man.\"      0     0  0.496496\n",
              "3  New Bears quarterback Mitchell Trubisky was gr...      1     1  0.521552\n",
              "4  It's not enough to let employees work flexible...      1     0  0.493490\n",
              "5  Out of 15 lakh registered companies in India, ...      1     1  0.503025\n",
              "6             Tense moment plane lands without wheel      1     1  0.500665\n",
              "7           Stars who got their start on soap operas      0     1  0.513434\n",
              "8  President Donald Trump: My first 100 days are ...      1     1  0.508673\n",
              "9  U.S. wants more U.N. sanctions over North Kore...      1     1  0.539673"
            ],
            "text/html": [
              "\n",
              "  <div id=\"df-5da34c72-8208-417b-b46a-89cd7098fdbe\">\n",
              "    <div class=\"colab-df-container\">\n",
              "      <div>\n",
              "<style scoped>\n",
              "    .dataframe tbody tr th:only-of-type {\n",
              "        vertical-align: middle;\n",
              "    }\n",
              "\n",
              "    .dataframe tbody tr th {\n",
              "        vertical-align: top;\n",
              "    }\n",
              "\n",
              "    .dataframe thead th {\n",
              "        text-align: right;\n",
              "    }\n",
              "</style>\n",
              "<table border=\"1\" class=\"dataframe\">\n",
              "  <thead>\n",
              "    <tr style=\"text-align: right;\">\n",
              "      <th></th>\n",
              "      <th>postText</th>\n",
              "      <th>Clase</th>\n",
              "      <th>pred</th>\n",
              "      <th>prob</th>\n",
              "    </tr>\n",
              "  </thead>\n",
              "  <tbody>\n",
              "    <tr>\n",
              "      <th>0</th>\n",
              "      <td>Johnny Manziel on Browns' No. 1 pick Myles Gar...</td>\n",
              "      <td>1</td>\n",
              "      <td>1</td>\n",
              "      <td>0.515807</td>\n",
              "    </tr>\n",
              "    <tr>\n",
              "      <th>1</th>\n",
              "      <td>Fabio: California Is a 'Mess' Because of Liber...</td>\n",
              "      <td>1</td>\n",
              "      <td>1</td>\n",
              "      <td>0.511126</td>\n",
              "    </tr>\n",
              "    <tr>\n",
              "      <th>2</th>\n",
              "      <td>\"He's been huge for us this year, man.\"</td>\n",
              "      <td>0</td>\n",
              "      <td>0</td>\n",
              "      <td>0.496496</td>\n",
              "    </tr>\n",
              "    <tr>\n",
              "      <th>3</th>\n",
              "      <td>New Bears quarterback Mitchell Trubisky was gr...</td>\n",
              "      <td>1</td>\n",
              "      <td>1</td>\n",
              "      <td>0.521552</td>\n",
              "    </tr>\n",
              "    <tr>\n",
              "      <th>4</th>\n",
              "      <td>It's not enough to let employees work flexible...</td>\n",
              "      <td>1</td>\n",
              "      <td>0</td>\n",
              "      <td>0.493490</td>\n",
              "    </tr>\n",
              "    <tr>\n",
              "      <th>5</th>\n",
              "      <td>Out of 15 lakh registered companies in India, ...</td>\n",
              "      <td>1</td>\n",
              "      <td>1</td>\n",
              "      <td>0.503025</td>\n",
              "    </tr>\n",
              "    <tr>\n",
              "      <th>6</th>\n",
              "      <td>Tense moment plane lands without wheel</td>\n",
              "      <td>1</td>\n",
              "      <td>1</td>\n",
              "      <td>0.500665</td>\n",
              "    </tr>\n",
              "    <tr>\n",
              "      <th>7</th>\n",
              "      <td>Stars who got their start on soap operas</td>\n",
              "      <td>0</td>\n",
              "      <td>1</td>\n",
              "      <td>0.513434</td>\n",
              "    </tr>\n",
              "    <tr>\n",
              "      <th>8</th>\n",
              "      <td>President Donald Trump: My first 100 days are ...</td>\n",
              "      <td>1</td>\n",
              "      <td>1</td>\n",
              "      <td>0.508673</td>\n",
              "    </tr>\n",
              "    <tr>\n",
              "      <th>9</th>\n",
              "      <td>U.S. wants more U.N. sanctions over North Kore...</td>\n",
              "      <td>1</td>\n",
              "      <td>1</td>\n",
              "      <td>0.539673</td>\n",
              "    </tr>\n",
              "  </tbody>\n",
              "</table>\n",
              "</div>\n",
              "      <button class=\"colab-df-convert\" onclick=\"convertToInteractive('df-5da34c72-8208-417b-b46a-89cd7098fdbe')\"\n",
              "              title=\"Convert this dataframe to an interactive table.\"\n",
              "              style=\"display:none;\">\n",
              "        \n",
              "  <svg xmlns=\"http://www.w3.org/2000/svg\" height=\"24px\"viewBox=\"0 0 24 24\"\n",
              "       width=\"24px\">\n",
              "    <path d=\"M0 0h24v24H0V0z\" fill=\"none\"/>\n",
              "    <path d=\"M18.56 5.44l.94 2.06.94-2.06 2.06-.94-2.06-.94-.94-2.06-.94 2.06-2.06.94zm-11 1L8.5 8.5l.94-2.06 2.06-.94-2.06-.94L8.5 2.5l-.94 2.06-2.06.94zm10 10l.94 2.06.94-2.06 2.06-.94-2.06-.94-.94-2.06-.94 2.06-2.06.94z\"/><path d=\"M17.41 7.96l-1.37-1.37c-.4-.4-.92-.59-1.43-.59-.52 0-1.04.2-1.43.59L10.3 9.45l-7.72 7.72c-.78.78-.78 2.05 0 2.83L4 21.41c.39.39.9.59 1.41.59.51 0 1.02-.2 1.41-.59l7.78-7.78 2.81-2.81c.8-.78.8-2.07 0-2.86zM5.41 20L4 18.59l7.72-7.72 1.47 1.35L5.41 20z\"/>\n",
              "  </svg>\n",
              "      </button>\n",
              "      \n",
              "  <style>\n",
              "    .colab-df-container {\n",
              "      display:flex;\n",
              "      flex-wrap:wrap;\n",
              "      gap: 12px;\n",
              "    }\n",
              "\n",
              "    .colab-df-convert {\n",
              "      background-color: #E8F0FE;\n",
              "      border: none;\n",
              "      border-radius: 50%;\n",
              "      cursor: pointer;\n",
              "      display: none;\n",
              "      fill: #1967D2;\n",
              "      height: 32px;\n",
              "      padding: 0 0 0 0;\n",
              "      width: 32px;\n",
              "    }\n",
              "\n",
              "    .colab-df-convert:hover {\n",
              "      background-color: #E2EBFA;\n",
              "      box-shadow: 0px 1px 2px rgba(60, 64, 67, 0.3), 0px 1px 3px 1px rgba(60, 64, 67, 0.15);\n",
              "      fill: #174EA6;\n",
              "    }\n",
              "\n",
              "    [theme=dark] .colab-df-convert {\n",
              "      background-color: #3B4455;\n",
              "      fill: #D2E3FC;\n",
              "    }\n",
              "\n",
              "    [theme=dark] .colab-df-convert:hover {\n",
              "      background-color: #434B5C;\n",
              "      box-shadow: 0px 1px 3px 1px rgba(0, 0, 0, 0.15);\n",
              "      filter: drop-shadow(0px 1px 2px rgba(0, 0, 0, 0.3));\n",
              "      fill: #FFFFFF;\n",
              "    }\n",
              "  </style>\n",
              "\n",
              "      <script>\n",
              "        const buttonEl =\n",
              "          document.querySelector('#df-5da34c72-8208-417b-b46a-89cd7098fdbe button.colab-df-convert');\n",
              "        buttonEl.style.display =\n",
              "          google.colab.kernel.accessAllowed ? 'block' : 'none';\n",
              "\n",
              "        async function convertToInteractive(key) {\n",
              "          const element = document.querySelector('#df-5da34c72-8208-417b-b46a-89cd7098fdbe');\n",
              "          const dataTable =\n",
              "            await google.colab.kernel.invokeFunction('convertToInteractive',\n",
              "                                                     [key], {});\n",
              "          if (!dataTable) return;\n",
              "\n",
              "          const docLinkHtml = 'Like what you see? Visit the ' +\n",
              "            '<a target=\"_blank\" href=https://colab.research.google.com/notebooks/data_table.ipynb>data table notebook</a>'\n",
              "            + ' to learn more about interactive tables.';\n",
              "          element.innerHTML = '';\n",
              "          dataTable['output_type'] = 'display_data';\n",
              "          await google.colab.output.renderOutput(dataTable, element);\n",
              "          const docLink = document.createElement('div');\n",
              "          docLink.innerHTML = docLinkHtml;\n",
              "          element.appendChild(docLink);\n",
              "        }\n",
              "      </script>\n",
              "    </div>\n",
              "  </div>\n",
              "  "
            ]
          },
          "metadata": {},
          "execution_count": 34
        }
      ]
    },
    {
      "cell_type": "code",
      "source": [
        "# Primero voy a analizar los Clickbaits que fueron clasificados erroneamente como no clickbaits, es decir, los falsos negativos\n",
        "errores_fn = data[(data['Clase'] != data['pred']) & (data['Clase'] == 0)]\n",
        "\n",
        "print(' Hay en total {} falsos negativos'.format(len(errores_fn))) # esto también se vé en la matriz de confusión anterior\n",
        "\n",
        "data['prob'].describe()\n",
        "\n",
        "# si atendemos a las probabilidades que arroja el modelo parace que no arroja probabilidades muy extremas, todas entorno al 50 %\n",
        "#siendo la menor del 0.48 y la mayor del 0.55. Lo que quizá indica que el modelo no tiene un gran poder discriminador\n",
        "\n",
        "# Ahora voy a comprobar si el número de palabras es algo importante en los errores\n",
        "errores_fn['num_palabras'] = errores_fn['postText'].apply(lambda x: len(x.split()))\n",
        "\n",
        "#plot\n",
        "plt.figure(figsize=(10,6))\n",
        "sns.set_style('darkgrid')\n",
        "sns.countplot(errores_fn['num_palabras'],hue=errores_fn['Clase'],data=errores_fn)\n",
        "plt.xlabel('Número de Palabras',size=15)\n",
        "plt.ylabel('Número de Tweets', size=15)\n",
        "plt.legend(title=None,labels=['No Clickbait','Clickbait'],loc='upper right')\n",
        "plt.title('Número de palabras en cada tweet')\n",
        "plt.tight_layout()\n",
        "plt.show()\n",
        "\n",
        "\n",
        "# Contar la media de palabras que tiene un tweet \n",
        "print('media de palabras : {}'.format(errores_fn['num_palabras'].mean()))\n"
      ],
      "metadata": {
        "colab": {
          "base_uri": "https://localhost:8080/",
          "height": 635
        },
        "id": "o-ztFKGVAGX-",
        "outputId": "4071c874-7d29-4545-a196-216171550a67"
      },
      "execution_count": 55,
      "outputs": [
        {
          "output_type": "stream",
          "name": "stdout",
          "text": [
            " Hay en total 1440 falsos negativos\n"
          ]
        },
        {
          "output_type": "stream",
          "name": "stderr",
          "text": [
            "/usr/local/lib/python3.7/dist-packages/ipykernel_launcher.py:12: SettingWithCopyWarning: \n",
            "A value is trying to be set on a copy of a slice from a DataFrame.\n",
            "Try using .loc[row_indexer,col_indexer] = value instead\n",
            "\n",
            "See the caveats in the documentation: https://pandas.pydata.org/pandas-docs/stable/user_guide/indexing.html#returning-a-view-versus-a-copy\n",
            "  if sys.path[0] == '':\n",
            "/usr/local/lib/python3.7/dist-packages/seaborn/_decorators.py:43: FutureWarning: Pass the following variable as a keyword arg: x. From version 0.12, the only valid positional argument will be `data`, and passing other arguments without an explicit keyword will result in an error or misinterpretation.\n",
            "  FutureWarning\n"
          ]
        },
        {
          "output_type": "display_data",
          "data": {
            "text/plain": [
              "<Figure size 720x432 with 1 Axes>"
            ],
            "image/png": "[encoded data removed]"
          },
          "metadata": {}
        },
        {
          "output_type": "stream",
          "name": "stdout",
          "text": [
            "media de palabras : 10.808333333333334\n"
          ]
        }
      ]
    },
    {
      "cell_type": "code",
      "source": [
        "\n",
        "\n",
        "# parece que no ha influido, los falsos negativos tienen una media de palabras del 10.8 que está en la media de todo el dataset de clickbait.\n",
        "#Si vemos ahora las palabras más comunes en estos tweets\n",
        "\n",
        "errores_fn['texto_limpio'] = errores_fn['postText'].apply(lambda x: \n",
        "          utils_preprocess_text(x, flg_stemm=False, flg_lemm=True, \n",
        "          lst_stopwords=list_stopwords))\n",
        "\n",
        "cb_list=list(errores_fn['texto_limpio'])\n",
        "cb_list = [wrd for sub in cb_list for wrd in sub.split()]\n",
        "\n",
        "\n",
        "# El siguiente código es para sacar las frecuencias de las palabras\n",
        "cb_freq = FreqDist(cb_list)\n",
        "\n",
        "\n",
        "cb_bar_counts = [x[1] for x in cb_freq.most_common(20)]\n",
        "cb_bar_words = [x[0] for x in cb_freq.most_common(20)]\n",
        "\n",
        "\n",
        "#plots con las 20 palabras más comunes en cada clase\n",
        "#clickbait\n",
        "word_freq_figure1 = plt.figure(figsize=(10,6))\n",
        "sns.barplot(cb_bar_words, cb_bar_counts,palette='Oranges_d')\n",
        "plt.xticks(fontsize=16)\n",
        "plt.xticks(rotation=80)\n",
        "plt.title('Top 20 palabras en clickbait fn ')\n",
        "plt.xlabel('Palabras más comunes fn')\n",
        "plt.ylabel('Conteo')\n",
        "sns.set_style('darkgrid')\n",
        "plt.show()\n",
        "\n"
      ],
      "metadata": {
        "colab": {
          "base_uri": "https://localhost:8080/",
          "height": 630
        },
        "id": "ZnYElawxQmUH",
        "outputId": "42845eb1-5980-4647-df59-6e3979356b54"
      },
      "execution_count": 56,
      "outputs": [
        {
          "output_type": "stream",
          "name": "stderr",
          "text": [
            "/usr/local/lib/python3.7/dist-packages/ipykernel_launcher.py:6: SettingWithCopyWarning: \n",
            "A value is trying to be set on a copy of a slice from a DataFrame.\n",
            "Try using .loc[row_indexer,col_indexer] = value instead\n",
            "\n",
            "See the caveats in the documentation: https://pandas.pydata.org/pandas-docs/stable/user_guide/indexing.html#returning-a-view-versus-a-copy\n",
            "  \n",
            "/usr/local/lib/python3.7/dist-packages/seaborn/_decorators.py:43: FutureWarning: Pass the following variables as keyword args: x, y. From version 0.12, the only valid positional argument will be `data`, and passing other arguments without an explicit keyword will result in an error or misinterpretation.\n",
            "  FutureWarning\n"
          ]
        },
        {
          "output_type": "display_data",
          "data": {
            "text/plain": [
              "<Figure size 720x432 with 1 Axes>"
            ],
            "image/png": "[encoded data removed]"
          },
          "metadata": {}
        }
      ]
    },
    {
      "cell_type": "code",
      "source": [
        "# Para ver si hay algo a destacar vamos a calcularlas para los True postive y comaprar\n",
        "\n",
        "tp = data[(data['Clase'] == data['pred']) & (data['Clase'] == 0)]\n",
        "\n",
        "tp['num_palabras'] = tp['postText'].apply(lambda x: len(x.split()))\n",
        "\n",
        "#plot\n",
        "plt.figure(figsize=(10,6))\n",
        "sns.set_style('darkgrid')\n",
        "sns.countplot(tp['num_palabras'],hue=tp['Clase'],data=tp)\n",
        "plt.xlabel('Número de Palabras',size=15)\n",
        "plt.ylabel('Número de Tweets', size=15)\n",
        "plt.legend(title=None,labels=['No Clickbait','Clickbait'],loc='upper right')\n",
        "plt.title('Número de palabras en cada tweet')\n",
        "plt.tight_layout()\n",
        "plt.show()\n",
        "\n",
        "# Contar la media de palabras que tiene un tweet \n",
        "print('media de palabras : {}'.format(tp['num_palabras'].mean()))"
      ],
      "metadata": {
        "colab": {
          "base_uri": "https://localhost:8080/",
          "height": 617
        },
        "id": "yq0L1perPTIM",
        "outputId": "4e37b5bc-adaa-4576-fa80-8d2218039168"
      },
      "execution_count": 45,
      "outputs": [
        {
          "output_type": "stream",
          "name": "stderr",
          "text": [
            "/usr/local/lib/python3.7/dist-packages/ipykernel_launcher.py:5: SettingWithCopyWarning: \n",
            "A value is trying to be set on a copy of a slice from a DataFrame.\n",
            "Try using .loc[row_indexer,col_indexer] = value instead\n",
            "\n",
            "See the caveats in the documentation: https://pandas.pydata.org/pandas-docs/stable/user_guide/indexing.html#returning-a-view-versus-a-copy\n",
            "  \"\"\"\n",
            "/usr/local/lib/python3.7/dist-packages/seaborn/_decorators.py:43: FutureWarning: Pass the following variable as a keyword arg: x. From version 0.12, the only valid positional argument will be `data`, and passing other arguments without an explicit keyword will result in an error or misinterpretation.\n",
            "  FutureWarning\n"
          ]
        },
        {
          "output_type": "display_data",
          "data": {
            "text/plain": [
              "<Figure size 720x432 with 1 Axes>"
            ],
            "image/png": "[encoded data removed]"
          },
          "metadata": {}
        },
        {
          "output_type": "execute_result",
          "data": {
            "text/plain": [
              "9.59479674796748"
            ]
          },
          "metadata": {},
          "execution_count": 45
        }
      ]
    },
    {
      "cell_type": "code",
      "source": [
        "tp['texto_limpio'] = tp['postText'].apply(lambda x: \n",
        "          utils_preprocess_text(x, flg_stemm=False, flg_lemm=True, \n",
        "          lst_stopwords=list_stopwords))\n",
        "\n",
        "cb_list=list(tp['texto_limpio'])\n",
        "cb_list = [wrd for sub in cb_list for wrd in sub.split()]\n",
        "\n",
        "\n",
        "# El siguiente código es para sacar las frecuencias de las palabras\n",
        "cb_freq = FreqDist(cb_list)\n",
        "\n",
        "\n",
        "cb_bar_counts = [x[1] for x in cb_freq.most_common(20)]\n",
        "cb_bar_words = [x[0] for x in cb_freq.most_common(20)]\n",
        "\n",
        "\n",
        "#plots con las 20 palabras más comunes en cada clase\n",
        "#clickbait\n",
        "word_freq_figure1 = plt.figure(figsize=(10,6))\n",
        "sns.barplot(cb_bar_words, cb_bar_counts,palette='Oranges_d')\n",
        "plt.xticks(fontsize=16)\n",
        "plt.xticks(rotation=80)\n",
        "plt.title('Top 20 palabras en clickbait TP ')\n",
        "plt.xlabel('Palabras más comunes TP')\n",
        "plt.ylabel('Conteo')\n",
        "sns.set_style('darkgrid')\n",
        "plt.show()"
      ],
      "metadata": {
        "colab": {
          "base_uri": "https://localhost:8080/",
          "height": 613
        },
        "id": "s8z4scNnHcVK",
        "outputId": "8d46b2d3-c483-4108-93a0-fdaf8c1023ee"
      },
      "execution_count": 50,
      "outputs": [
        {
          "output_type": "stream",
          "name": "stderr",
          "text": [
            "/usr/local/lib/python3.7/dist-packages/ipykernel_launcher.py:1: SettingWithCopyWarning: \n",
            "A value is trying to be set on a copy of a slice from a DataFrame.\n",
            "Try using .loc[row_indexer,col_indexer] = value instead\n",
            "\n",
            "See the caveats in the documentation: https://pandas.pydata.org/pandas-docs/stable/user_guide/indexing.html#returning-a-view-versus-a-copy\n",
            "  \"\"\"Entry point for launching an IPython kernel.\n",
            "/usr/local/lib/python3.7/dist-packages/seaborn/_decorators.py:43: FutureWarning: Pass the following variables as keyword args: x, y. From version 0.12, the only valid positional argument will be `data`, and passing other arguments without an explicit keyword will result in an error or misinterpretation.\n",
            "  FutureWarning\n"
          ]
        },
        {
          "output_type": "display_data",
          "data": {
            "text/plain": [
              "<Figure size 720x432 with 1 Axes>"
            ],
            "image/png": "[encoded data removed]"
          },
          "metadata": {}
        }
      ]
    },
    {
      "cell_type": "code",
      "source": [
        "# Comparando con los TP se puede ver que estos tienen un número de palabras menor de media\n",
        "# esto le puede servir al modelo para diferencia mejor, así mismo hay palabras que pueden ser \n",
        "# típicas para un clickbait como \"here\" en referencia a un enlace, \"thing\",\"best\",\"get\"\n",
        "# Por el contraio los FN la media de palabra es mayor y además destaca la palabra de trump que\n",
        "# posiblemente como vimos al principio también este muy presente en los tweets con son no clickbait\n",
        "# Además parece que tienen palabras muy comunes que pueden estar en tweets normales\n",
        "# para comprobar este último punto vamos a ver las palabras más comunes para los TN es decir los que son de verdad no clickbait\n",
        "# y que el modelo indentíficó correctamente\n",
        "\n",
        "tn = data[(data['Clase'] == data['pred']) & (data['Clase'] == 1)]\n",
        "\n",
        "tn['num_palabras'] = tn['postText'].apply(lambda x: len(x.split()))\n",
        "\n",
        "#plot\n",
        "plt.figure(figsize=(10,6))\n",
        "sns.set_style('darkgrid')\n",
        "sns.countplot(tn['num_palabras'],hue=tn['Clase'],data=tn)\n",
        "plt.xlabel('Número de Palabras',size=15)\n",
        "plt.ylabel('Número de Tweets', size=15)\n",
        "plt.legend(title=None,labels=['No Clickbait','Clickbait'],loc='upper right')\n",
        "plt.title('Número de palabras en cada tweet')\n",
        "plt.tight_layout()\n",
        "plt.show()\n",
        "\n",
        "# Contar la media de palabras que tiene un tweet \n",
        "print('media de palabras : {}'.format(tn['num_palabras'].mean()))"
      ],
      "metadata": {
        "colab": {
          "base_uri": "https://localhost:8080/",
          "height": 617
        },
        "id": "xMjABo51QdPA",
        "outputId": "c128bf72-ec7d-45e2-aa7a-ef8ee2c92046"
      },
      "execution_count": 57,
      "outputs": [
        {
          "output_type": "stream",
          "name": "stderr",
          "text": [
            "/usr/local/lib/python3.7/dist-packages/ipykernel_launcher.py:12: SettingWithCopyWarning: \n",
            "A value is trying to be set on a copy of a slice from a DataFrame.\n",
            "Try using .loc[row_indexer,col_indexer] = value instead\n",
            "\n",
            "See the caveats in the documentation: https://pandas.pydata.org/pandas-docs/stable/user_guide/indexing.html#returning-a-view-versus-a-copy\n",
            "  if sys.path[0] == '':\n",
            "/usr/local/lib/python3.7/dist-packages/seaborn/_decorators.py:43: FutureWarning: Pass the following variable as a keyword arg: x. From version 0.12, the only valid positional argument will be `data`, and passing other arguments without an explicit keyword will result in an error or misinterpretation.\n",
            "  FutureWarning\n"
          ]
        },
        {
          "output_type": "display_data",
          "data": {
            "text/plain": [
              "<Figure size 720x432 with 1 Axes>"
            ],
            "image/png": "[encoded data removed]"
          },
          "metadata": {}
        },
        {
          "output_type": "stream",
          "name": "stdout",
          "text": [
            "media de palabras : 12.001059322033898\n"
          ]
        }
      ]
    },
    {
      "cell_type": "code",
      "source": [
        "tn['texto_limpio'] = tn['postText'].apply(lambda x: \n",
        "          utils_preprocess_text(x, flg_stemm=False, flg_lemm=True, \n",
        "          lst_stopwords=list_stopwords))\n",
        "\n",
        "cb_list=list(tn['texto_limpio'])\n",
        "cb_list = [wrd for sub in cb_list for wrd in sub.split()]\n",
        "\n",
        "\n",
        "# El siguiente código es para sacar las frecuencias de las palabras\n",
        "cb_freq = FreqDist(cb_list)\n",
        "\n",
        "\n",
        "cb_bar_counts = [x[1] for x in cb_freq.most_common(20)]\n",
        "cb_bar_words = [x[0] for x in cb_freq.most_common(20)]\n",
        "\n",
        "\n",
        "#plots con las 20 palabras más comunes en cada clase\n",
        "#clickbait\n",
        "word_freq_figure1 = plt.figure(figsize=(10,6))\n",
        "sns.barplot(cb_bar_words, cb_bar_counts,palette='Oranges_d')\n",
        "plt.xticks(fontsize=16)\n",
        "plt.xticks(rotation=80)\n",
        "plt.title('Top 20 palabras en clickbait TN ')\n",
        "plt.xlabel('Palabras más comunes TN')\n",
        "plt.ylabel('Conteo')\n",
        "sns.set_style('darkgrid')\n",
        "plt.show()"
      ],
      "metadata": {
        "colab": {
          "base_uri": "https://localhost:8080/",
          "height": 630
        },
        "id": "U9GC4TVATCpU",
        "outputId": "a36933d9-0ca2-466f-aeb1-854bb9eda3dc"
      },
      "execution_count": 58,
      "outputs": [
        {
          "output_type": "stream",
          "name": "stderr",
          "text": [
            "/usr/local/lib/python3.7/dist-packages/ipykernel_launcher.py:1: SettingWithCopyWarning: \n",
            "A value is trying to be set on a copy of a slice from a DataFrame.\n",
            "Try using .loc[row_indexer,col_indexer] = value instead\n",
            "\n",
            "See the caveats in the documentation: https://pandas.pydata.org/pandas-docs/stable/user_guide/indexing.html#returning-a-view-versus-a-copy\n",
            "  \"\"\"Entry point for launching an IPython kernel.\n",
            "/usr/local/lib/python3.7/dist-packages/seaborn/_decorators.py:43: FutureWarning: Pass the following variables as keyword args: x, y. From version 0.12, the only valid positional argument will be `data`, and passing other arguments without an explicit keyword will result in an error or misinterpretation.\n",
            "  FutureWarning\n"
          ]
        },
        {
          "output_type": "display_data",
          "data": {
            "text/plain": [
              "<Figure size 720x432 with 1 Axes>"
            ],
            "image/png": "[encoded data removed]"
          },
          "metadata": {}
        }
      ]
    },
    {
      "cell_type": "markdown",
      "source": [
        "Las gráficas de los tn confirman lo mencionado anteriormente, son tweets más largos y además tienen palabras en comun con los tweets que son fn, Sobretodo la palabras relacionadas con Trump y el ex presidente de EEUU. En este dataset Trump está muy presente como vimos al principio y aparece tanto en clickbaits como no clickbaits. El modelo tiene problemas para clasificar correctamente estos tweets que son clickbaits donde aparece trump o palabras relacionadas con el porque también aparece en en tweets no clickbait. \n",
        "\n",
        "Por el contrario los tweets con palabras caracteristicas de clickbait como \"here\" en referencia a un enlace, \"thing\",\"best\" o \"get\", parece que los clasifica correctamente. Además el tamaño del tweet también pude ser un punto sobre el que tarbajar los tweets de clickbait que ha clasificado mal eran de media más largos que los que ha clasificado bien"
      ],
      "metadata": {
        "id": "RiV5ddrsTmES"
      }
    },
    {
      "cell_type": "markdown",
      "source": [
        "# **Próximos pasos**\n",
        "\n",
        "Para tener un conocimiento más profundo de cómo clasifica el modelo y que features son las más importantes una implementación de BERT que permita el uso de librerias como shap o lime sería lo ideal. Librerías como la de shap ayudan a través de técnicas de game theory a descubrir cuáles son las features más importantes.\n",
        "\n",
        "Una vez analizado el punto anterior se puede intentar mejorar el modelo de transformer de muchas formas. La más evidente sería hacer un ajuste de los hiperparametros para hacerlos optimos, se puden usar herramientas como weight and biases o tenserboard para ver la performance del modelo durante el entrenamiento más en detalle. Este es un proceso iterativo. Además también se puede utilizar otras herramientas como keras que te encuentrar los parametros más optimos de una forma similar a como he utilizado el gridsearchcv. Incluso se podría utilizar algoritmos de optimización para encontar la mehor arquitectura pra la cabeza del modelo hay herramientas como Comet.ml que hacen esto.\n",
        "\n",
        "Otro punto a abordar sería el desbalanceo del dataset. Hay diferentes formas de abordar esto, uan es la que he tomado yo que consiste en dalrle diferente peso  a las clases, pero hay otras que quizá den mejor resultado, como undersampling, oversamplin o utilizar datos sintéticos. Otra forma de abordar el problemas seria utilizar una loss diferente al binary crossentropy que penalice más los fallos en clases minoritarias, focal loss es usada para estos casos.\n",
        "\n",
        "Finalmente, también se podríam usar modelos de Transformer más potentes como RoBERTa o XML, o incluso hacer un esemble con diferentes modelos de machine learning clásico como los que he desarrollado, para esto es importante que cada modelo sea bueno en una cosa diferente."
      ],
      "metadata": {
        "id": "AnF_yuoKVo5B"
      }
    }
  ]
}